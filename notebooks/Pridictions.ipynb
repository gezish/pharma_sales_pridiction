{
 "cells": [
  {
   "cell_type": "markdown",
   "metadata": {},
   "source": [
    "# Prediction of Pharmaceutical Sales "
   ]
  },
  {
   "cell_type": "markdown",
   "metadata": {},
   "source": [
    "### Objective:\n",
    "- Merging both training and test data with the store data.\n",
    "- Select and create main features and get them ready for training. \n",
    "- See which features has impact in this analysis from the selected features."
   ]
  },
  {
   "cell_type": "markdown",
   "metadata": {},
   "source": [
    "## Imports"
   ]
  },
  {
   "cell_type": "code",
   "execution_count": 116,
   "metadata": {},
   "outputs": [],
   "source": [
    "#pip install tensorflow"
   ]
  },
  {
   "cell_type": "code",
   "execution_count": 117,
   "metadata": {},
   "outputs": [],
   "source": [
    "import numpy as np\n",
    "import pandas as pd\n",
    "import mlflow\n",
    "import warnings\n",
    "import pickle\n",
    "import matplotlib.pyplot as plt\n",
    "from matplotlib.gridspec import GridSpec\n",
    "from matplotlib import ticker\n",
    "from statsmodels.tsa.stattools import adfuller, acf, pacf\n",
    "from sklearn.preprocessing import MinMaxScaler\n",
    "from sklearn.preprocessing import StandardScaler\n",
    "import tensorflow as tf\n",
    "from tensorflow.keras.models import Sequential\n",
    "from tensorflow.keras.layers import Dense\n",
    "from tensorflow.keras.layers import LSTM\n",
    "import os, sys"
   ]
  },
  {
   "cell_type": "code",
   "execution_count": 118,
   "metadata": {},
   "outputs": [],
   "source": [
    "from lightgbm import LGBMRegressor"
   ]
  },
  {
   "cell_type": "code",
   "execution_count": 119,
   "metadata": {},
   "outputs": [],
   "source": [
    "# sns.set()\n",
    "%matplotlib inline\n",
    "warnings.filterwarnings(\"ignore\")"
   ]
  },
  {
   "cell_type": "code",
   "execution_count": 120,
   "metadata": {},
   "outputs": [],
   "source": [
    "sys.path.append(os.path.abspath(os.path.join('../modules')))\n",
    "from load_file import FileHandler\n",
    "#from load_file import FileHandler\n",
    "#from vis_seaborn import VisSeaborn\n",
    "#from vis_plotly import VisPlotly"
   ]
  },
  {
   "cell_type": "code",
   "execution_count": 121,
   "metadata": {},
   "outputs": [],
   "source": [
    "file_loader = FileHandler()\n"
   ]
  },
  {
   "cell_type": "markdown",
   "metadata": {},
   "source": [
    "## Preprocessing"
   ]
  },
  {
   "cell_type": "code",
   "execution_count": 122,
   "metadata": {},
   "outputs": [
    {
     "name": "stdout",
     "output_type": "stream",
     "text": [
      "2022-05-28 12:26:13,435 — DfHelper — DEBUG — file read as csv\n"
     ]
    },
    {
     "name": "stderr",
     "output_type": "stream",
     "text": [
      "--- Logging error ---\n",
      "Traceback (most recent call last):\n",
      "  File \"C:\\Users\\Gezahegne\\anaconda3\\lib\\logging\\handlers.py\", line 74, in emit\n",
      "    self.doRollover()\n",
      "  File \"C:\\Users\\Gezahegne\\anaconda3\\lib\\logging\\handlers.py\", line 428, in doRollover\n",
      "    self.rotate(self.baseFilename, dfn)\n",
      "  File \"C:\\Users\\Gezahegne\\anaconda3\\lib\\logging\\handlers.py\", line 115, in rotate\n",
      "    os.rename(source, dest)\n",
      "PermissionError: [WinError 32] The process cannot access the file because it is being used by another process: 'C:\\\\Users\\\\Gezahegne\\\\10-Accademy\\\\Week-3\\\\pharma_sales_pridiction\\\\notebooks\\\\my_app_logs.log' -> 'C:\\\\Users\\\\Gezahegne\\\\10-Accademy\\\\Week-3\\\\pharma_sales_pridiction\\\\notebooks\\\\my_app_logs.log.2022-05-25'\n",
      "Call stack:\n",
      "  File \"C:\\Users\\Gezahegne\\anaconda3\\lib\\runpy.py\", line 197, in _run_module_as_main\n",
      "    return _run_code(code, main_globals, None,\n",
      "  File \"C:\\Users\\Gezahegne\\anaconda3\\lib\\runpy.py\", line 87, in _run_code\n",
      "    exec(code, run_globals)\n",
      "  File \"C:\\Users\\Gezahegne\\anaconda3\\lib\\site-packages\\ipykernel_launcher.py\", line 16, in <module>\n",
      "    app.launch_new_instance()\n",
      "  File \"C:\\Users\\Gezahegne\\anaconda3\\lib\\site-packages\\traitlets\\config\\application.py\", line 846, in launch_instance\n",
      "    app.start()\n",
      "  File \"C:\\Users\\Gezahegne\\anaconda3\\lib\\site-packages\\ipykernel\\kernelapp.py\", line 677, in start\n",
      "    self.io_loop.start()\n",
      "  File \"C:\\Users\\Gezahegne\\anaconda3\\lib\\site-packages\\tornado\\platform\\asyncio.py\", line 199, in start\n",
      "    self.asyncio_loop.run_forever()\n",
      "  File \"C:\\Users\\Gezahegne\\anaconda3\\lib\\asyncio\\base_events.py\", line 601, in run_forever\n",
      "    self._run_once()\n",
      "  File \"C:\\Users\\Gezahegne\\anaconda3\\lib\\asyncio\\base_events.py\", line 1905, in _run_once\n",
      "    handle._run()\n",
      "  File \"C:\\Users\\Gezahegne\\anaconda3\\lib\\asyncio\\events.py\", line 80, in _run\n",
      "    self._context.run(self._callback, *self._args)\n",
      "  File \"C:\\Users\\Gezahegne\\anaconda3\\lib\\site-packages\\ipykernel\\kernelbase.py\", line 471, in dispatch_queue\n",
      "    await self.process_one()\n",
      "  File \"C:\\Users\\Gezahegne\\anaconda3\\lib\\site-packages\\ipykernel\\kernelbase.py\", line 460, in process_one\n",
      "    await dispatch(*args)\n",
      "  File \"C:\\Users\\Gezahegne\\anaconda3\\lib\\site-packages\\ipykernel\\kernelbase.py\", line 367, in dispatch_shell\n",
      "    await result\n",
      "  File \"C:\\Users\\Gezahegne\\anaconda3\\lib\\site-packages\\ipykernel\\kernelbase.py\", line 662, in execute_request\n",
      "    reply_content = await reply_content\n",
      "  File \"C:\\Users\\Gezahegne\\anaconda3\\lib\\site-packages\\ipykernel\\ipkernel.py\", line 360, in do_execute\n",
      "    res = shell.run_cell(code, store_history=store_history, silent=silent)\n",
      "  File \"C:\\Users\\Gezahegne\\anaconda3\\lib\\site-packages\\ipykernel\\zmqshell.py\", line 532, in run_cell\n",
      "    return super().run_cell(*args, **kwargs)\n",
      "  File \"C:\\Users\\Gezahegne\\anaconda3\\lib\\site-packages\\IPython\\core\\interactiveshell.py\", line 2863, in run_cell\n",
      "    result = self._run_cell(\n",
      "  File \"C:\\Users\\Gezahegne\\anaconda3\\lib\\site-packages\\IPython\\core\\interactiveshell.py\", line 2909, in _run_cell\n",
      "    return runner(coro)\n",
      "  File \"C:\\Users\\Gezahegne\\anaconda3\\lib\\site-packages\\IPython\\core\\async_helpers.py\", line 129, in _pseudo_sync_runner\n",
      "    coro.send(None)\n",
      "  File \"C:\\Users\\Gezahegne\\anaconda3\\lib\\site-packages\\IPython\\core\\interactiveshell.py\", line 3106, in run_cell_async\n",
      "    has_raised = await self.run_ast_nodes(code_ast.body, cell_name,\n",
      "  File \"C:\\Users\\Gezahegne\\anaconda3\\lib\\site-packages\\IPython\\core\\interactiveshell.py\", line 3309, in run_ast_nodes\n",
      "    if await self.run_code(code, result, async_=asy):\n",
      "  File \"C:\\Users\\Gezahegne\\anaconda3\\lib\\site-packages\\IPython\\core\\interactiveshell.py\", line 3369, in run_code\n",
      "    exec(code_obj, self.user_global_ns, self.user_ns)\n",
      "  File \"C:\\Users\\Gezahegne\\AppData\\Local\\Temp\\ipykernel_6740\\2348903256.py\", line 1, in <cell line: 1>\n",
      "    train_sales = file_loader.read_csv(\"../data/train.csv\")\n",
      "  File \"C:\\Users\\Gezahegne\\10-Accademy\\Week-3\\pharma_sales_pridiction\\modules\\load_file.py\", line 38, in read_csv\n",
      "    my_logger.debug(\"file read as csv\")\n",
      "Message: 'file read as csv'\n",
      "Arguments: ()\n"
     ]
    }
   ],
   "source": [
    "train_sales = file_loader.read_csv(\"../data/train.csv\")"
   ]
  },
  {
   "cell_type": "code",
   "execution_count": 123,
   "metadata": {},
   "outputs": [
    {
     "data": {
      "text/html": [
       "<div>\n",
       "<style scoped>\n",
       "    .dataframe tbody tr th:only-of-type {\n",
       "        vertical-align: middle;\n",
       "    }\n",
       "\n",
       "    .dataframe tbody tr th {\n",
       "        vertical-align: top;\n",
       "    }\n",
       "\n",
       "    .dataframe thead th {\n",
       "        text-align: right;\n",
       "    }\n",
       "</style>\n",
       "<table border=\"1\" class=\"dataframe\">\n",
       "  <thead>\n",
       "    <tr style=\"text-align: right;\">\n",
       "      <th></th>\n",
       "      <th>Sales</th>\n",
       "    </tr>\n",
       "    <tr>\n",
       "      <th>Date</th>\n",
       "      <th></th>\n",
       "    </tr>\n",
       "  </thead>\n",
       "  <tbody>\n",
       "    <tr>\n",
       "      <th>2013-01-01</th>\n",
       "      <td>84.40</td>\n",
       "    </tr>\n",
       "    <tr>\n",
       "      <th>2013-01-02</th>\n",
       "      <td>6178.52</td>\n",
       "    </tr>\n",
       "    <tr>\n",
       "      <th>2013-01-03</th>\n",
       "      <td>5660.17</td>\n",
       "    </tr>\n",
       "    <tr>\n",
       "      <th>2013-01-04</th>\n",
       "      <td>5923.14</td>\n",
       "    </tr>\n",
       "    <tr>\n",
       "      <th>2013-01-05</th>\n",
       "      <td>5299.05</td>\n",
       "    </tr>\n",
       "    <tr>\n",
       "      <th>...</th>\n",
       "      <td>...</td>\n",
       "    </tr>\n",
       "    <tr>\n",
       "      <th>2015-07-27</th>\n",
       "      <td>9371.97</td>\n",
       "    </tr>\n",
       "    <tr>\n",
       "      <th>2015-07-28</th>\n",
       "      <td>8066.85</td>\n",
       "    </tr>\n",
       "    <tr>\n",
       "      <th>2015-07-29</th>\n",
       "      <td>7545.02</td>\n",
       "    </tr>\n",
       "    <tr>\n",
       "      <th>2015-07-30</th>\n",
       "      <td>7811.83</td>\n",
       "    </tr>\n",
       "    <tr>\n",
       "      <th>2015-07-31</th>\n",
       "      <td>8888.93</td>\n",
       "    </tr>\n",
       "  </tbody>\n",
       "</table>\n",
       "<p>942 rows × 1 columns</p>\n",
       "</div>"
      ],
      "text/plain": [
       "             Sales\n",
       "Date              \n",
       "2013-01-01   84.40\n",
       "2013-01-02 6178.52\n",
       "2013-01-03 5660.17\n",
       "2013-01-04 5923.14\n",
       "2013-01-05 5299.05\n",
       "...            ...\n",
       "2015-07-27 9371.97\n",
       "2015-07-28 8066.85\n",
       "2015-07-29 7545.02\n",
       "2015-07-30 7811.83\n",
       "2015-07-31 8888.93\n",
       "\n",
       "[942 rows x 1 columns]"
      ]
     },
     "execution_count": 123,
     "metadata": {},
     "output_type": "execute_result"
    }
   ],
   "source": [
    "data = train_sales.groupby(\"Date\").agg({\"Sales\": \"mean\"})\n",
    "data"
   ]
  },
  {
   "cell_type": "code",
   "execution_count": 124,
   "metadata": {},
   "outputs": [],
   "source": [
    "scaler = StandardScaler()\n",
    "scaled_array = scaler.fit_transform(data)\n",
    "data['DataScaled'] = scaled_array"
   ]
  },
  {
   "cell_type": "code",
   "execution_count": 125,
   "metadata": {},
   "outputs": [],
   "source": [
    "SIZE = len(data.DataScaled)\n",
    "WINDOW_SIZE = 48\n",
    "BATCH_SIZE = SIZE - WINDOW_SIZE * 2\n",
    "EPOCHS = 200"
   ]
  },
  {
   "cell_type": "code",
   "execution_count": 126,
   "metadata": {},
   "outputs": [
    {
     "name": "stdout",
     "output_type": "stream",
     "text": [
      "Shape of the training set date series:  (846, 1)\n",
      "Shape of the validation set date series:  (96, 1)\n",
      "\n",
      "Shape of the training set logarithm of sales series:  (846,)\n",
      "Shape of the validation set logarithm of sales series in a stateless LSTM:  (96,)\n"
     ]
    }
   ],
   "source": [
    "DateTrain = data.index.values[0:BATCH_SIZE]\n",
    "DateValid = data.index.values[BATCH_SIZE:]\n",
    "XTrain = data.DataScaled.values[0:BATCH_SIZE].astype('float32')\n",
    "XValid = data.DataScaled.values[BATCH_SIZE:].astype('float32')\n",
    "\n",
    "# Obtain shapes for vectors of size (,1) for dates series\n",
    "\n",
    "DateTrain = np.reshape(DateTrain, (-1, 1))\n",
    "DateValid = np.reshape(DateValid, (-1, 1))\n",
    "\n",
    "print(\"Shape of the training set date series: \", DateTrain.shape)\n",
    "print(\"Shape of the validation set date series: \", DateValid.shape)\n",
    "print()\n",
    "print(\"Shape of the training set logarithm of sales series: \", XTrain.shape)\n",
    "print(\"Shape of the validation set logarithm of sales series in a stateless LSTM: \", XValid.shape)\n"
   ]
  },
  {
   "cell_type": "code",
   "execution_count": 127,
   "metadata": {},
   "outputs": [
    {
     "data": {
      "text/plain": [
       "TensorShape([846, 1])"
      ]
     },
     "execution_count": 127,
     "metadata": {},
     "output_type": "execute_result"
    }
   ],
   "source": [
    "tf.random.set_seed(1234)\n",
    "# add extra dimension\n",
    "series = tf.expand_dims(XTrain, axis=-1)\n",
    "series.shape"
   ]
  },
  {
   "cell_type": "code",
   "execution_count": 128,
   "metadata": {},
   "outputs": [
    {
     "data": {
      "text/plain": [
       "<TensorSliceDataset element_spec=TensorSpec(shape=(1,), dtype=tf.float32, name=None)>"
      ]
     },
     "execution_count": 128,
     "metadata": {},
     "output_type": "execute_result"
    }
   ],
   "source": [
    "# create tensor from each individual element\n",
    "dataset = tf.data.Dataset.from_tensor_slices(series)\n",
    "dataset"
   ]
  },
  {
   "cell_type": "code",
   "execution_count": 129,
   "metadata": {},
   "outputs": [],
   "source": [
    "# takes a window_size + 1 chunk from the slices\n",
    "dataset = dataset.window(WINDOW_SIZE + 1, shift=1, drop_remainder=True)"
   ]
  },
  {
   "cell_type": "code",
   "execution_count": 130,
   "metadata": {},
   "outputs": [
    {
     "name": "stdout",
     "output_type": "stream",
     "text": [
      "[0, 1, 2, 3, 4]\n",
      "[1, 2, 3, 4, 5]\n",
      "[2, 3, 4, 5, 6]\n",
      "[3, 4, 5, 6, 7]\n",
      "[4, 5, 6, 7, 8]\n",
      "[5, 6, 7, 8, 9]\n"
     ]
    }
   ],
   "source": [
    "datasetEx = tf.data.Dataset.from_tensor_slices(tf.range(10))\n",
    "datasetEx = datasetEx.window(5, shift=1, drop_remainder=True)\n",
    "for window in datasetEx:\n",
    "    print([elem.numpy() for elem in window])"
   ]
  },
  {
   "cell_type": "code",
   "execution_count": 131,
   "metadata": {},
   "outputs": [],
   "source": [
    "dataset = dataset.flat_map(lambda window: window.batch(WINDOW_SIZE + 1))"
   ]
  },
  {
   "cell_type": "code",
   "execution_count": 132,
   "metadata": {},
   "outputs": [],
   "source": [
    "dataset = dataset.map(lambda window: (window[:-1], window[-1:]))"
   ]
  },
  {
   "cell_type": "code",
   "execution_count": 133,
   "metadata": {},
   "outputs": [],
   "source": [
    "dataset = dataset.batch(BATCH_SIZE).prefetch(1)"
   ]
  },
  {
   "cell_type": "code",
   "execution_count": 134,
   "metadata": {},
   "outputs": [],
   "source": [
    "def windowed_dataset(series, window_size=WINDOW_SIZE, batch_size=BATCH_SIZE):\n",
    "  series = tf.expand_dims(series, axis=-1)\n",
    "  dataset = tf.data.Dataset.from_tensor_slices(series)\n",
    "  dataset = dataset.window(window_size + 1, shift=1, drop_remainder=True)\n",
    "  dataset = dataset.flat_map(lambda window: window.batch(window_size + 1))\n",
    "  dataset = dataset.map(lambda window: (window[:-1], window[-1:]))\n",
    "  dataset = dataset.batch(batch_size).prefetch(1)\n",
    "  return dataset"
   ]
  },
  {
   "cell_type": "code",
   "execution_count": 135,
   "metadata": {},
   "outputs": [],
   "source": [
    "DatasetTrain = windowed_dataset(XTrain)\n",
    "DatasetVal = windowed_dataset(XValid)"
   ]
  },
  {
   "cell_type": "code",
   "execution_count": 136,
   "metadata": {},
   "outputs": [],
   "source": [
    "# Model training"
   ]
  },
  {
   "cell_type": "code",
   "execution_count": 137,
   "metadata": {},
   "outputs": [],
   "source": [
    "model = Sequential()\n",
    "model.add(LSTM(8, input_shape=[None, 1], return_sequences=True))\n",
    "model.add(LSTM(4, input_shape=[None, 1]))\n",
    "model.add(Dense(1))\n",
    "model.compile(loss=\"huber_loss\", optimizer='adam')"
   ]
  },
  {
   "cell_type": "code",
   "execution_count": 138,
   "metadata": {},
   "outputs": [
    {
     "name": "stdout",
     "output_type": "stream",
     "text": [
      "Model: \"sequential_1\"\n",
      "_________________________________________________________________\n",
      " Layer (type)                Output Shape              Param #   \n",
      "=================================================================\n",
      " lstm_2 (LSTM)               (None, None, 8)           320       \n",
      "                                                                 \n",
      " lstm_3 (LSTM)               (None, 4)                 208       \n",
      "                                                                 \n",
      " dense_1 (Dense)             (None, 1)                 5         \n",
      "                                                                 \n",
      "=================================================================\n",
      "Total params: 533\n",
      "Trainable params: 533\n",
      "Non-trainable params: 0\n",
      "_________________________________________________________________\n"
     ]
    }
   ],
   "source": [
    "model.summary()"
   ]
  },
  {
   "cell_type": "code",
   "execution_count": 139,
   "metadata": {},
   "outputs": [
    {
     "name": "stderr",
     "output_type": "stream",
     "text": [
      "2022/05/28 12:28:02 WARNING mlflow.utils.autologging_utils: You are using an unsupported version of tensorflow. If you encounter errors during autologging, try upgrading / downgrading tensorflow to a supported version, or try upgrading MLflow.\n",
      "2022/05/28 12:28:05 INFO mlflow.utils.autologging_utils: Created MLflow autologging run with ID 'f3fd7a3fe7f749fd98f60809f292a2fb', which will track hyperparameters, performance metrics, model artifacts, and lineage information for the current tensorflow workflow\n"
     ]
    },
    {
     "name": "stdout",
     "output_type": "stream",
     "text": [
      "Epoch 1/200\n",
      "1/1 [==============================] - 144s 144s/step - loss: 0.4080 - val_loss: 0.3980\n",
      "Epoch 2/200\n",
      "1/1 [==============================] - 1s 1s/step - loss: 0.4072 - val_loss: 0.3966\n",
      "Epoch 3/200\n",
      "1/1 [==============================] - 1s 584ms/step - loss: 0.4064 - val_loss: 0.3952\n",
      "Epoch 4/200\n",
      "1/1 [==============================] - 0s 326ms/step - loss: 0.4056 - val_loss: 0.3938\n",
      "Epoch 5/200\n",
      "1/1 [==============================] - 1s 514ms/step - loss: 0.4048 - val_loss: 0.3925\n",
      "Epoch 6/200\n",
      "1/1 [==============================] - 1s 631ms/step - loss: 0.4041 - val_loss: 0.3911\n",
      "Epoch 7/200\n",
      "1/1 [==============================] - 0s 333ms/step - loss: 0.4034 - val_loss: 0.3897\n",
      "Epoch 8/200\n",
      "1/1 [==============================] - 0s 338ms/step - loss: 0.4027 - val_loss: 0.3884\n",
      "Epoch 9/200\n",
      "1/1 [==============================] - 0s 396ms/step - loss: 0.4020 - val_loss: 0.3870\n",
      "Epoch 10/200\n",
      "1/1 [==============================] - 0s 320ms/step - loss: 0.4013 - val_loss: 0.3857\n",
      "Epoch 11/200\n",
      "1/1 [==============================] - 0s 269ms/step - loss: 0.4006 - val_loss: 0.3843\n",
      "Epoch 12/200\n",
      "1/1 [==============================] - 0s 271ms/step - loss: 0.4000 - val_loss: 0.3830\n",
      "Epoch 13/200\n",
      "1/1 [==============================] - 0s 328ms/step - loss: 0.3994 - val_loss: 0.3817\n",
      "Epoch 14/200\n",
      "1/1 [==============================] - 0s 300ms/step - loss: 0.3988 - val_loss: 0.3804\n",
      "Epoch 15/200\n",
      "1/1 [==============================] - 0s 291ms/step - loss: 0.3983 - val_loss: 0.3791\n",
      "Epoch 16/200\n",
      "1/1 [==============================] - 0s 401ms/step - loss: 0.3977 - val_loss: 0.3778\n",
      "Epoch 17/200\n",
      "1/1 [==============================] - 0s 299ms/step - loss: 0.3972 - val_loss: 0.3765\n",
      "Epoch 18/200\n",
      "1/1 [==============================] - 0s 381ms/step - loss: 0.3967 - val_loss: 0.3752\n",
      "Epoch 19/200\n",
      "1/1 [==============================] - 0s 328ms/step - loss: 0.3962 - val_loss: 0.3740\n",
      "Epoch 20/200\n",
      "1/1 [==============================] - 0s 261ms/step - loss: 0.3958 - val_loss: 0.3727\n",
      "Epoch 21/200\n",
      "1/1 [==============================] - 0s 262ms/step - loss: 0.3954 - val_loss: 0.3715\n",
      "Epoch 22/200\n",
      "1/1 [==============================] - 0s 257ms/step - loss: 0.3950 - val_loss: 0.3703\n",
      "Epoch 23/200\n",
      "1/1 [==============================] - 1s 547ms/step - loss: 0.3946 - val_loss: 0.3691\n",
      "Epoch 24/200\n",
      "1/1 [==============================] - 0s 314ms/step - loss: 0.3943 - val_loss: 0.3680\n",
      "Epoch 25/200\n",
      "1/1 [==============================] - 0s 216ms/step - loss: 0.3939 - val_loss: 0.3668\n",
      "Epoch 26/200\n",
      "1/1 [==============================] - 0s 213ms/step - loss: 0.3937 - val_loss: 0.3658\n",
      "Epoch 27/200\n",
      "1/1 [==============================] - 0s 356ms/step - loss: 0.3934 - val_loss: 0.3647\n",
      "Epoch 28/200\n",
      "1/1 [==============================] - 0s 254ms/step - loss: 0.3932 - val_loss: 0.3637\n",
      "Epoch 29/200\n",
      "1/1 [==============================] - 0s 248ms/step - loss: 0.3930 - val_loss: 0.3627\n",
      "Epoch 30/200\n",
      "1/1 [==============================] - 0s 341ms/step - loss: 0.3928 - val_loss: 0.3618\n",
      "Epoch 31/200\n",
      "1/1 [==============================] - 0s 386ms/step - loss: 0.3926 - val_loss: 0.3609\n",
      "Epoch 32/200\n",
      "1/1 [==============================] - 0s 236ms/step - loss: 0.3924 - val_loss: 0.3600\n",
      "Epoch 33/200\n",
      "1/1 [==============================] - 0s 241ms/step - loss: 0.3923 - val_loss: 0.3593\n",
      "Epoch 34/200\n",
      "1/1 [==============================] - 0s 371ms/step - loss: 0.3922 - val_loss: 0.3586\n",
      "Epoch 35/200\n",
      "1/1 [==============================] - 0s 245ms/step - loss: 0.3920 - val_loss: 0.3579\n",
      "Epoch 36/200\n",
      "1/1 [==============================] - 0s 274ms/step - loss: 0.3919 - val_loss: 0.3573\n",
      "Epoch 37/200\n",
      "1/1 [==============================] - 0s 337ms/step - loss: 0.3917 - val_loss: 0.3568\n",
      "Epoch 38/200\n",
      "1/1 [==============================] - 0s 260ms/step - loss: 0.3916 - val_loss: 0.3563\n",
      "Epoch 39/200\n",
      "1/1 [==============================] - 0s 290ms/step - loss: 0.3914 - val_loss: 0.3559\n",
      "Epoch 40/200\n",
      "1/1 [==============================] - 0s 267ms/step - loss: 0.3913 - val_loss: 0.3556\n",
      "Epoch 41/200\n",
      "1/1 [==============================] - 0s 241ms/step - loss: 0.3911 - val_loss: 0.3553\n",
      "Epoch 42/200\n",
      "1/1 [==============================] - 0s 265ms/step - loss: 0.3909 - val_loss: 0.3551\n",
      "Epoch 43/200\n",
      "1/1 [==============================] - 0s 258ms/step - loss: 0.3907 - val_loss: 0.3549\n",
      "Epoch 44/200\n",
      "1/1 [==============================] - 0s 254ms/step - loss: 0.3905 - val_loss: 0.3548\n",
      "Epoch 45/200\n",
      "1/1 [==============================] - 0s 266ms/step - loss: 0.3904 - val_loss: 0.3547\n",
      "Epoch 46/200\n",
      "1/1 [==============================] - 0s 250ms/step - loss: 0.3902 - val_loss: 0.3547\n",
      "Epoch 47/200\n",
      "1/1 [==============================] - 0s 302ms/step - loss: 0.3900 - val_loss: 0.3547\n",
      "Epoch 48/200\n",
      "1/1 [==============================] - 0s 284ms/step - loss: 0.3898 - val_loss: 0.3547\n",
      "Epoch 49/200\n",
      "1/1 [==============================] - 0s 358ms/step - loss: 0.3896 - val_loss: 0.3547\n",
      "Epoch 50/200\n",
      "1/1 [==============================] - 0s 318ms/step - loss: 0.3894 - val_loss: 0.3547\n",
      "Epoch 51/200\n",
      "1/1 [==============================] - 0s 305ms/step - loss: 0.3892 - val_loss: 0.3547\n",
      "Epoch 52/200\n",
      "1/1 [==============================] - 0s 288ms/step - loss: 0.3890 - val_loss: 0.3547\n",
      "Epoch 53/200\n",
      "1/1 [==============================] - 0s 260ms/step - loss: 0.3888 - val_loss: 0.3546\n",
      "Epoch 54/200\n",
      "1/1 [==============================] - 0s 300ms/step - loss: 0.3886 - val_loss: 0.3546\n",
      "Epoch 55/200\n",
      "1/1 [==============================] - 0s 275ms/step - loss: 0.3884 - val_loss: 0.3545\n",
      "Epoch 56/200\n",
      "1/1 [==============================] - 0s 275ms/step - loss: 0.3882 - val_loss: 0.3543\n",
      "Epoch 57/200\n",
      "1/1 [==============================] - 0s 280ms/step - loss: 0.3880 - val_loss: 0.3542\n",
      "Epoch 58/200\n",
      "1/1 [==============================] - 0s 299ms/step - loss: 0.3878 - val_loss: 0.3540\n",
      "Epoch 59/200\n",
      "1/1 [==============================] - 0s 262ms/step - loss: 0.3876 - val_loss: 0.3537\n",
      "Epoch 60/200\n",
      "1/1 [==============================] - 0s 293ms/step - loss: 0.3874 - val_loss: 0.3534\n",
      "Epoch 61/200\n",
      "1/1 [==============================] - 0s 303ms/step - loss: 0.3872 - val_loss: 0.3531\n",
      "Epoch 62/200\n",
      "1/1 [==============================] - 0s 247ms/step - loss: 0.3870 - val_loss: 0.3527\n",
      "Epoch 63/200\n",
      "1/1 [==============================] - 0s 347ms/step - loss: 0.3868 - val_loss: 0.3522\n",
      "Epoch 64/200\n",
      "1/1 [==============================] - 0s 261ms/step - loss: 0.3866 - val_loss: 0.3517\n",
      "Epoch 65/200\n",
      "1/1 [==============================] - 0s 304ms/step - loss: 0.3864 - val_loss: 0.3512\n",
      "Epoch 66/200\n",
      "1/1 [==============================] - 0s 398ms/step - loss: 0.3862 - val_loss: 0.3506\n",
      "Epoch 67/200\n",
      "1/1 [==============================] - 0s 258ms/step - loss: 0.3860 - val_loss: 0.3501\n",
      "Epoch 68/200\n",
      "1/1 [==============================] - 0s 264ms/step - loss: 0.3858 - val_loss: 0.3495\n",
      "Epoch 69/200\n",
      "1/1 [==============================] - 0s 252ms/step - loss: 0.3855 - val_loss: 0.3489\n",
      "Epoch 70/200\n",
      "1/1 [==============================] - 0s 298ms/step - loss: 0.3853 - val_loss: 0.3482\n",
      "Epoch 71/200\n",
      "1/1 [==============================] - 0s 250ms/step - loss: 0.3851 - val_loss: 0.3476\n",
      "Epoch 72/200\n",
      "1/1 [==============================] - 0s 218ms/step - loss: 0.3849 - val_loss: 0.3470\n",
      "Epoch 73/200\n",
      "1/1 [==============================] - 0s 232ms/step - loss: 0.3846 - val_loss: 0.3464\n",
      "Epoch 74/200\n",
      "1/1 [==============================] - 0s 237ms/step - loss: 0.3844 - val_loss: 0.3458\n",
      "Epoch 75/200\n",
      "1/1 [==============================] - 0s 238ms/step - loss: 0.3842 - val_loss: 0.3452\n",
      "Epoch 76/200\n",
      "1/1 [==============================] - 0s 271ms/step - loss: 0.3839 - val_loss: 0.3447\n",
      "Epoch 77/200\n",
      "1/1 [==============================] - 0s 257ms/step - loss: 0.3837 - val_loss: 0.3442\n",
      "Epoch 78/200\n",
      "1/1 [==============================] - 0s 243ms/step - loss: 0.3834 - val_loss: 0.3437\n",
      "Epoch 79/200\n",
      "1/1 [==============================] - 0s 233ms/step - loss: 0.3832 - val_loss: 0.3432\n",
      "Epoch 80/200\n",
      "1/1 [==============================] - 0s 210ms/step - loss: 0.3829 - val_loss: 0.3428\n",
      "Epoch 81/200\n",
      "1/1 [==============================] - 0s 255ms/step - loss: 0.3827 - val_loss: 0.3424\n",
      "Epoch 82/200\n",
      "1/1 [==============================] - 0s 283ms/step - loss: 0.3824 - val_loss: 0.3420\n",
      "Epoch 83/200\n"
     ]
    },
    {
     "name": "stdout",
     "output_type": "stream",
     "text": [
      "1/1 [==============================] - 0s 252ms/step - loss: 0.3822 - val_loss: 0.3417\n",
      "Epoch 84/200\n",
      "1/1 [==============================] - 0s 246ms/step - loss: 0.3819 - val_loss: 0.3413\n",
      "Epoch 85/200\n",
      "1/1 [==============================] - 0s 261ms/step - loss: 0.3816 - val_loss: 0.3410\n",
      "Epoch 86/200\n",
      "1/1 [==============================] - 0s 249ms/step - loss: 0.3814 - val_loss: 0.3406\n",
      "Epoch 87/200\n",
      "1/1 [==============================] - 0s 258ms/step - loss: 0.3811 - val_loss: 0.3402\n",
      "Epoch 88/200\n",
      "1/1 [==============================] - 0s 261ms/step - loss: 0.3808 - val_loss: 0.3398\n",
      "Epoch 89/200\n",
      "1/1 [==============================] - 0s 265ms/step - loss: 0.3805 - val_loss: 0.3394\n",
      "Epoch 90/200\n",
      "1/1 [==============================] - 0s 255ms/step - loss: 0.3803 - val_loss: 0.3390\n",
      "Epoch 91/200\n",
      "1/1 [==============================] - 0s 261ms/step - loss: 0.3800 - val_loss: 0.3386\n",
      "Epoch 92/200\n",
      "1/1 [==============================] - 0s 249ms/step - loss: 0.3797 - val_loss: 0.3381\n",
      "Epoch 93/200\n",
      "1/1 [==============================] - 0s 252ms/step - loss: 0.3794 - val_loss: 0.3376\n",
      "Epoch 94/200\n",
      "1/1 [==============================] - 0s 219ms/step - loss: 0.3791 - val_loss: 0.3371\n",
      "Epoch 95/200\n",
      "1/1 [==============================] - 0s 203ms/step - loss: 0.3788 - val_loss: 0.3366\n",
      "Epoch 96/200\n",
      "1/1 [==============================] - 0s 265ms/step - loss: 0.3785 - val_loss: 0.3361\n",
      "Epoch 97/200\n",
      "1/1 [==============================] - 0s 314ms/step - loss: 0.3782 - val_loss: 0.3356\n",
      "Epoch 98/200\n",
      "1/1 [==============================] - 0s 254ms/step - loss: 0.3779 - val_loss: 0.3351\n",
      "Epoch 99/200\n",
      "1/1 [==============================] - 0s 216ms/step - loss: 0.3776 - val_loss: 0.3346\n",
      "Epoch 100/200\n",
      "1/1 [==============================] - 0s 298ms/step - loss: 0.3774 - val_loss: 0.3341\n",
      "Epoch 101/200\n",
      "1/1 [==============================] - 0s 288ms/step - loss: 0.3771 - val_loss: 0.3336\n",
      "Epoch 102/200\n",
      "1/1 [==============================] - 0s 266ms/step - loss: 0.3768 - val_loss: 0.3331\n",
      "Epoch 103/200\n",
      "1/1 [==============================] - 0s 355ms/step - loss: 0.3765 - val_loss: 0.3326\n",
      "Epoch 104/200\n",
      "1/1 [==============================] - 0s 287ms/step - loss: 0.3762 - val_loss: 0.3322\n",
      "Epoch 105/200\n",
      "1/1 [==============================] - 0s 248ms/step - loss: 0.3759 - val_loss: 0.3317\n",
      "Epoch 106/200\n",
      "1/1 [==============================] - 0s 252ms/step - loss: 0.3756 - val_loss: 0.3312\n",
      "Epoch 107/200\n",
      "1/1 [==============================] - 0s 256ms/step - loss: 0.3753 - val_loss: 0.3308\n",
      "Epoch 108/200\n",
      "1/1 [==============================] - 0s 248ms/step - loss: 0.3750 - val_loss: 0.3303\n",
      "Epoch 109/200\n",
      "1/1 [==============================] - 0s 260ms/step - loss: 0.3747 - val_loss: 0.3298\n",
      "Epoch 110/200\n",
      "1/1 [==============================] - 0s 260ms/step - loss: 0.3744 - val_loss: 0.3293\n",
      "Epoch 111/200\n",
      "1/1 [==============================] - 0s 271ms/step - loss: 0.3741 - val_loss: 0.3288\n",
      "Epoch 112/200\n",
      "1/1 [==============================] - 0s 274ms/step - loss: 0.3738 - val_loss: 0.3282\n",
      "Epoch 113/200\n",
      "1/1 [==============================] - 0s 254ms/step - loss: 0.3735 - val_loss: 0.3277\n",
      "Epoch 114/200\n",
      "1/1 [==============================] - 0s 288ms/step - loss: 0.3732 - val_loss: 0.3271\n",
      "Epoch 115/200\n",
      "1/1 [==============================] - 0s 255ms/step - loss: 0.3729 - val_loss: 0.3266\n",
      "Epoch 116/200\n",
      "1/1 [==============================] - 0s 257ms/step - loss: 0.3726 - val_loss: 0.3260\n",
      "Epoch 117/200\n",
      "1/1 [==============================] - 0s 263ms/step - loss: 0.3723 - val_loss: 0.3255\n",
      "Epoch 118/200\n",
      "1/1 [==============================] - 0s 270ms/step - loss: 0.3720 - val_loss: 0.3250\n",
      "Epoch 119/200\n",
      "1/1 [==============================] - 0s 266ms/step - loss: 0.3717 - val_loss: 0.3245\n",
      "Epoch 120/200\n",
      "1/1 [==============================] - 0s 262ms/step - loss: 0.3714 - val_loss: 0.3240\n",
      "Epoch 121/200\n",
      "1/1 [==============================] - 0s 265ms/step - loss: 0.3710 - val_loss: 0.3235\n",
      "Epoch 122/200\n",
      "1/1 [==============================] - 0s 265ms/step - loss: 0.3707 - val_loss: 0.3230\n",
      "Epoch 123/200\n",
      "1/1 [==============================] - 0s 269ms/step - loss: 0.3704 - val_loss: 0.3226\n",
      "Epoch 124/200\n",
      "1/1 [==============================] - 0s 291ms/step - loss: 0.3701 - val_loss: 0.3222\n",
      "Epoch 125/200\n",
      "1/1 [==============================] - 0s 269ms/step - loss: 0.3698 - val_loss: 0.3218\n",
      "Epoch 126/200\n",
      "1/1 [==============================] - 0s 306ms/step - loss: 0.3695 - val_loss: 0.3214\n",
      "Epoch 127/200\n",
      "1/1 [==============================] - 0s 212ms/step - loss: 0.3692 - val_loss: 0.3210\n",
      "Epoch 128/200\n",
      "1/1 [==============================] - 0s 229ms/step - loss: 0.3688 - val_loss: 0.3206\n",
      "Epoch 129/200\n",
      "1/1 [==============================] - 0s 228ms/step - loss: 0.3685 - val_loss: 0.3202\n",
      "Epoch 130/200\n",
      "1/1 [==============================] - 0s 329ms/step - loss: 0.3682 - val_loss: 0.3198\n",
      "Epoch 131/200\n",
      "1/1 [==============================] - 0s 306ms/step - loss: 0.3679 - val_loss: 0.3194\n",
      "Epoch 132/200\n",
      "1/1 [==============================] - 0s 265ms/step - loss: 0.3675 - val_loss: 0.3189\n",
      "Epoch 133/200\n",
      "1/1 [==============================] - 0s 276ms/step - loss: 0.3672 - val_loss: 0.3184\n",
      "Epoch 134/200\n",
      "1/1 [==============================] - 0s 250ms/step - loss: 0.3669 - val_loss: 0.3180\n",
      "Epoch 135/200\n",
      "1/1 [==============================] - 0s 260ms/step - loss: 0.3665 - val_loss: 0.3175\n",
      "Epoch 136/200\n",
      "1/1 [==============================] - 0s 274ms/step - loss: 0.3662 - val_loss: 0.3169\n",
      "Epoch 137/200\n",
      "1/1 [==============================] - 0s 269ms/step - loss: 0.3658 - val_loss: 0.3164\n",
      "Epoch 138/200\n",
      "1/1 [==============================] - 0s 280ms/step - loss: 0.3654 - val_loss: 0.3159\n",
      "Epoch 139/200\n",
      "1/1 [==============================] - 0s 264ms/step - loss: 0.3651 - val_loss: 0.3153\n",
      "Epoch 140/200\n",
      "1/1 [==============================] - 0s 268ms/step - loss: 0.3647 - val_loss: 0.3148\n",
      "Epoch 141/200\n",
      "1/1 [==============================] - 0s 258ms/step - loss: 0.3643 - val_loss: 0.3142\n",
      "Epoch 142/200\n",
      "1/1 [==============================] - 0s 276ms/step - loss: 0.3640 - val_loss: 0.3137\n",
      "Epoch 143/200\n",
      "1/1 [==============================] - 0s 220ms/step - loss: 0.3636 - val_loss: 0.3131\n",
      "Epoch 144/200\n",
      "1/1 [==============================] - 0s 249ms/step - loss: 0.3632 - val_loss: 0.3125\n",
      "Epoch 145/200\n",
      "1/1 [==============================] - 0s 242ms/step - loss: 0.3628 - val_loss: 0.3119\n",
      "Epoch 146/200\n",
      "1/1 [==============================] - 0s 237ms/step - loss: 0.3624 - val_loss: 0.3114\n",
      "Epoch 147/200\n",
      "1/1 [==============================] - 0s 245ms/step - loss: 0.3620 - val_loss: 0.3108\n",
      "Epoch 148/200\n",
      "1/1 [==============================] - 0s 216ms/step - loss: 0.3615 - val_loss: 0.3102\n",
      "Epoch 149/200\n",
      "1/1 [==============================] - 0s 222ms/step - loss: 0.3611 - val_loss: 0.3096\n",
      "Epoch 150/200\n",
      "1/1 [==============================] - 0s 226ms/step - loss: 0.3607 - val_loss: 0.3089\n",
      "Epoch 151/200\n",
      "1/1 [==============================] - 0s 238ms/step - loss: 0.3602 - val_loss: 0.3083\n",
      "Epoch 152/200\n",
      "1/1 [==============================] - 0s 246ms/step - loss: 0.3598 - val_loss: 0.3076\n",
      "Epoch 153/200\n",
      "1/1 [==============================] - 0s 203ms/step - loss: 0.3593 - val_loss: 0.3069\n",
      "Epoch 154/200\n",
      "1/1 [==============================] - 0s 272ms/step - loss: 0.3589 - val_loss: 0.3062\n",
      "Epoch 155/200\n",
      "1/1 [==============================] - 0s 267ms/step - loss: 0.3584 - val_loss: 0.3055\n",
      "Epoch 156/200\n",
      "1/1 [==============================] - 0s 274ms/step - loss: 0.3579 - val_loss: 0.3048\n",
      "Epoch 157/200\n",
      "1/1 [==============================] - 1s 539ms/step - loss: 0.3574 - val_loss: 0.3041\n",
      "Epoch 158/200\n",
      "1/1 [==============================] - 0s 254ms/step - loss: 0.3569 - val_loss: 0.3033\n",
      "Epoch 159/200\n",
      "1/1 [==============================] - 0s 329ms/step - loss: 0.3564 - val_loss: 0.3025\n",
      "Epoch 160/200\n",
      "1/1 [==============================] - 0s 263ms/step - loss: 0.3559 - val_loss: 0.3017\n",
      "Epoch 161/200\n",
      "1/1 [==============================] - 0s 260ms/step - loss: 0.3554 - val_loss: 0.3009\n",
      "Epoch 162/200\n",
      "1/1 [==============================] - 0s 260ms/step - loss: 0.3548 - val_loss: 0.3001\n",
      "Epoch 163/200\n",
      "1/1 [==============================] - 0s 253ms/step - loss: 0.3543 - val_loss: 0.2993\n",
      "Epoch 164/200\n",
      "1/1 [==============================] - 0s 264ms/step - loss: 0.3537 - val_loss: 0.2985\n",
      "Epoch 165/200\n",
      "1/1 [==============================] - 0s 250ms/step - loss: 0.3531 - val_loss: 0.2976\n",
      "Epoch 166/200\n",
      "1/1 [==============================] - 0s 255ms/step - loss: 0.3526 - val_loss: 0.2968\n",
      "Epoch 167/200\n",
      "1/1 [==============================] - 0s 252ms/step - loss: 0.3520 - val_loss: 0.2959\n",
      "Epoch 168/200\n",
      "1/1 [==============================] - 0s 244ms/step - loss: 0.3514 - val_loss: 0.2950\n",
      "Epoch 169/200\n",
      "1/1 [==============================] - 0s 245ms/step - loss: 0.3508 - val_loss: 0.2941\n",
      "Epoch 170/200\n",
      "1/1 [==============================] - 0s 303ms/step - loss: 0.3502 - val_loss: 0.2932\n",
      "Epoch 171/200\n",
      "1/1 [==============================] - 0s 254ms/step - loss: 0.3495 - val_loss: 0.2923\n",
      "Epoch 172/200\n",
      "1/1 [==============================] - 0s 250ms/step - loss: 0.3489 - val_loss: 0.2914\n",
      "Epoch 173/200\n",
      "1/1 [==============================] - 0s 268ms/step - loss: 0.3482 - val_loss: 0.2905\n",
      "Epoch 174/200\n",
      "1/1 [==============================] - 0s 250ms/step - loss: 0.3476 - val_loss: 0.2895\n",
      "Epoch 175/200\n",
      "1/1 [==============================] - 0s 254ms/step - loss: 0.3469 - val_loss: 0.2886\n",
      "Epoch 176/200\n",
      "1/1 [==============================] - 0s 261ms/step - loss: 0.3462 - val_loss: 0.2876\n",
      "Epoch 177/200\n",
      "1/1 [==============================] - 0s 263ms/step - loss: 0.3455 - val_loss: 0.2867\n",
      "Epoch 178/200\n",
      "1/1 [==============================] - 0s 264ms/step - loss: 0.3448 - val_loss: 0.2857\n",
      "Epoch 179/200\n",
      "1/1 [==============================] - 0s 266ms/step - loss: 0.3441 - val_loss: 0.2847\n",
      "Epoch 180/200\n",
      "1/1 [==============================] - 0s 259ms/step - loss: 0.3434 - val_loss: 0.2837\n",
      "Epoch 181/200\n",
      "1/1 [==============================] - 0s 259ms/step - loss: 0.3427 - val_loss: 0.2827\n",
      "Epoch 182/200\n",
      "1/1 [==============================] - 0s 254ms/step - loss: 0.3419 - val_loss: 0.2817\n",
      "Epoch 183/200\n",
      "1/1 [==============================] - 0s 352ms/step - loss: 0.3412 - val_loss: 0.2807\n",
      "Epoch 184/200\n",
      "1/1 [==============================] - 0s 259ms/step - loss: 0.3404 - val_loss: 0.2796\n",
      "Epoch 185/200\n",
      "1/1 [==============================] - 0s 282ms/step - loss: 0.3397 - val_loss: 0.2786\n",
      "Epoch 186/200\n",
      "1/1 [==============================] - 0s 279ms/step - loss: 0.3389 - val_loss: 0.2775\n",
      "Epoch 187/200\n",
      "1/1 [==============================] - 0s 250ms/step - loss: 0.3381 - val_loss: 0.2764\n",
      "Epoch 188/200\n",
      "1/1 [==============================] - 0s 293ms/step - loss: 0.3373 - val_loss: 0.2754\n",
      "Epoch 189/200\n",
      "1/1 [==============================] - 0s 263ms/step - loss: 0.3365 - val_loss: 0.2743\n",
      "Epoch 190/200\n",
      "1/1 [==============================] - 0s 253ms/step - loss: 0.3357 - val_loss: 0.2732\n",
      "Epoch 191/200\n",
      "1/1 [==============================] - 0s 264ms/step - loss: 0.3348 - val_loss: 0.2720\n",
      "Epoch 192/200\n",
      "1/1 [==============================] - 0s 292ms/step - loss: 0.3340 - val_loss: 0.2709\n",
      "Epoch 193/200\n",
      "1/1 [==============================] - 0s 259ms/step - loss: 0.3331 - val_loss: 0.2698\n",
      "Epoch 194/200\n",
      "1/1 [==============================] - 0s 271ms/step - loss: 0.3323 - val_loss: 0.2686\n",
      "Epoch 195/200\n",
      "1/1 [==============================] - 0s 278ms/step - loss: 0.3314 - val_loss: 0.2674\n",
      "Epoch 196/200\n",
      "1/1 [==============================] - 0s 228ms/step - loss: 0.3305 - val_loss: 0.2662\n",
      "Epoch 197/200\n",
      "1/1 [==============================] - 0s 237ms/step - loss: 0.3296 - val_loss: 0.2650\n",
      "Epoch 198/200\n",
      "1/1 [==============================] - 0s 276ms/step - loss: 0.3287 - val_loss: 0.2637\n",
      "Epoch 199/200\n",
      "1/1 [==============================] - 0s 286ms/step - loss: 0.3277 - val_loss: 0.2625\n",
      "Epoch 200/200\n",
      "1/1 [==============================] - 0s 260ms/step - loss: 0.3268 - val_loss: 0.2612\n"
     ]
    },
    {
     "name": "stderr",
     "output_type": "stream",
     "text": [
      "2022/05/28 12:31:39 WARNING mlflow.utils.autologging_utils: Encountered unexpected error during tensorflow autologging: 'PrefetchDataset' object has no attribute '_batch_size'\n"
     ]
    }
   ],
   "source": [
    "mlflow.set_experiment(\"LSTM\")\n",
    "mlflow.tensorflow.autolog()\n",
    "history = model.fit(DatasetTrain, epochs=EPOCHS, validation_data=DatasetVal, verbose=1)"
   ]
  },
  {
   "cell_type": "code",
   "execution_count": 152,
   "metadata": {},
   "outputs": [
    {
     "data": {
      "image/png": "[encoded data removed]",
      "text/plain": [
       "<Figure size 432x288 with 1 Axes>"
      ]
     },
     "metadata": {
      "needs_background": "light"
     },
     "output_type": "display_data"
    }
   ],
   "source": [
    "fig = plt.figure()\n",
    "plt.plot(history.history['loss'], label=\"loss\")\n",
    "plt.plot(history.history['val_loss'], label=\"val_loss\")\n",
    "plt.legend()\n",
    "plt.show()"
   ]
  },
  {
   "cell_type": "code",
   "execution_count": 140,
   "metadata": {},
   "outputs": [],
   "source": [
    "from time import gmtime, strftime\n"
   ]
  },
  {
   "cell_type": "code",
   "execution_count": 153,
   "metadata": {},
   "outputs": [],
   "source": [
    "def model_forecast(model, series, window_size):\n",
    "  ds = tf.data.Dataset.from_tensor_slices(series)\n",
    "  ds = ds.window(window_size, shift=1, drop_remainder=True) \n",
    "  ds = ds.flat_map(lambda w: w.batch(window_size))\n",
    "  ds = ds.batch(SIZE).prefetch(1)\n",
    "  forecast = model.predict(ds)\n",
    "  return forecast"
   ]
  },
  {
   "cell_type": "code",
   "execution_count": 155,
   "metadata": {},
   "outputs": [
    {
     "ename": "AttributeError",
     "evalue": "'DataFrame' object has no attribute 'DataScaled'",
     "output_type": "error",
     "traceback": [
      "\u001b[1;31m---------------------------------------------------------------------------\u001b[0m",
      "\u001b[1;31mAttributeError\u001b[0m                            Traceback (most recent call last)",
      "Input \u001b[1;32mIn [155]\u001b[0m, in \u001b[0;36m<cell line: 1>\u001b[1;34m()\u001b[0m\n\u001b[1;32m----> 1\u001b[0m Forecast \u001b[38;5;241m=\u001b[39m model_forecast(model, \u001b[43mtrain_sales\u001b[49m\u001b[38;5;241;43m.\u001b[39;49m\u001b[43mDataScaled\u001b[49m\u001b[38;5;241m.\u001b[39mvalues[:, np\u001b[38;5;241m.\u001b[39mnewaxis], WINDOW_SIZE)\n\u001b[0;32m      2\u001b[0m Results \u001b[38;5;241m=\u001b[39m Forecast[BATCH_SIZE\u001b[38;5;241m-\u001b[39mWINDOW_SIZE:\u001b[38;5;241m-\u001b[39m\u001b[38;5;241m1\u001b[39m]\n\u001b[0;32m      3\u001b[0m Results1 \u001b[38;5;241m=\u001b[39m scaler\u001b[38;5;241m.\u001b[39minverse_transform(Results\u001b[38;5;241m.\u001b[39mreshape(\u001b[38;5;241m-\u001b[39m\u001b[38;5;241m1\u001b[39m,\u001b[38;5;241m1\u001b[39m))\n",
      "File \u001b[1;32m~\\AppData\\Roaming\\Python\\Python39\\site-packages\\pandas\\core\\generic.py:5575\u001b[0m, in \u001b[0;36mNDFrame.__getattr__\u001b[1;34m(self, name)\u001b[0m\n\u001b[0;32m   5568\u001b[0m \u001b[38;5;28;01mif\u001b[39;00m (\n\u001b[0;32m   5569\u001b[0m     name \u001b[38;5;129;01mnot\u001b[39;00m \u001b[38;5;129;01min\u001b[39;00m \u001b[38;5;28mself\u001b[39m\u001b[38;5;241m.\u001b[39m_internal_names_set\n\u001b[0;32m   5570\u001b[0m     \u001b[38;5;129;01mand\u001b[39;00m name \u001b[38;5;129;01mnot\u001b[39;00m \u001b[38;5;129;01min\u001b[39;00m \u001b[38;5;28mself\u001b[39m\u001b[38;5;241m.\u001b[39m_metadata\n\u001b[0;32m   5571\u001b[0m     \u001b[38;5;129;01mand\u001b[39;00m name \u001b[38;5;129;01mnot\u001b[39;00m \u001b[38;5;129;01min\u001b[39;00m \u001b[38;5;28mself\u001b[39m\u001b[38;5;241m.\u001b[39m_accessors\n\u001b[0;32m   5572\u001b[0m     \u001b[38;5;129;01mand\u001b[39;00m \u001b[38;5;28mself\u001b[39m\u001b[38;5;241m.\u001b[39m_info_axis\u001b[38;5;241m.\u001b[39m_can_hold_identifiers_and_holds_name(name)\n\u001b[0;32m   5573\u001b[0m ):\n\u001b[0;32m   5574\u001b[0m     \u001b[38;5;28;01mreturn\u001b[39;00m \u001b[38;5;28mself\u001b[39m[name]\n\u001b[1;32m-> 5575\u001b[0m \u001b[38;5;28;01mreturn\u001b[39;00m \u001b[38;5;28;43mobject\u001b[39;49m\u001b[38;5;241;43m.\u001b[39;49m\u001b[38;5;21;43m__getattribute__\u001b[39;49m\u001b[43m(\u001b[49m\u001b[38;5;28;43mself\u001b[39;49m\u001b[43m,\u001b[49m\u001b[43m \u001b[49m\u001b[43mname\u001b[49m\u001b[43m)\u001b[49m\n",
      "\u001b[1;31mAttributeError\u001b[0m: 'DataFrame' object has no attribute 'DataScaled'"
     ]
    }
   ],
   "source": [
    "Forecast = model_forecast(model, train_sales.DataScaled.values[:, np.newaxis], WINDOW_SIZE)\n",
    "Results = Forecast[BATCH_SIZE-WINDOW_SIZE:-1]\n",
    "Results1 = scaler.inverse_transform(Results.reshape(-1,1))\n",
    "XValid1 = scaler.inverse_transform(XValid.reshape(-1,1))"
   ]
  },
  {
   "cell_type": "code",
   "execution_count": null,
   "metadata": {},
   "outputs": [],
   "source": []
  },
  {
   "cell_type": "code",
   "execution_count": 141,
   "metadata": {},
   "outputs": [
    {
     "name": "stderr",
     "output_type": "stream",
     "text": [
      "WARNING:absl:Found untraced functions such as lstm_cell_2_layer_call_fn, lstm_cell_2_layer_call_and_return_conditional_losses, lstm_cell_3_layer_call_fn, lstm_cell_3_layer_call_and_return_conditional_losses while saving (showing 4 of 4). These functions will not be directly callable after loading.\n"
     ]
    },
    {
     "name": "stdout",
     "output_type": "stream",
     "text": [
      "INFO:tensorflow:Assets written to: ../models/LSTM_sales_on 2022-05-28-09-31-40.pkl\\assets\n"
     ]
    },
    {
     "name": "stderr",
     "output_type": "stream",
     "text": [
      "INFO:tensorflow:Assets written to: ../models/LSTM_sales_on 2022-05-28-09-31-40.pkl\\assets\n"
     ]
    }
   ],
   "source": [
    "time = strftime(\"%Y-%m-%d-%H-%M-%S\", gmtime())\n",
    "model.save(f'../models/LSTM_sales_on {time}.pkl')"
   ]
  },
  {
   "cell_type": "code",
   "execution_count": null,
   "metadata": {},
   "outputs": [],
   "source": []
  },
  {
   "cell_type": "code",
   "execution_count": 146,
   "metadata": {},
   "outputs": [
    {
     "data": {
      "text/html": [
       "<div>\n",
       "<style scoped>\n",
       "    .dataframe tbody tr th:only-of-type {\n",
       "        vertical-align: middle;\n",
       "    }\n",
       "\n",
       "    .dataframe tbody tr th {\n",
       "        vertical-align: top;\n",
       "    }\n",
       "\n",
       "    .dataframe thead th {\n",
       "        text-align: right;\n",
       "    }\n",
       "</style>\n",
       "<table border=\"1\" class=\"dataframe\">\n",
       "  <thead>\n",
       "    <tr style=\"text-align: right;\">\n",
       "      <th></th>\n",
       "      <th>Store</th>\n",
       "      <th>DayOfWeek</th>\n",
       "      <th>Date</th>\n",
       "      <th>Sales</th>\n",
       "      <th>Customers</th>\n",
       "      <th>Open</th>\n",
       "      <th>Promo</th>\n",
       "      <th>StateHoliday</th>\n",
       "      <th>SchoolHoliday</th>\n",
       "    </tr>\n",
       "  </thead>\n",
       "  <tbody>\n",
       "    <tr>\n",
       "      <th>0</th>\n",
       "      <td>1</td>\n",
       "      <td>5</td>\n",
       "      <td>2015-07-31</td>\n",
       "      <td>5263</td>\n",
       "      <td>555</td>\n",
       "      <td>1</td>\n",
       "      <td>1</td>\n",
       "      <td>0</td>\n",
       "      <td>1</td>\n",
       "    </tr>\n",
       "    <tr>\n",
       "      <th>1</th>\n",
       "      <td>2</td>\n",
       "      <td>5</td>\n",
       "      <td>2015-07-31</td>\n",
       "      <td>6064</td>\n",
       "      <td>625</td>\n",
       "      <td>1</td>\n",
       "      <td>1</td>\n",
       "      <td>0</td>\n",
       "      <td>1</td>\n",
       "    </tr>\n",
       "    <tr>\n",
       "      <th>2</th>\n",
       "      <td>3</td>\n",
       "      <td>5</td>\n",
       "      <td>2015-07-31</td>\n",
       "      <td>8314</td>\n",
       "      <td>821</td>\n",
       "      <td>1</td>\n",
       "      <td>1</td>\n",
       "      <td>0</td>\n",
       "      <td>1</td>\n",
       "    </tr>\n",
       "    <tr>\n",
       "      <th>3</th>\n",
       "      <td>4</td>\n",
       "      <td>5</td>\n",
       "      <td>2015-07-31</td>\n",
       "      <td>13995</td>\n",
       "      <td>1485</td>\n",
       "      <td>1</td>\n",
       "      <td>1</td>\n",
       "      <td>0</td>\n",
       "      <td>1</td>\n",
       "    </tr>\n",
       "    <tr>\n",
       "      <th>4</th>\n",
       "      <td>5</td>\n",
       "      <td>5</td>\n",
       "      <td>2015-07-31</td>\n",
       "      <td>4822</td>\n",
       "      <td>559</td>\n",
       "      <td>1</td>\n",
       "      <td>1</td>\n",
       "      <td>0</td>\n",
       "      <td>1</td>\n",
       "    </tr>\n",
       "  </tbody>\n",
       "</table>\n",
       "</div>"
      ],
      "text/plain": [
       "   Store  DayOfWeek        Date  Sales  Customers  Open  Promo  StateHoliday  \\\n",
       "0      1          5  2015-07-31   5263        555     1      1             0   \n",
       "1      2          5  2015-07-31   6064        625     1      1             0   \n",
       "2      3          5  2015-07-31   8314        821     1      1             0   \n",
       "3      4          5  2015-07-31  13995       1485     1      1             0   \n",
       "4      5          5  2015-07-31   4822        559     1      1             0   \n",
       "\n",
       "   SchoolHoliday  \n",
       "0              1  \n",
       "1              1  \n",
       "2              1  \n",
       "3              1  \n",
       "4              1  "
      ]
     },
     "execution_count": 146,
     "metadata": {},
     "output_type": "execute_result"
    }
   ],
   "source": [
    "df = train_sales\n",
    "df.head()"
   ]
  },
  {
   "cell_type": "code",
   "execution_count": 147,
   "metadata": {},
   "outputs": [
    {
     "data": {
      "text/plain": [
       "Date     datetime64[ns]\n",
       "Sales             int64\n",
       "dtype: object"
      ]
     },
     "execution_count": 147,
     "metadata": {},
     "output_type": "execute_result"
    }
   ],
   "source": [
    "# remove closed stores and those with no sales\n",
    "df = df[(df[\"Open\"] != 0) & (df['Sales'] != 0)]\n",
    "\n",
    "# sales for the store number 1 (StoreType C)\n",
    "sales = df[df.Store == 1].loc[:, ['Date', 'Sales']]\n",
    "\n",
    "# reverse to the order: from 2013 to 2015\n",
    "sales = sales.sort_index(ascending = False)\n",
    "\n",
    "# to datetime64\n",
    "sales['Date'] = pd.DatetimeIndex(sales['Date'])\n",
    "sales.dtypes"
   ]
  },
  {
   "cell_type": "code",
   "execution_count": 148,
   "metadata": {},
   "outputs": [
    {
     "data": {
      "text/html": [
       "<div>\n",
       "<style scoped>\n",
       "    .dataframe tbody tr th:only-of-type {\n",
       "        vertical-align: middle;\n",
       "    }\n",
       "\n",
       "    .dataframe tbody tr th {\n",
       "        vertical-align: top;\n",
       "    }\n",
       "\n",
       "    .dataframe thead th {\n",
       "        text-align: right;\n",
       "    }\n",
       "</style>\n",
       "<table border=\"1\" class=\"dataframe\">\n",
       "  <thead>\n",
       "    <tr style=\"text-align: right;\">\n",
       "      <th></th>\n",
       "      <th>ds</th>\n",
       "      <th>y</th>\n",
       "    </tr>\n",
       "  </thead>\n",
       "  <tbody>\n",
       "    <tr>\n",
       "      <th>1014980</th>\n",
       "      <td>2013-01-02</td>\n",
       "      <td>5530</td>\n",
       "    </tr>\n",
       "    <tr>\n",
       "      <th>1013865</th>\n",
       "      <td>2013-01-03</td>\n",
       "      <td>4327</td>\n",
       "    </tr>\n",
       "    <tr>\n",
       "      <th>1012750</th>\n",
       "      <td>2013-01-04</td>\n",
       "      <td>4486</td>\n",
       "    </tr>\n",
       "    <tr>\n",
       "      <th>1011635</th>\n",
       "      <td>2013-01-05</td>\n",
       "      <td>4997</td>\n",
       "    </tr>\n",
       "    <tr>\n",
       "      <th>1009405</th>\n",
       "      <td>2013-01-07</td>\n",
       "      <td>7176</td>\n",
       "    </tr>\n",
       "  </tbody>\n",
       "</table>\n",
       "</div>"
      ],
      "text/plain": [
       "                ds     y\n",
       "1014980 2013-01-02  5530\n",
       "1013865 2013-01-03  4327\n",
       "1012750 2013-01-04  4486\n",
       "1011635 2013-01-05  4997\n",
       "1009405 2013-01-07  7176"
      ]
     },
     "execution_count": 148,
     "metadata": {},
     "output_type": "execute_result"
    }
   ],
   "source": [
    "# from the prophet documentation every variables should have specific names\n",
    "sales = sales.rename(columns = {'Date': 'ds',\n",
    "                                'Sales': 'y'})\n",
    "sales.head()"
   ]
  },
  {
   "cell_type": "code",
   "execution_count": 151,
   "metadata": {},
   "outputs": [
    {
     "ename": "ModuleNotFoundError",
     "evalue": "No module named 'Prophet'",
     "output_type": "error",
     "traceback": [
      "\u001b[1;31m---------------------------------------------------------------------------\u001b[0m",
      "\u001b[1;31mModuleNotFoundError\u001b[0m                       Traceback (most recent call last)",
      "Input \u001b[1;32mIn [151]\u001b[0m, in \u001b[0;36m<cell line: 1>\u001b[1;34m()\u001b[0m\n\u001b[1;32m----> 1\u001b[0m \u001b[38;5;28;01mimport\u001b[39;00m \u001b[38;5;21;01mProphet\u001b[39;00m\n\u001b[0;32m      2\u001b[0m \u001b[38;5;66;03m# create holidays dataframe\u001b[39;00m\n\u001b[0;32m      3\u001b[0m state_dates \u001b[38;5;241m=\u001b[39m df[(df\u001b[38;5;241m.\u001b[39mStateHoliday \u001b[38;5;241m==\u001b[39m \u001b[38;5;124m'\u001b[39m\u001b[38;5;124ma\u001b[39m\u001b[38;5;124m'\u001b[39m) \u001b[38;5;241m|\u001b[39m (df\u001b[38;5;241m.\u001b[39mStateHoliday \u001b[38;5;241m==\u001b[39m \u001b[38;5;124m'\u001b[39m\u001b[38;5;124mb\u001b[39m\u001b[38;5;124m'\u001b[39m) \u001b[38;5;241m&\u001b[39m (df\u001b[38;5;241m.\u001b[39mStateHoliday \u001b[38;5;241m==\u001b[39m \u001b[38;5;124m'\u001b[39m\u001b[38;5;124mc\u001b[39m\u001b[38;5;124m'\u001b[39m)]\u001b[38;5;241m.\u001b[39mloc[:, \u001b[38;5;124m'\u001b[39m\u001b[38;5;124mDate\u001b[39m\u001b[38;5;124m'\u001b[39m]\u001b[38;5;241m.\u001b[39mvalues\n",
      "\u001b[1;31mModuleNotFoundError\u001b[0m: No module named 'Prophet'"
     ]
    }
   ],
   "source": [
    "import Prophet\n",
    "# create holidays dataframe\n",
    "state_dates = df[(df.StateHoliday == 'a') | (df.StateHoliday == 'b') & (df.StateHoliday == 'c')].loc[:, 'Date'].values\n",
    "school_dates = df[df.SchoolHoliday == 1].loc[:, 'Date'].values\n",
    "\n",
    "state = pd.DataFrame({'holiday': 'state_holiday',\n",
    "                      'ds': pd.to_datetime(state_dates)})\n",
    "school = pd.DataFrame({'holiday': 'school_holiday',\n",
    "                      'ds': pd.to_datetime(school_dates)})\n",
    "\n",
    "holidays = pd.concat((state, school))      \n",
    "holidays.head()"
   ]
  },
  {
   "cell_type": "code",
   "execution_count": null,
   "metadata": {},
   "outputs": [],
   "source": []
  },
  {
   "cell_type": "code",
   "execution_count": null,
   "metadata": {},
   "outputs": [],
   "source": []
  },
  {
   "cell_type": "code",
   "execution_count": null,
   "metadata": {},
   "outputs": [],
   "source": []
  },
  {
   "cell_type": "code",
   "execution_count": null,
   "metadata": {},
   "outputs": [],
   "source": []
  },
  {
   "cell_type": "code",
   "execution_count": null,
   "metadata": {},
   "outputs": [],
   "source": []
  },
  {
   "cell_type": "code",
   "execution_count": null,
   "metadata": {},
   "outputs": [],
   "source": []
  },
  {
   "cell_type": "code",
   "execution_count": null,
   "metadata": {},
   "outputs": [],
   "source": []
  },
  {
   "cell_type": "code",
   "execution_count": null,
   "metadata": {},
   "outputs": [],
   "source": []
  },
  {
   "cell_type": "code",
   "execution_count": null,
   "metadata": {},
   "outputs": [],
   "source": []
  },
  {
   "cell_type": "code",
   "execution_count": null,
   "metadata": {},
   "outputs": [],
   "source": []
  },
  {
   "cell_type": "code",
   "execution_count": null,
   "metadata": {},
   "outputs": [],
   "source": []
  },
  {
   "cell_type": "code",
   "execution_count": null,
   "metadata": {},
   "outputs": [],
   "source": []
  },
  {
   "cell_type": "code",
   "execution_count": null,
   "metadata": {},
   "outputs": [],
   "source": []
  },
  {
   "cell_type": "code",
   "execution_count": null,
   "metadata": {},
   "outputs": [],
   "source": []
  },
  {
   "cell_type": "code",
   "execution_count": null,
   "metadata": {},
   "outputs": [],
   "source": []
  },
  {
   "cell_type": "code",
   "execution_count": null,
   "metadata": {},
   "outputs": [],
   "source": []
  },
  {
   "cell_type": "code",
   "execution_count": null,
   "metadata": {},
   "outputs": [],
   "source": []
  },
  {
   "cell_type": "code",
   "execution_count": null,
   "metadata": {},
   "outputs": [],
   "source": []
  },
  {
   "cell_type": "code",
   "execution_count": null,
   "metadata": {},
   "outputs": [],
   "source": []
  },
  {
   "cell_type": "code",
   "execution_count": 142,
   "metadata": {},
   "outputs": [],
   "source": [
    "params = {'n_estimators': 1742,\n",
    "          'min_child_samples': 89,\n",
    "          'n_jobs':-1,\n",
    "          'learning_rate': 0.2723,\n",
    "          'max_depth': -1,  \n",
    "          'subsample': 1,\n",
    "          'colsample_bytree': 0.8,\n",
    "          'reg_alpha': 0.1,\n",
    "          'reg_lambda': 1,\n",
    "          'verbosity': -1}"
   ]
  },
  {
   "cell_type": "code",
   "execution_count": 143,
   "metadata": {},
   "outputs": [
    {
     "data": {
      "text/html": [
       "<div>\n",
       "<style scoped>\n",
       "    .dataframe tbody tr th:only-of-type {\n",
       "        vertical-align: middle;\n",
       "    }\n",
       "\n",
       "    .dataframe tbody tr th {\n",
       "        vertical-align: top;\n",
       "    }\n",
       "\n",
       "    .dataframe thead th {\n",
       "        text-align: right;\n",
       "    }\n",
       "</style>\n",
       "<table border=\"1\" class=\"dataframe\">\n",
       "  <thead>\n",
       "    <tr style=\"text-align: right;\">\n",
       "      <th></th>\n",
       "      <th>Store</th>\n",
       "      <th>DayOfWeek</th>\n",
       "      <th>Date</th>\n",
       "      <th>Sales</th>\n",
       "      <th>Customers</th>\n",
       "      <th>Open</th>\n",
       "      <th>Promo</th>\n",
       "      <th>StateHoliday</th>\n",
       "      <th>SchoolHoliday</th>\n",
       "    </tr>\n",
       "  </thead>\n",
       "  <tbody>\n",
       "    <tr>\n",
       "      <th>0</th>\n",
       "      <td>1</td>\n",
       "      <td>5</td>\n",
       "      <td>2015-07-31</td>\n",
       "      <td>5263</td>\n",
       "      <td>555</td>\n",
       "      <td>1</td>\n",
       "      <td>1</td>\n",
       "      <td>0</td>\n",
       "      <td>1</td>\n",
       "    </tr>\n",
       "    <tr>\n",
       "      <th>1</th>\n",
       "      <td>2</td>\n",
       "      <td>5</td>\n",
       "      <td>2015-07-31</td>\n",
       "      <td>6064</td>\n",
       "      <td>625</td>\n",
       "      <td>1</td>\n",
       "      <td>1</td>\n",
       "      <td>0</td>\n",
       "      <td>1</td>\n",
       "    </tr>\n",
       "    <tr>\n",
       "      <th>2</th>\n",
       "      <td>3</td>\n",
       "      <td>5</td>\n",
       "      <td>2015-07-31</td>\n",
       "      <td>8314</td>\n",
       "      <td>821</td>\n",
       "      <td>1</td>\n",
       "      <td>1</td>\n",
       "      <td>0</td>\n",
       "      <td>1</td>\n",
       "    </tr>\n",
       "    <tr>\n",
       "      <th>3</th>\n",
       "      <td>4</td>\n",
       "      <td>5</td>\n",
       "      <td>2015-07-31</td>\n",
       "      <td>13995</td>\n",
       "      <td>1485</td>\n",
       "      <td>1</td>\n",
       "      <td>1</td>\n",
       "      <td>0</td>\n",
       "      <td>1</td>\n",
       "    </tr>\n",
       "    <tr>\n",
       "      <th>4</th>\n",
       "      <td>5</td>\n",
       "      <td>5</td>\n",
       "      <td>2015-07-31</td>\n",
       "      <td>4822</td>\n",
       "      <td>559</td>\n",
       "      <td>1</td>\n",
       "      <td>1</td>\n",
       "      <td>0</td>\n",
       "      <td>1</td>\n",
       "    </tr>\n",
       "  </tbody>\n",
       "</table>\n",
       "</div>"
      ],
      "text/plain": [
       "   Store  DayOfWeek        Date  Sales  Customers  Open  Promo  StateHoliday  \\\n",
       "0      1          5  2015-07-31   5263        555     1      1             0   \n",
       "1      2          5  2015-07-31   6064        625     1      1             0   \n",
       "2      3          5  2015-07-31   8314        821     1      1             0   \n",
       "3      4          5  2015-07-31  13995       1485     1      1             0   \n",
       "4      5          5  2015-07-31   4822        559     1      1             0   \n",
       "\n",
       "   SchoolHoliday  \n",
       "0              1  \n",
       "1              1  \n",
       "2              1  \n",
       "3              1  \n",
       "4              1  "
      ]
     },
     "execution_count": 143,
     "metadata": {},
     "output_type": "execute_result"
    }
   ],
   "source": [
    "train_df.head()"
   ]
  },
  {
   "cell_type": "code",
   "execution_count": 144,
   "metadata": {},
   "outputs": [],
   "source": [
    "#LightGBM Regressor\n",
    "lgbm = LGBMRegressor(**params, random_state=42)"
   ]
  },
  {
   "cell_type": "code",
   "execution_count": 145,
   "metadata": {},
   "outputs": [
    {
     "ename": "NameError",
     "evalue": "name 'test_df' is not defined",
     "output_type": "error",
     "traceback": [
      "\u001b[1;31m---------------------------------------------------------------------------\u001b[0m",
      "\u001b[1;31mNameError\u001b[0m                                 Traceback (most recent call last)",
      "Input \u001b[1;32mIn [145]\u001b[0m, in \u001b[0;36m<cell line: 1>\u001b[1;34m()\u001b[0m\n\u001b[1;32m----> 1\u001b[0m ID \u001b[38;5;241m=\u001b[39m \u001b[43mtest_df\u001b[49m[\u001b[38;5;124m'\u001b[39m\u001b[38;5;124mId\u001b[39m\u001b[38;5;124m'\u001b[39m]\n\u001b[0;32m      2\u001b[0m test_df\u001b[38;5;241m.\u001b[39mdrop(\u001b[38;5;124m'\u001b[39m\u001b[38;5;124mId\u001b[39m\u001b[38;5;124m'\u001b[39m,inplace\u001b[38;5;241m=\u001b[39m\u001b[38;5;28;01mTrue\u001b[39;00m,axis\u001b[38;5;241m=\u001b[39m\u001b[38;5;241m1\u001b[39m)\n\u001b[0;32m      4\u001b[0m train_df\u001b[38;5;241m.\u001b[39msort_values([\u001b[38;5;124m\"\u001b[39m\u001b[38;5;124mStore\u001b[39m\u001b[38;5;124m\"\u001b[39m,\u001b[38;5;124m\"\u001b[39m\u001b[38;5;124mDate\u001b[39m\u001b[38;5;124m\"\u001b[39m], ignore_index\u001b[38;5;241m=\u001b[39m\u001b[38;5;28;01mTrue\u001b[39;00m, inplace\u001b[38;5;241m=\u001b[39m\u001b[38;5;28;01mTrue\u001b[39;00m)\n",
      "\u001b[1;31mNameError\u001b[0m: name 'test_df' is not defined"
     ]
    }
   ],
   "source": [
    "ID = test_df['Id']\n",
    "test_df.drop('Id',inplace=True,axis=1)\n",
    "\n",
    "train_df.sort_values([\"Store\",\"Date\"], ignore_index=True, inplace=True)\n",
    "test_df.sort_values([\"Store\",\"Date\"], ignore_index=True, inplace=True)\n",
    "\n",
    "for dataset in (train_df,test_df):\n",
    "    dataset['Date'] = pd.to_datetime(dataset['Date'])\n",
    "    dataset['Day'] = dataset.Date.dt.day\n",
    "    dataset['Month'] = dataset.Date.dt.month\n",
    "    dataset['Year'] = dataset.Date.dt.year\n",
    "    dataset['DayOfYear'] = dataset.Date.dt.dayofyear\n",
    "    dataset['WeekOfYear'] = dataset.Date.dt.weekofyear\n",
    "    dataset.set_index('Date', inplace=True)"
   ]
  },
  {
   "cell_type": "code",
   "execution_count": null,
   "metadata": {},
   "outputs": [],
   "source": [
    "train_df = df_train[df_train['Open'] == 1]\n",
    "train_df = df_train[df_train['Sales'] > 0.0]"
   ]
  },
  {
   "cell_type": "code",
   "execution_count": null,
   "metadata": {},
   "outputs": [],
   "source": [
    "corr_matrix = train_df.corr()\n",
    "corr_matrix[\"Sales\"].sort_values(ascending=False)"
   ]
  },
  {
   "cell_type": "code",
   "execution_count": null,
   "metadata": {},
   "outputs": [],
   "source": []
  },
  {
   "cell_type": "code",
   "execution_count": null,
   "metadata": {
    "scrolled": true
   },
   "outputs": [],
   "source": [
    "#Sort the values to use the last days as a validation set\n",
    "temp = train_df.sort_values([\"Year\",\"Month\",\"Day\"], ignore_index=True).copy()\n",
    "\n",
    "#The same time period as the test set\n",
    "train = temp[:-47000].copy()       \n",
    "vali = temp[-47000:].copy()\n",
    "\n",
    "#Return to the same order as the original dataset\n",
    "train.sort_values([\"Store\"], ignore_index=True, inplace=True)\n",
    "vali.sort_values([\"Store\"], ignore_index=True, inplace=True)\n",
    "train.sort_values([\"Year\",\"Month\",\"Day\"], ascending=False ,ignore_index=True, inplace=True)\n",
    "vali.sort_values([\"Year\",\"Month\",\"Day\"], ascending=False ,ignore_index=True, inplace=True)\n",
    "\n",
    "#Get the target\n",
    "y_test = vali['Sales'].copy()\n",
    "vali.drop('Sales',inplace=True,axis=1)"
   ]
  },
  {
   "cell_type": "code",
   "execution_count": null,
   "metadata": {},
   "outputs": [],
   "source": []
  },
  {
   "cell_type": "code",
   "execution_count": null,
   "metadata": {},
   "outputs": [],
   "source": []
  },
  {
   "cell_type": "markdown",
   "metadata": {},
   "source": [
    "## Loss function"
   ]
  },
  {
   "cell_type": "markdown",
   "metadata": {},
   "source": [
    "## LGBM Regressor"
   ]
  },
  {
   "cell_type": "code",
   "execution_count": null,
   "metadata": {},
   "outputs": [],
   "source": [
    "model = file_loader.read_model(\"LGBMRegressor-sales-2021-08-01-19:57\")\n",
    "model\n"
   ]
  },
  {
   "cell_type": "code",
   "execution_count": null,
   "metadata": {},
   "outputs": [],
   "source": [
    "feat_imp = pd.DataFrame({'Feature': feature_columns, 'Feature Importance': model.feature_importances_})\n",
    "feat_imp = feat_imp.set_index('Feature')\n",
    "feat_imp = feat_imp.sort_values(by=['Feature Importance'], ascending=False)\n",
    "feat_imp"
   ]
  },
  {
   "cell_type": "code",
   "execution_count": null,
   "metadata": {},
   "outputs": [],
   "source": [
    "plt.figure(figsize=(10, 6))\n",
    "ax = sns.barplot(x=\"Feature Importance\", y=feat_imp.index, data=feat_imp)\n",
    "plt.ylabel('Feature', fontsize=14)\n",
    "plt.xlabel('Feature Importance', fontsize=14)\n",
    "plt.show()\n"
   ]
  },
  {
   "cell_type": "code",
   "execution_count": null,
   "metadata": {},
   "outputs": [],
   "source": [
    "y_preds = model.predict(train_features) \n",
    "prediction_df = train_features.copy()\n",
    "prediction_df[\"y_true\"] = train_sales\n",
    "prediction_df[\"y_pred\"] = y_preds \n",
    "prediction_df[[\"y_true\", \"y_pred\"]].head() "
   ]
  },
  {
   "cell_type": "code",
   "execution_count": null,
   "metadata": {},
   "outputs": [],
   "source": [
    "daily_trend = prediction_df.groupby(['Day']).agg({'y_true': 'mean', 'y_pred': 'mean'})\n",
    "plt.figure(figsize=(18, 6))\n",
    "sns.lineplot(x=daily_trend.index, y=daily_trend[\"y_true\"])\n",
    "sns.lineplot(x=daily_trend.index, y=daily_trend[\"y_pred\"])"
   ]
  },
  {
   "cell_type": "markdown",
   "metadata": {},
   "source": [
    "## Random Forest Regressor"
   ]
  },
  {
   "cell_type": "code",
   "execution_count": null,
   "metadata": {},
   "outputs": [],
   "source": [
    "model = file_loader.read_model(\"RandomForestRegressor-sales-2021-08-01-20:17\")\n",
    "model"
   ]
  },
  {
   "cell_type": "code",
   "execution_count": null,
   "metadata": {},
   "outputs": [],
   "source": [
    "feat_imp = pd.DataFrame({'Feature': feature_columns, 'Feature Importance': model.feature_importances_})\n",
    "feat_imp = feat_imp.set_index('Feature')\n",
    "feat_imp = feat_imp.sort_values(by=['Feature Importance'], ascending=False)\n",
    "feat_imp"
   ]
  },
  {
   "cell_type": "code",
   "execution_count": null,
   "metadata": {},
   "outputs": [],
   "source": [
    "plt.figure(figsize=(10, 6))\n",
    "ax = sns.barplot(x=\"Feature Importance\", y=feat_imp.index, data=feat_imp)\n",
    "plt.ylabel('Feature', fontsize=14)\n",
    "plt.xlabel('Feature Importance', fontsize=14)\n",
    "plt.show()\n"
   ]
  },
  {
   "cell_type": "code",
   "execution_count": null,
   "metadata": {},
   "outputs": [],
   "source": [
    "y_preds = model.predict(train_features)\n",
    "prediction_df = train_features.copy()\n",
    "prediction_df[\"y_true\"] = train_sales\n",
    "prediction_df[\"y_pred\"] = y_preds\n",
    "prediction_df[[\"y_true\", \"y_pred\"]].head()\n"
   ]
  },
  {
   "cell_type": "code",
   "execution_count": null,
   "metadata": {},
   "outputs": [],
   "source": [
    "daily_trend = prediction_df.groupby(['Day']).agg({'y_true': 'mean', 'y_pred': 'mean'})\n",
    "plt.figure(figsize=(18, 6))\n",
    "sns.lineplot(x=daily_trend.index, y=daily_trend[\"y_true\"])\n",
    "sns.lineplot(x=daily_trend.index, y=daily_trend[\"y_pred\"])"
   ]
  },
  {
   "cell_type": "markdown",
   "metadata": {},
   "source": [
    "## XGBOOST Regressor"
   ]
  },
  {
   "cell_type": "code",
   "execution_count": null,
   "metadata": {},
   "outputs": [],
   "source": [
    "model = file_loader.read_model(\"XGBRegressor-sales-2021-08-01-21:03\")\n",
    "model"
   ]
  },
  {
   "cell_type": "code",
   "execution_count": null,
   "metadata": {},
   "outputs": [],
   "source": [
    "feat_imp = pd.DataFrame({'Feature': feature_columns, 'Feature Importance': model.feature_importances_})\n",
    "feat_imp = feat_imp.set_index('Feature')\n",
    "feat_imp = feat_imp.sort_values(by=['Feature Importance'], ascending=False)\n",
    "feat_imp"
   ]
  },
  {
   "cell_type": "code",
   "execution_count": null,
   "metadata": {},
   "outputs": [],
   "source": [
    "plt.figure(figsize=(10, 6))\n",
    "ax = sns.barplot(x=\"Feature Importance\", y=feat_imp.index, data=feat_imp)\n",
    "plt.ylabel('Feature', fontsize=14)\n",
    "plt.xlabel('Feature Importance', fontsize=14)\n",
    "plt.show()"
   ]
  },
  {
   "cell_type": "code",
   "execution_count": null,
   "metadata": {},
   "outputs": [],
   "source": [
    "y_preds = model.predict(train_features)\n",
    "prediction_df = train_features.copy()\n",
    "prediction_df[\"y_true\"] = train_sales\n",
    "prediction_df[\"y_pred\"] = y_preds\n",
    "prediction_df[[\"y_true\", \"y_pred\"]].head()\n"
   ]
  },
  {
   "cell_type": "code",
   "execution_count": null,
   "metadata": {},
   "outputs": [],
   "source": [
    "daily_trend = prediction_df.groupby(['Day']).agg({'y_true': 'mean', 'y_pred': 'mean'})\n",
    "plt.figure(figsize=(18, 6))\n",
    "sns.lineplot(x=daily_trend.index, y=daily_trend[\"y_true\"])\n",
    "sns.lineplot(x=daily_trend.index, y=daily_trend[\"y_pred\"])"
   ]
  },
  {
   "cell_type": "markdown",
   "metadata": {},
   "source": [
    "## Time Series Model"
   ]
  },
  {
   "cell_type": "code",
   "execution_count": null,
   "metadata": {},
   "outputs": [],
   "source": [
    "model = tf.keras.models.load_model(\"../models/TimeSeriesModel-Customers-2021-08-01-12:43.h5\")"
   ]
  },
  {
   "cell_type": "code",
   "execution_count": null,
   "metadata": {},
   "outputs": [],
   "source": [
    "model.summary()"
   ]
  },
  {
   "cell_type": "code",
   "execution_count": null,
   "metadata": {},
   "outputs": [],
   "source": [
    "Image(\"../img/TimeSeriesModel-Customers-2021-08-01-12:43.png\")"
   ]
  },
  {
   "cell_type": "code",
   "execution_count": null,
   "metadata": {},
   "outputs": [],
   "source": [
    "WINDOW_SIZE = 48\n",
    "train_df = file_loader.read_csv(\"../data/train.csv\")"
   ]
  },
  {
   "cell_type": "code",
   "execution_count": null,
   "metadata": {},
   "outputs": [],
   "source": [
    "def model_forecast(model, series, window_size):\n",
    "    ds = tf.data.Dataset.from_tensor_slices(series)\n",
    "    ds = ds.window(window_size, shift=1, drop_remainder=True)\n",
    "    ds = ds.flat_map(lambda w: w.batch(window_size))\n",
    "    ds = ds.batch(len(series)).prefetch(1)\n",
    "    forecast = model.predict(ds)\n",
    "    return forecast"
   ]
  },
  {
   "cell_type": "code",
   "execution_count": null,
   "metadata": {},
   "outputs": [],
   "source": [
    "sales_data = train_df.groupby(\"Date\").agg({\"Sales\": \"mean\"})[:100].copy()"
   ]
  },
  {
   "cell_type": "code",
   "execution_count": null,
   "metadata": {},
   "outputs": [],
   "source": [
    "scaler = StandardScaler()\n",
    "scaled_array = scaler.fit_transform(sales_data)\n",
    "sales_data['DataScaled'] = scaled_array\n",
    "BATCH_SIZE = len(sales_data) - (WINDOW_SIZE * 2)"
   ]
  },
  {
   "cell_type": "code",
   "execution_count": null,
   "metadata": {},
   "outputs": [],
   "source": [
    "Forecast = model_forecast(model, sales_data.DataScaled.values[:, np.newaxis], WINDOW_SIZE)\n",
    "Results = Forecast[BATCH_SIZE - WINDOW_SIZE:-1]\n",
    "Results1 = scaler.inverse_transform(Results.reshape(-1, 1))"
   ]
  },
  {
   "cell_type": "code",
   "execution_count": null,
   "metadata": {},
   "outputs": [],
   "source": [
    "prediction_df = sales_data[BATCH_SIZE - WINDOW_SIZE:-1]\n",
    "prediction_df[\"Forecast\"] = Results1\n",
    "prediction_df[[\"Forecast\", \"Sales\"]]"
   ]
  },
  {
   "cell_type": "code",
   "execution_count": null,
   "metadata": {},
   "outputs": [],
   "source": [
    "plt.figure(figsize=(30, 8))\n",
    "plt.title(\"LSTM Model Forecast Future sales\")\n",
    "sns.lineplot(x=prediction_df.index, y=prediction_df[\"Forecast\"])\n",
    "sns.lineplot(x=prediction_df.index, y=prediction_df[\"Sales\"])\n",
    "plt.xticks(rotation=90)\n",
    "plt.show()"
   ]
  }
 ],
 "metadata": {
  "interpreter": {
   "hash": "fa473d0b35530556de663f3f232b177b7537aee5bda74ac2b84ad2c8a96cf538"
  },
  "kernelspec": {
   "display_name": "Python 3",
   "language": "python",
   "name": "python3"
  },
  "language_info": {
   "codemirror_mode": {
    "name": "ipython",
    "version": 3
   },
   "file_extension": ".py",
   "mimetype": "text/x-python",
   "name": "python",
   "nbconvert_exporter": "python",
   "pygments_lexer": "ipython3",
   "version": "3.8.8"
  }
 },
 "nbformat": 4,
 "nbformat_minor": 2
}
