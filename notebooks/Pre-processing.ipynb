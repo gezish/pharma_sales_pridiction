{
 "cells": [
  {
   "cell_type": "markdown",
   "id": "8d8f57f3",
   "metadata": {},
   "source": [
    "## Task 1 - *Exploration of customer purchasing behavior*"
   ]
  },
  {
   "cell_type": "markdown",
   "id": "99d75006",
   "metadata": {},
   "source": [
    "### 1.1. Preprocessing"
   ]
  },
  {
   "cell_type": "markdown",
   "id": "3709450b",
   "metadata": {},
   "source": [
    "### *Importing liberaries*"
   ]
  },
  {
   "cell_type": "code",
   "execution_count": 23,
   "id": "87d4500a",
   "metadata": {},
   "outputs": [],
   "source": [
    "import warnings\n",
    "import numpy as np\n",
    "import pandas as pd\n",
    "import seaborn as sns\n",
    "import matplotlib.pyplot as plt\n",
    "import sys,os"
   ]
  },
  {
   "cell_type": "code",
   "execution_count": 24,
   "id": "23577e44",
   "metadata": {},
   "outputs": [],
   "source": [
    "sys.path.append(os.path.abspath(os.path.join('../modules')))\n",
    "warnings.filterwarnings(\"ignore\")\n",
    "sns.set()"
   ]
  },
  {
   "cell_type": "markdown",
   "id": "053e3a3f",
   "metadata": {},
   "source": [
    "### Import modules"
   ]
  },
  {
   "cell_type": "code",
   "execution_count": 25,
   "id": "98118521",
   "metadata": {},
   "outputs": [],
   "source": [
    "from load_file import FileHandler\n",
    "from overview import DfOverview\n",
    "from cleaner_df import DfCleaner\n",
    "from outlier import DfOutlier\n",
    "from vis_seaborn import VisSeaborn\n",
    "from vis_plotly import VisPlotly"
   ]
  },
  {
   "cell_type": "code",
   "execution_count": 26,
   "id": "3432a86c",
   "metadata": {},
   "outputs": [],
   "source": [
    "file_loader = FileHandler()\n",
    "my_clean = DfCleaner()"
   ]
  },
  {
   "cell_type": "code",
   "execution_count": 27,
   "id": "136b16bf",
   "metadata": {},
   "outputs": [
    {
     "name": "stdout",
     "output_type": "stream",
     "text": [
      "2022-05-24 12:54:23,841 — DfHelper — DEBUG — file read as csv\n",
      "2022-05-24 12:54:23,888 — DfHelper — DEBUG — file read as csv\n",
      "2022-05-24 12:54:23,893 — DfHelper — DEBUG — file read as csv\n",
      "\n",
      "### General data Structure ###\n",
      "\n",
      "Stored data: (1115, 10)\n",
      "Train data: (1017209, 9)\n",
      "Test data: (41088, 8)\n"
     ]
    }
   ],
   "source": [
    "#stored_df = file_loader.read_csv('../data/store.csv')\n",
    "train_df = file_loader.read_csv('../data/train.csv')\n",
    "test_df = file_loader.read_csv('../data/test.csv')\n",
    "stored_df = file_loader.read_csv('../data/store.csv')\n",
    "print(\"\\n### General data Structure ###\\n\")\n",
    "\n",
    "print(\"Stored data:\",stored_df.shape)\n",
    "print(\"Train data:\",train_df.shape)\n",
    "print(\"Test data:\",test_df.shape)"
   ]
  },
  {
   "cell_type": "markdown",
   "id": "22be8ae0",
   "metadata": {},
   "source": [
    " ### *Feature Dicriptions of the Data* ###\n",
    " \n",
    "The following are descriptions of **Rossmann Pharmaceuticals** data set.\n",
    "- **`Id`** - an Id that represents a (Store, Date) duple within the test set\n",
    "- **`Store`** - a unique Id for each store\n",
    "- **`Sales`** - the turnover for any given day (this is what you are predicting)\n",
    "- **`Customers`** - the number of customers on a given day\n",
    "- **`Open`** - an indicator for whether the store was open: 0 = closed, 1 = open\n",
    "- **`StateHoliday`** - indicates a state holiday. Normally all stores, with few exceptions, are closed on state holidays. \n",
    "\n",
    "**Note that** all schools are closed on public holidays and weekends. a = public holiday, b = Easter holiday, c = Christmas, 0 = None\n",
    "- **`SchoolHoliday`** - indicates if the (Store, Date) was affected by the closure of public schools\n",
    "- **`StoreType`** - differentiates between 4 different store models: a, b, c, d\n",
    "- **`Assortment`** - describes an assortment level: a = basic, b = extra, c = extended. Read more about assortment here\n",
    "- **`CompetitionDistance`** - distance in meters to the nearest competitor store\n",
    "- **`CompetitionOpenSince[Month/Year]`** - gives the approximate year and month of the time the nearest competitor was opened\n",
    "- **`Promo`** - indicates whether a store is running a promo on that day\n",
    "- **`Promo2`** - Promo2 is a continuing and consecutive promotion for some stores: 0 = store is not participating, 1 = store is participating\n",
    "- **`Promo2Since[Year/Week]`** - describes the year and calendar week when the store started participating in Promo2\n",
    "- **`PromoInterval`** - describes the consecutive intervals Promo2 is started, naming the months the promotion is started anew. E.g. \"Feb,May,Aug,Nov\" means each round starts in February, May, August, November of any given year for that store\n",
    "- The data for this challenge can be found https://www.kaggle.com/competitions/rossmann-store-sales/data."
   ]
  },
  {
   "cell_type": "markdown",
   "id": "3ec5c8a3",
   "metadata": {},
   "source": [
    "### Information Stored on each dataset"
   ]
  },
  {
   "cell_type": "code",
   "execution_count": 28,
   "id": "c59bb43a",
   "metadata": {},
   "outputs": [
    {
     "name": "stdout",
     "output_type": "stream",
     "text": [
      "<class 'pandas.core.frame.DataFrame'>\n",
      "RangeIndex: 1115 entries, 0 to 1114\n",
      "Data columns (total 10 columns):\n",
      " #   Column                     Non-Null Count  Dtype  \n",
      "---  ------                     --------------  -----  \n",
      " 0   Store                      1115 non-null   int64  \n",
      " 1   StoreType                  1115 non-null   object \n",
      " 2   Assortment                 1115 non-null   object \n",
      " 3   CompetitionDistance        1112 non-null   float64\n",
      " 4   CompetitionOpenSinceMonth  761 non-null    float64\n",
      " 5   CompetitionOpenSinceYear   761 non-null    float64\n",
      " 6   Promo2                     1115 non-null   int64  \n",
      " 7   Promo2SinceWeek            571 non-null    float64\n",
      " 8   Promo2SinceYear            571 non-null    float64\n",
      " 9   PromoInterval              571 non-null    object \n",
      "dtypes: float64(5), int64(2), object(3)\n",
      "memory usage: 87.2+ KB\n"
     ]
    }
   ],
   "source": [
    "stored_df.info()"
   ]
  },
  {
   "cell_type": "code",
   "execution_count": 29,
   "id": "fb0f4481",
   "metadata": {},
   "outputs": [
    {
     "name": "stdout",
     "output_type": "stream",
     "text": [
      "<class 'pandas.core.frame.DataFrame'>\n",
      "RangeIndex: 1017209 entries, 0 to 1017208\n",
      "Data columns (total 9 columns):\n",
      " #   Column         Non-Null Count    Dtype \n",
      "---  ------         --------------    ----- \n",
      " 0   Store          1017209 non-null  int64 \n",
      " 1   DayOfWeek      1017209 non-null  int64 \n",
      " 2   Date           1017209 non-null  object\n",
      " 3   Sales          1017209 non-null  int64 \n",
      " 4   Customers      1017209 non-null  int64 \n",
      " 5   Open           1017209 non-null  int64 \n",
      " 6   Promo          1017209 non-null  int64 \n",
      " 7   StateHoliday   1017209 non-null  object\n",
      " 8   SchoolHoliday  1017209 non-null  int64 \n",
      "dtypes: int64(7), object(2)\n",
      "memory usage: 69.8+ MB\n"
     ]
    }
   ],
   "source": [
    "train_df.info()"
   ]
  },
  {
   "cell_type": "code",
   "execution_count": 30,
   "id": "c19e96b8",
   "metadata": {},
   "outputs": [
    {
     "name": "stdout",
     "output_type": "stream",
     "text": [
      "<class 'pandas.core.frame.DataFrame'>\n",
      "RangeIndex: 41088 entries, 0 to 41087\n",
      "Data columns (total 8 columns):\n",
      " #   Column         Non-Null Count  Dtype  \n",
      "---  ------         --------------  -----  \n",
      " 0   Id             41088 non-null  int64  \n",
      " 1   Store          41088 non-null  int64  \n",
      " 2   DayOfWeek      41088 non-null  int64  \n",
      " 3   Date           41088 non-null  object \n",
      " 4   Open           41077 non-null  float64\n",
      " 5   Promo          41088 non-null  int64  \n",
      " 6   StateHoliday   41088 non-null  object \n",
      " 7   SchoolHoliday  41088 non-null  int64  \n",
      "dtypes: float64(1), int64(5), object(2)\n",
      "memory usage: 2.5+ MB\n"
     ]
    }
   ],
   "source": [
    "test_df.info()"
   ]
  },
  {
   "cell_type": "markdown",
   "id": "c9530436",
   "metadata": {},
   "source": [
    "## Data Preprocessing"
   ]
  },
  {
   "cell_type": "markdown",
   "id": "bb179f1d",
   "metadata": {},
   "source": [
    "### Cleaning"
   ]
  },
  {
   "cell_type": "code",
   "execution_count": 32,
   "id": "1698db7a",
   "metadata": {},
   "outputs": [
    {
     "data": {
      "text/html": [
       "<div>\n",
       "<style scoped>\n",
       "    .dataframe tbody tr th:only-of-type {\n",
       "        vertical-align: middle;\n",
       "    }\n",
       "\n",
       "    .dataframe tbody tr th {\n",
       "        vertical-align: top;\n",
       "    }\n",
       "\n",
       "    .dataframe thead th {\n",
       "        text-align: right;\n",
       "    }\n",
       "</style>\n",
       "<table border=\"1\" class=\"dataframe\">\n",
       "  <thead>\n",
       "    <tr style=\"text-align: right;\">\n",
       "      <th></th>\n",
       "      <th>count</th>\n",
       "      <th>none_count</th>\n",
       "      <th>none_percentage</th>\n",
       "      <th>unique_value_count</th>\n",
       "      <th>unique_percentage</th>\n",
       "      <th>dtype</th>\n",
       "    </tr>\n",
       "    <tr>\n",
       "      <th>label</th>\n",
       "      <th></th>\n",
       "      <th></th>\n",
       "      <th></th>\n",
       "      <th></th>\n",
       "      <th></th>\n",
       "      <th></th>\n",
       "    </tr>\n",
       "  </thead>\n",
       "  <tbody>\n",
       "    <tr>\n",
       "      <th>Store</th>\n",
       "      <td>1115</td>\n",
       "      <td>0</td>\n",
       "      <td>0.0%</td>\n",
       "      <td>1115</td>\n",
       "      <td>100.0%</td>\n",
       "      <td>int64</td>\n",
       "    </tr>\n",
       "    <tr>\n",
       "      <th>StoreType</th>\n",
       "      <td>1115</td>\n",
       "      <td>0</td>\n",
       "      <td>0.0%</td>\n",
       "      <td>4</td>\n",
       "      <td>0.36%</td>\n",
       "      <td>object</td>\n",
       "    </tr>\n",
       "    <tr>\n",
       "      <th>Assortment</th>\n",
       "      <td>1115</td>\n",
       "      <td>0</td>\n",
       "      <td>0.0%</td>\n",
       "      <td>3</td>\n",
       "      <td>0.27%</td>\n",
       "      <td>object</td>\n",
       "    </tr>\n",
       "    <tr>\n",
       "      <th>Promo2</th>\n",
       "      <td>1115</td>\n",
       "      <td>0</td>\n",
       "      <td>0.0%</td>\n",
       "      <td>2</td>\n",
       "      <td>0.18%</td>\n",
       "      <td>int64</td>\n",
       "    </tr>\n",
       "    <tr>\n",
       "      <th>CompetitionDistance</th>\n",
       "      <td>1112</td>\n",
       "      <td>3</td>\n",
       "      <td>0.27%</td>\n",
       "      <td>654</td>\n",
       "      <td>58.65%</td>\n",
       "      <td>float64</td>\n",
       "    </tr>\n",
       "    <tr>\n",
       "      <th>CompetitionOpenSinceMonth</th>\n",
       "      <td>761</td>\n",
       "      <td>354</td>\n",
       "      <td>31.75%</td>\n",
       "      <td>12</td>\n",
       "      <td>1.08%</td>\n",
       "      <td>float64</td>\n",
       "    </tr>\n",
       "    <tr>\n",
       "      <th>CompetitionOpenSinceYear</th>\n",
       "      <td>761</td>\n",
       "      <td>354</td>\n",
       "      <td>31.75%</td>\n",
       "      <td>23</td>\n",
       "      <td>2.06%</td>\n",
       "      <td>float64</td>\n",
       "    </tr>\n",
       "    <tr>\n",
       "      <th>Promo2SinceWeek</th>\n",
       "      <td>571</td>\n",
       "      <td>544</td>\n",
       "      <td>48.79%</td>\n",
       "      <td>24</td>\n",
       "      <td>2.15%</td>\n",
       "      <td>float64</td>\n",
       "    </tr>\n",
       "    <tr>\n",
       "      <th>Promo2SinceYear</th>\n",
       "      <td>571</td>\n",
       "      <td>544</td>\n",
       "      <td>48.79%</td>\n",
       "      <td>7</td>\n",
       "      <td>0.63%</td>\n",
       "      <td>float64</td>\n",
       "    </tr>\n",
       "    <tr>\n",
       "      <th>PromoInterval</th>\n",
       "      <td>571</td>\n",
       "      <td>544</td>\n",
       "      <td>48.79%</td>\n",
       "      <td>3</td>\n",
       "      <td>0.27%</td>\n",
       "      <td>object</td>\n",
       "    </tr>\n",
       "  </tbody>\n",
       "</table>\n",
       "</div>"
      ],
      "text/plain": [
       "                           count  none_count none_percentage  \\\n",
       "label                                                          \n",
       "Store                       1115           0            0.0%   \n",
       "StoreType                   1115           0            0.0%   \n",
       "Assortment                  1115           0            0.0%   \n",
       "Promo2                      1115           0            0.0%   \n",
       "CompetitionDistance         1112           3           0.27%   \n",
       "CompetitionOpenSinceMonth    761         354          31.75%   \n",
       "CompetitionOpenSinceYear     761         354          31.75%   \n",
       "Promo2SinceWeek              571         544          48.79%   \n",
       "Promo2SinceYear              571         544          48.79%   \n",
       "PromoInterval                571         544          48.79%   \n",
       "\n",
       "                           unique_value_count unique_percentage    dtype  \n",
       "label                                                                     \n",
       "Store                                    1115            100.0%    int64  \n",
       "StoreType                                   4             0.36%   object  \n",
       "Assortment                                  3             0.27%   object  \n",
       "Promo2                                      2             0.18%    int64  \n",
       "CompetitionDistance                       654            58.65%  float64  \n",
       "CompetitionOpenSinceMonth                  12             1.08%  float64  \n",
       "CompetitionOpenSinceYear                   23             2.06%  float64  \n",
       "Promo2SinceWeek                            24             2.15%  float64  \n",
       "Promo2SinceYear                             7             0.63%  float64  \n",
       "PromoInterval                               3             0.27%   object  "
      ]
     },
     "execution_count": 32,
     "metadata": {},
     "output_type": "execute_result"
    }
   ],
   "source": [
    "store_overview = DfOverview(stored_df)\n",
    "store_overview.getOverview()"
   ]
  },
  {
   "cell_type": "markdown",
   "id": "68ff17fd",
   "metadata": {},
   "source": [
    "**Observations:-**\n",
    "- From the 10 columns, 6 have a null value. \n",
    "- The column with minimum missing values is in **CompetitionDistance.** and those can be filled with with a median   value.\n",
    "- **PromoInterval, Promo2SinceYear, and Promo2SinceWeek** column has equal number of counts and missed values which is 544.\n",
    "- **CompetitionOpenSinceYear, CompetitionOpenSinceMonth** column has equal number of counts and missed values which is ."
   ]
  },
  {
   "cell_type": "code",
   "execution_count": 33,
   "id": "22d16b8c",
   "metadata": {},
   "outputs": [],
   "source": [
    "stored_df = my_clean.fill_with_median(stored_df, ['CompetitionDistance'])"
   ]
  },
  {
   "cell_type": "markdown",
   "id": "2ca25038",
   "metadata": {},
   "source": [
    "- looking in to `CompetitionDistance`"
   ]
  },
  {
   "cell_type": "code",
   "execution_count": 34,
   "id": "161427c2",
   "metadata": {},
   "outputs": [
    {
     "name": "stdout",
     "output_type": "stream",
     "text": [
      "[ 1.  2.  3.  4.  5.  6.  7.  8.  9. 10. 11. 12. nan]\n",
      "[1900. 1961. 1990. 1994. 1995. 1998. 1999. 2000. 2001. 2002. 2003. 2004.\n",
      " 2005. 2006. 2007. 2008. 2009. 2010. 2011. 2012. 2013. 2014. 2015.   nan]\n"
     ]
    }
   ],
   "source": [
    "print(np.sort(stored_df['CompetitionOpenSinceMonth'].unique()))\n",
    "print(np.sort(stored_df['CompetitionOpenSinceYear'].unique()))"
   ]
  },
  {
   "cell_type": "markdown",
   "id": "5b2e85d4",
   "metadata": {},
   "source": [
    "**Observation:-**\n",
    "- `CompetitionOpenSinceMonth` and `CompetitionOpenSinceYear` Columns hold the year and month when a new competition opened.\n",
    "- `CompetitionOpenSinceMonth` and `CompetitionOpenSinceYear` having null value is meaning full. It means competition for a store has already been there before the store is established or there is no competition.\n",
    "- The longest time we have in the dataset is 1900. So I decide to replaced the missed values with the first month 1990."
   ]
  },
  {
   "cell_type": "code",
   "execution_count": 35,
   "id": "a7ee92b3",
   "metadata": {},
   "outputs": [],
   "source": [
    "stored_df['CompetitionOpenSinceMonth'] = stored_df['CompetitionOpenSinceMonth'].fillna(1)\n",
    "stored_df['CompetitionOpenSinceYear'] = stored_df['CompetitionOpenSinceYear'].fillna(1990)"
   ]
  },
  {
   "cell_type": "markdown",
   "id": "f8b5d95b",
   "metadata": {},
   "source": [
    "- Looking in to the rest columns"
   ]
  },
  {
   "cell_type": "code",
   "execution_count": 36,
   "id": "4f3b4a98",
   "metadata": {},
   "outputs": [
    {
     "name": "stdout",
     "output_type": "stream",
     "text": [
      "[ 1.  5.  6.  9. 10. 13. 14. 18. 22. 23. 26. 27. 28. 31. 35. 36. 37. 39.\n",
      " 40. 44. 45. 48. 49. 50. nan]\n",
      "[2009. 2010. 2011. 2012. 2013. 2014. 2015.   nan]\n",
      "[nan 'Jan,Apr,Jul,Oct' 'Feb,May,Aug,Nov' 'Mar,Jun,Sept,Dec']\n"
     ]
    }
   ],
   "source": [
    "print(np.sort(stored_df['Promo2SinceWeek'].unique()))\n",
    "print(np.sort(stored_df['Promo2SinceYear'].unique()))\n",
    "print(stored_df['PromoInterval'].unique())"
   ]
  },
  {
   "cell_type": "code",
   "execution_count": 37,
   "id": "90fd49ba",
   "metadata": {},
   "outputs": [
    {
     "data": {
      "text/html": [
       "<div>\n",
       "<style scoped>\n",
       "    .dataframe tbody tr th:only-of-type {\n",
       "        vertical-align: middle;\n",
       "    }\n",
       "\n",
       "    .dataframe tbody tr th {\n",
       "        vertical-align: top;\n",
       "    }\n",
       "\n",
       "    .dataframe thead th {\n",
       "        text-align: right;\n",
       "    }\n",
       "</style>\n",
       "<table border=\"1\" class=\"dataframe\">\n",
       "  <thead>\n",
       "    <tr style=\"text-align: right;\">\n",
       "      <th></th>\n",
       "      <th>Promo2SinceWeek</th>\n",
       "      <th>Promo2SinceYear</th>\n",
       "      <th>PromoInterval</th>\n",
       "    </tr>\n",
       "  </thead>\n",
       "  <tbody>\n",
       "    <tr>\n",
       "      <th>0</th>\n",
       "      <td>NaN</td>\n",
       "      <td>NaN</td>\n",
       "      <td>NaN</td>\n",
       "    </tr>\n",
       "    <tr>\n",
       "      <th>3</th>\n",
       "      <td>NaN</td>\n",
       "      <td>NaN</td>\n",
       "      <td>NaN</td>\n",
       "    </tr>\n",
       "    <tr>\n",
       "      <th>4</th>\n",
       "      <td>NaN</td>\n",
       "      <td>NaN</td>\n",
       "      <td>NaN</td>\n",
       "    </tr>\n",
       "    <tr>\n",
       "      <th>5</th>\n",
       "      <td>NaN</td>\n",
       "      <td>NaN</td>\n",
       "      <td>NaN</td>\n",
       "    </tr>\n",
       "    <tr>\n",
       "      <th>6</th>\n",
       "      <td>NaN</td>\n",
       "      <td>NaN</td>\n",
       "      <td>NaN</td>\n",
       "    </tr>\n",
       "  </tbody>\n",
       "</table>\n",
       "</div>"
      ],
      "text/plain": [
       "   Promo2SinceWeek  Promo2SinceYear PromoInterval\n",
       "0              NaN              NaN           NaN\n",
       "3              NaN              NaN           NaN\n",
       "4              NaN              NaN           NaN\n",
       "5              NaN              NaN           NaN\n",
       "6              NaN              NaN           NaN"
      ]
     },
     "execution_count": 37,
     "metadata": {},
     "output_type": "execute_result"
    }
   ],
   "source": [
    "stored_df[stored_df['Promo2'] == 0][['Promo2SinceWeek', 'Promo2SinceYear', 'PromoInterval']].head(5)"
   ]
  },
  {
   "cell_type": "markdown",
   "id": "f1731941",
   "metadata": {},
   "source": [
    "**Observation:-** \n",
    "- The three columns are dependent on Promo2, and those messing the value is because Promo2 is equal to **zero**. \n",
    "- So it is expected to create a new column holding if the store participated in promo2 and then we can replace Promo2SinceYear and Promo2SinceWeek with the earliest month and week."
   ]
  },
  {
   "cell_type": "code",
   "execution_count": 38,
   "id": "154d6ae6",
   "metadata": {},
   "outputs": [
    {
     "name": "stdout",
     "output_type": "stream",
     "text": [
      "True\n"
     ]
    }
   ],
   "source": [
    "print(pd.isnull(stored_df['PromoInterval'][0]))"
   ]
  },
  {
   "cell_type": "code",
   "execution_count": 40,
   "id": "fc49b39c",
   "metadata": {},
   "outputs": [],
   "source": [
    "stored_df['Promo2SinceWeek'] = stored_df['Promo2SinceWeek'].fillna(0)\n",
    "stored_df['Promo2SinceYear'] = stored_df['CompetitionOpenSinceYear'].fillna(0)"
   ]
  },
  {
   "cell_type": "markdown",
   "id": "0df00089",
   "metadata": {},
   "source": [
    "- From the previous resulst we observed that Entries in PromotionInterval have 4 entries. \n",
    "- So I am going to split those points into 4 columns"
   ]
  },
  {
   "cell_type": "code",
   "execution_count": 41,
   "id": "7e8c05b3",
   "metadata": {},
   "outputs": [],
   "source": [
    "month_abbr = ['Jan', 'Feb', 'Mar', 'Apr', 'May', 'Jun', 'Jul', 'Aug', 'Sept', 'Oct', 'Nov', 'Dec']\n",
    "\n",
    "def getMonth(months, index):\n",
    "    if(months == 0):\n",
    "        return 0\n",
    "\n",
    "    month = months.split(',')[index]\n",
    "    return month_abbr.index(month)+1"
   ]
  },
  {
   "cell_type": "code",
   "execution_count": 42,
   "id": "beeb9e7f",
   "metadata": {},
   "outputs": [],
   "source": [
    "stored_df['PromoInterval'] = stored_df['PromoInterval'].fillna(0)\n",
    "stored_df['PromoInterval0'] = stored_df.PromoInterval.apply((lambda x: getMonth(x, 0)))\n",
    "stored_df['PromoInterval1'] = stored_df.PromoInterval.apply((lambda x: getMonth(x, 1)))\n",
    "stored_df['PromoInterval2'] = stored_df.PromoInterval.apply((lambda x: getMonth(x, 2)))\n",
    "stored_df['PromoInterval3'] = stored_df.PromoInterval.apply((lambda x: getMonth(x, 3)))\n",
    "stored_df = my_clean.drop_columns(stored_df, ['PromoInterval'])"
   ]
  },
  {
   "cell_type": "code",
   "execution_count": 45,
   "id": "f902c2a0",
   "metadata": {},
   "outputs": [
    {
     "data": {
      "text/plain": [
       "[0, 0, 0, 0, 0, 0, 0, 0, 0, 0, 0, 0, 0]"
      ]
     },
     "execution_count": 45,
     "metadata": {},
     "output_type": "execute_result"
    }
   ],
   "source": [
    "store_overview = DfOverview(stored_df)\n",
    "store_overview.missing_value()"
   ]
  },
  {
   "cell_type": "markdown",
   "id": "6599efde",
   "metadata": {},
   "source": [
    "#### Looking in to training data"
   ]
  },
  {
   "cell_type": "code",
   "execution_count": 48,
   "id": "8a6db2a8",
   "metadata": {},
   "outputs": [
    {
     "data": {
      "text/html": [
       "<div>\n",
       "<style scoped>\n",
       "    .dataframe tbody tr th:only-of-type {\n",
       "        vertical-align: middle;\n",
       "    }\n",
       "\n",
       "    .dataframe tbody tr th {\n",
       "        vertical-align: top;\n",
       "    }\n",
       "\n",
       "    .dataframe thead th {\n",
       "        text-align: right;\n",
       "    }\n",
       "</style>\n",
       "<table border=\"1\" class=\"dataframe\">\n",
       "  <thead>\n",
       "    <tr style=\"text-align: right;\">\n",
       "      <th></th>\n",
       "      <th>count</th>\n",
       "      <th>none_count</th>\n",
       "      <th>none_percentage</th>\n",
       "      <th>unique_value_count</th>\n",
       "      <th>unique_percentage</th>\n",
       "      <th>dtype</th>\n",
       "    </tr>\n",
       "    <tr>\n",
       "      <th>label</th>\n",
       "      <th></th>\n",
       "      <th></th>\n",
       "      <th></th>\n",
       "      <th></th>\n",
       "      <th></th>\n",
       "      <th></th>\n",
       "    </tr>\n",
       "  </thead>\n",
       "  <tbody>\n",
       "    <tr>\n",
       "      <th>Store</th>\n",
       "      <td>1017209</td>\n",
       "      <td>0</td>\n",
       "      <td>0.0%</td>\n",
       "      <td>1115</td>\n",
       "      <td>0.11%</td>\n",
       "      <td>int64</td>\n",
       "    </tr>\n",
       "    <tr>\n",
       "      <th>DayOfWeek</th>\n",
       "      <td>1017209</td>\n",
       "      <td>0</td>\n",
       "      <td>0.0%</td>\n",
       "      <td>7</td>\n",
       "      <td>0.0%</td>\n",
       "      <td>int64</td>\n",
       "    </tr>\n",
       "    <tr>\n",
       "      <th>Date</th>\n",
       "      <td>1017209</td>\n",
       "      <td>0</td>\n",
       "      <td>0.0%</td>\n",
       "      <td>942</td>\n",
       "      <td>0.09%</td>\n",
       "      <td>object</td>\n",
       "    </tr>\n",
       "    <tr>\n",
       "      <th>Sales</th>\n",
       "      <td>1017209</td>\n",
       "      <td>0</td>\n",
       "      <td>0.0%</td>\n",
       "      <td>21734</td>\n",
       "      <td>2.14%</td>\n",
       "      <td>int64</td>\n",
       "    </tr>\n",
       "    <tr>\n",
       "      <th>Customers</th>\n",
       "      <td>1017209</td>\n",
       "      <td>0</td>\n",
       "      <td>0.0%</td>\n",
       "      <td>4086</td>\n",
       "      <td>0.4%</td>\n",
       "      <td>int64</td>\n",
       "    </tr>\n",
       "    <tr>\n",
       "      <th>Open</th>\n",
       "      <td>1017209</td>\n",
       "      <td>0</td>\n",
       "      <td>0.0%</td>\n",
       "      <td>2</td>\n",
       "      <td>0.0%</td>\n",
       "      <td>int64</td>\n",
       "    </tr>\n",
       "    <tr>\n",
       "      <th>Promo</th>\n",
       "      <td>1017209</td>\n",
       "      <td>0</td>\n",
       "      <td>0.0%</td>\n",
       "      <td>2</td>\n",
       "      <td>0.0%</td>\n",
       "      <td>int64</td>\n",
       "    </tr>\n",
       "    <tr>\n",
       "      <th>StateHoliday</th>\n",
       "      <td>1017209</td>\n",
       "      <td>0</td>\n",
       "      <td>0.0%</td>\n",
       "      <td>5</td>\n",
       "      <td>0.0%</td>\n",
       "      <td>object</td>\n",
       "    </tr>\n",
       "    <tr>\n",
       "      <th>SchoolHoliday</th>\n",
       "      <td>1017209</td>\n",
       "      <td>0</td>\n",
       "      <td>0.0%</td>\n",
       "      <td>2</td>\n",
       "      <td>0.0%</td>\n",
       "      <td>int64</td>\n",
       "    </tr>\n",
       "  </tbody>\n",
       "</table>\n",
       "</div>"
      ],
      "text/plain": [
       "                 count  none_count none_percentage  unique_value_count  \\\n",
       "label                                                                    \n",
       "Store          1017209           0            0.0%                1115   \n",
       "DayOfWeek      1017209           0            0.0%                   7   \n",
       "Date           1017209           0            0.0%                 942   \n",
       "Sales          1017209           0            0.0%               21734   \n",
       "Customers      1017209           0            0.0%                4086   \n",
       "Open           1017209           0            0.0%                   2   \n",
       "Promo          1017209           0            0.0%                   2   \n",
       "StateHoliday   1017209           0            0.0%                   5   \n",
       "SchoolHoliday  1017209           0            0.0%                   2   \n",
       "\n",
       "              unique_percentage   dtype  \n",
       "label                                    \n",
       "Store                     0.11%   int64  \n",
       "DayOfWeek                  0.0%   int64  \n",
       "Date                      0.09%  object  \n",
       "Sales                     2.14%   int64  \n",
       "Customers                  0.4%   int64  \n",
       "Open                       0.0%   int64  \n",
       "Promo                      0.0%   int64  \n",
       "StateHoliday               0.0%  object  \n",
       "SchoolHoliday              0.0%   int64  "
      ]
     },
     "execution_count": 48,
     "metadata": {},
     "output_type": "execute_result"
    }
   ],
   "source": [
    "train_overview = DfOverview(train_df.copy())\n",
    "train_overview.getOverview()[:10]"
   ]
  },
  {
   "cell_type": "markdown",
   "id": "ad988ac5",
   "metadata": {},
   "source": [
    "**Observation-**\n",
    "- The training data has no error and did't require additional pre-processing"
   ]
  },
  {
   "cell_type": "markdown",
   "id": "4957eee5",
   "metadata": {},
   "source": [
    "#### Looking into test dataset"
   ]
  },
  {
   "cell_type": "code",
   "execution_count": 51,
   "id": "cb3a3216",
   "metadata": {},
   "outputs": [
    {
     "data": {
      "text/html": [
       "<div>\n",
       "<style scoped>\n",
       "    .dataframe tbody tr th:only-of-type {\n",
       "        vertical-align: middle;\n",
       "    }\n",
       "\n",
       "    .dataframe tbody tr th {\n",
       "        vertical-align: top;\n",
       "    }\n",
       "\n",
       "    .dataframe thead th {\n",
       "        text-align: right;\n",
       "    }\n",
       "</style>\n",
       "<table border=\"1\" class=\"dataframe\">\n",
       "  <thead>\n",
       "    <tr style=\"text-align: right;\">\n",
       "      <th></th>\n",
       "      <th>count</th>\n",
       "      <th>none_count</th>\n",
       "      <th>none_percentage</th>\n",
       "      <th>unique_value_count</th>\n",
       "      <th>unique_percentage</th>\n",
       "      <th>dtype</th>\n",
       "    </tr>\n",
       "    <tr>\n",
       "      <th>label</th>\n",
       "      <th></th>\n",
       "      <th></th>\n",
       "      <th></th>\n",
       "      <th></th>\n",
       "      <th></th>\n",
       "      <th></th>\n",
       "    </tr>\n",
       "  </thead>\n",
       "  <tbody>\n",
       "    <tr>\n",
       "      <th>Id</th>\n",
       "      <td>41088</td>\n",
       "      <td>0</td>\n",
       "      <td>0.0%</td>\n",
       "      <td>41088</td>\n",
       "      <td>100.0%</td>\n",
       "      <td>int64</td>\n",
       "    </tr>\n",
       "    <tr>\n",
       "      <th>Store</th>\n",
       "      <td>41088</td>\n",
       "      <td>0</td>\n",
       "      <td>0.0%</td>\n",
       "      <td>856</td>\n",
       "      <td>2.08%</td>\n",
       "      <td>int64</td>\n",
       "    </tr>\n",
       "    <tr>\n",
       "      <th>DayOfWeek</th>\n",
       "      <td>41088</td>\n",
       "      <td>0</td>\n",
       "      <td>0.0%</td>\n",
       "      <td>7</td>\n",
       "      <td>0.02%</td>\n",
       "      <td>int64</td>\n",
       "    </tr>\n",
       "    <tr>\n",
       "      <th>Date</th>\n",
       "      <td>41088</td>\n",
       "      <td>0</td>\n",
       "      <td>0.0%</td>\n",
       "      <td>48</td>\n",
       "      <td>0.12%</td>\n",
       "      <td>object</td>\n",
       "    </tr>\n",
       "    <tr>\n",
       "      <th>Promo</th>\n",
       "      <td>41088</td>\n",
       "      <td>0</td>\n",
       "      <td>0.0%</td>\n",
       "      <td>2</td>\n",
       "      <td>0.0%</td>\n",
       "      <td>int64</td>\n",
       "    </tr>\n",
       "    <tr>\n",
       "      <th>StateHoliday</th>\n",
       "      <td>41088</td>\n",
       "      <td>0</td>\n",
       "      <td>0.0%</td>\n",
       "      <td>2</td>\n",
       "      <td>0.0%</td>\n",
       "      <td>object</td>\n",
       "    </tr>\n",
       "    <tr>\n",
       "      <th>SchoolHoliday</th>\n",
       "      <td>41088</td>\n",
       "      <td>0</td>\n",
       "      <td>0.0%</td>\n",
       "      <td>2</td>\n",
       "      <td>0.0%</td>\n",
       "      <td>int64</td>\n",
       "    </tr>\n",
       "    <tr>\n",
       "      <th>Open</th>\n",
       "      <td>41077</td>\n",
       "      <td>11</td>\n",
       "      <td>0.03%</td>\n",
       "      <td>2</td>\n",
       "      <td>0.0%</td>\n",
       "      <td>float64</td>\n",
       "    </tr>\n",
       "  </tbody>\n",
       "</table>\n",
       "</div>"
      ],
      "text/plain": [
       "               count  none_count none_percentage  unique_value_count  \\\n",
       "label                                                                  \n",
       "Id             41088           0            0.0%               41088   \n",
       "Store          41088           0            0.0%                 856   \n",
       "DayOfWeek      41088           0            0.0%                   7   \n",
       "Date           41088           0            0.0%                  48   \n",
       "Promo          41088           0            0.0%                   2   \n",
       "StateHoliday   41088           0            0.0%                   2   \n",
       "SchoolHoliday  41088           0            0.0%                   2   \n",
       "Open           41077          11           0.03%                   2   \n",
       "\n",
       "              unique_percentage    dtype  \n",
       "label                                     \n",
       "Id                       100.0%    int64  \n",
       "Store                     2.08%    int64  \n",
       "DayOfWeek                 0.02%    int64  \n",
       "Date                      0.12%   object  \n",
       "Promo                      0.0%    int64  \n",
       "StateHoliday               0.0%   object  \n",
       "SchoolHoliday              0.0%    int64  \n",
       "Open                       0.0%  float64  "
      ]
     },
     "execution_count": 51,
     "metadata": {},
     "output_type": "execute_result"
    }
   ],
   "source": [
    "test_overview = DfOverview(test_df)\n",
    "test_overview.getOverview()"
   ]
  },
  {
   "cell_type": "markdown",
   "id": "1cf60ff6",
   "metadata": {},
   "source": [
    "**Observation-**\n",
    "- Looks fine except the open column has 11 noll values."
   ]
  },
  {
   "cell_type": "code",
   "execution_count": 52,
   "id": "e65c0c84",
   "metadata": {},
   "outputs": [
    {
     "data": {
      "text/html": [
       "<div>\n",
       "<style scoped>\n",
       "    .dataframe tbody tr th:only-of-type {\n",
       "        vertical-align: middle;\n",
       "    }\n",
       "\n",
       "    .dataframe tbody tr th {\n",
       "        vertical-align: top;\n",
       "    }\n",
       "\n",
       "    .dataframe thead th {\n",
       "        text-align: right;\n",
       "    }\n",
       "</style>\n",
       "<table border=\"1\" class=\"dataframe\">\n",
       "  <thead>\n",
       "    <tr style=\"text-align: right;\">\n",
       "      <th></th>\n",
       "      <th>Id</th>\n",
       "      <th>Store</th>\n",
       "      <th>DayOfWeek</th>\n",
       "      <th>Date</th>\n",
       "      <th>Open</th>\n",
       "      <th>Promo</th>\n",
       "      <th>StateHoliday</th>\n",
       "      <th>SchoolHoliday</th>\n",
       "    </tr>\n",
       "  </thead>\n",
       "  <tbody>\n",
       "    <tr>\n",
       "      <th>479</th>\n",
       "      <td>480</td>\n",
       "      <td>622</td>\n",
       "      <td>4</td>\n",
       "      <td>2015-09-17</td>\n",
       "      <td>NaN</td>\n",
       "      <td>1</td>\n",
       "      <td>0</td>\n",
       "      <td>0</td>\n",
       "    </tr>\n",
       "    <tr>\n",
       "      <th>1335</th>\n",
       "      <td>1336</td>\n",
       "      <td>622</td>\n",
       "      <td>3</td>\n",
       "      <td>2015-09-16</td>\n",
       "      <td>NaN</td>\n",
       "      <td>1</td>\n",
       "      <td>0</td>\n",
       "      <td>0</td>\n",
       "    </tr>\n",
       "    <tr>\n",
       "      <th>2191</th>\n",
       "      <td>2192</td>\n",
       "      <td>622</td>\n",
       "      <td>2</td>\n",
       "      <td>2015-09-15</td>\n",
       "      <td>NaN</td>\n",
       "      <td>1</td>\n",
       "      <td>0</td>\n",
       "      <td>0</td>\n",
       "    </tr>\n",
       "    <tr>\n",
       "      <th>3047</th>\n",
       "      <td>3048</td>\n",
       "      <td>622</td>\n",
       "      <td>1</td>\n",
       "      <td>2015-09-14</td>\n",
       "      <td>NaN</td>\n",
       "      <td>1</td>\n",
       "      <td>0</td>\n",
       "      <td>0</td>\n",
       "    </tr>\n",
       "    <tr>\n",
       "      <th>4759</th>\n",
       "      <td>4760</td>\n",
       "      <td>622</td>\n",
       "      <td>6</td>\n",
       "      <td>2015-09-12</td>\n",
       "      <td>NaN</td>\n",
       "      <td>0</td>\n",
       "      <td>0</td>\n",
       "      <td>0</td>\n",
       "    </tr>\n",
       "    <tr>\n",
       "      <th>5615</th>\n",
       "      <td>5616</td>\n",
       "      <td>622</td>\n",
       "      <td>5</td>\n",
       "      <td>2015-09-11</td>\n",
       "      <td>NaN</td>\n",
       "      <td>0</td>\n",
       "      <td>0</td>\n",
       "      <td>0</td>\n",
       "    </tr>\n",
       "    <tr>\n",
       "      <th>6471</th>\n",
       "      <td>6472</td>\n",
       "      <td>622</td>\n",
       "      <td>4</td>\n",
       "      <td>2015-09-10</td>\n",
       "      <td>NaN</td>\n",
       "      <td>0</td>\n",
       "      <td>0</td>\n",
       "      <td>0</td>\n",
       "    </tr>\n",
       "    <tr>\n",
       "      <th>7327</th>\n",
       "      <td>7328</td>\n",
       "      <td>622</td>\n",
       "      <td>3</td>\n",
       "      <td>2015-09-09</td>\n",
       "      <td>NaN</td>\n",
       "      <td>0</td>\n",
       "      <td>0</td>\n",
       "      <td>0</td>\n",
       "    </tr>\n",
       "    <tr>\n",
       "      <th>8183</th>\n",
       "      <td>8184</td>\n",
       "      <td>622</td>\n",
       "      <td>2</td>\n",
       "      <td>2015-09-08</td>\n",
       "      <td>NaN</td>\n",
       "      <td>0</td>\n",
       "      <td>0</td>\n",
       "      <td>0</td>\n",
       "    </tr>\n",
       "    <tr>\n",
       "      <th>9039</th>\n",
       "      <td>9040</td>\n",
       "      <td>622</td>\n",
       "      <td>1</td>\n",
       "      <td>2015-09-07</td>\n",
       "      <td>NaN</td>\n",
       "      <td>0</td>\n",
       "      <td>0</td>\n",
       "      <td>0</td>\n",
       "    </tr>\n",
       "    <tr>\n",
       "      <th>10751</th>\n",
       "      <td>10752</td>\n",
       "      <td>622</td>\n",
       "      <td>6</td>\n",
       "      <td>2015-09-05</td>\n",
       "      <td>NaN</td>\n",
       "      <td>0</td>\n",
       "      <td>0</td>\n",
       "      <td>0</td>\n",
       "    </tr>\n",
       "  </tbody>\n",
       "</table>\n",
       "</div>"
      ],
      "text/plain": [
       "          Id  Store  DayOfWeek        Date  Open  Promo StateHoliday  \\\n",
       "479      480    622          4  2015-09-17   NaN      1            0   \n",
       "1335    1336    622          3  2015-09-16   NaN      1            0   \n",
       "2191    2192    622          2  2015-09-15   NaN      1            0   \n",
       "3047    3048    622          1  2015-09-14   NaN      1            0   \n",
       "4759    4760    622          6  2015-09-12   NaN      0            0   \n",
       "5615    5616    622          5  2015-09-11   NaN      0            0   \n",
       "6471    6472    622          4  2015-09-10   NaN      0            0   \n",
       "7327    7328    622          3  2015-09-09   NaN      0            0   \n",
       "8183    8184    622          2  2015-09-08   NaN      0            0   \n",
       "9039    9040    622          1  2015-09-07   NaN      0            0   \n",
       "10751  10752    622          6  2015-09-05   NaN      0            0   \n",
       "\n",
       "       SchoolHoliday  \n",
       "479                0  \n",
       "1335               0  \n",
       "2191               0  \n",
       "3047               0  \n",
       "4759               0  \n",
       "5615               0  \n",
       "6471               0  \n",
       "7327               0  \n",
       "8183               0  \n",
       "9039               0  \n",
       "10751              0  "
      ]
     },
     "execution_count": 52,
     "metadata": {},
     "output_type": "execute_result"
    }
   ],
   "source": [
    "test_df[pd.isnull(test_df['Open'])]"
   ]
  },
  {
   "cell_type": "markdown",
   "id": "089f6ab4",
   "metadata": {},
   "source": [
    "- We can see that, all of the null values are from store `622`"
   ]
  },
  {
   "cell_type": "code",
   "execution_count": 53,
   "id": "e7e8feb3",
   "metadata": {},
   "outputs": [
    {
     "data": {
      "text/plain": [
       "[]"
      ]
     },
     "execution_count": 53,
     "metadata": {},
     "output_type": "execute_result"
    }
   ],
   "source": [
    "unknown_date = test_df[pd.isnull(test_df['Open'])]['Date'].values\n",
    "temp_df = train_df[train_df['Store'] == 622]\n",
    "[cols for cols in train_df['Store'] if cols in unknown_date]"
   ]
  },
  {
   "cell_type": "markdown",
   "id": "c8b3ef8e",
   "metadata": {},
   "source": [
    "- We can see that there is no record in training data set about store 622 on these days."
   ]
  },
  {
   "cell_type": "markdown",
   "id": "f342520e",
   "metadata": {},
   "source": [
    "#### Apply fill_forward aproach"
   ]
  },
  {
   "cell_type": "code",
   "execution_count": 54,
   "id": "c1a73e42",
   "metadata": {},
   "outputs": [],
   "source": [
    "df_test = my_clean.fix_missing_ffill(test_df, ['Open'])"
   ]
  },
  {
   "cell_type": "code",
   "execution_count": 57,
   "id": "26d89808",
   "metadata": {},
   "outputs": [
    {
     "data": {
      "text/plain": [
       "[0, 0, 0, 0, 0, 0, 0, 0]"
      ]
     },
     "execution_count": 57,
     "metadata": {},
     "output_type": "execute_result"
    }
   ],
   "source": [
    "test_overview = DfOverview(test_df)\n",
    "test_overview.missing_value()"
   ]
  },
  {
   "cell_type": "code",
   "execution_count": 58,
   "id": "ac8765b1",
   "metadata": {},
   "outputs": [
    {
     "data": {
      "text/html": [
       "<div>\n",
       "<style scoped>\n",
       "    .dataframe tbody tr th:only-of-type {\n",
       "        vertical-align: middle;\n",
       "    }\n",
       "\n",
       "    .dataframe tbody tr th {\n",
       "        vertical-align: top;\n",
       "    }\n",
       "\n",
       "    .dataframe thead th {\n",
       "        text-align: right;\n",
       "    }\n",
       "</style>\n",
       "<table border=\"1\" class=\"dataframe\">\n",
       "  <thead>\n",
       "    <tr style=\"text-align: right;\">\n",
       "      <th></th>\n",
       "      <th>Store</th>\n",
       "      <th>DayOfWeek</th>\n",
       "      <th>Date</th>\n",
       "      <th>Sales</th>\n",
       "      <th>Customers</th>\n",
       "      <th>Open</th>\n",
       "      <th>Promo</th>\n",
       "      <th>StateHoliday</th>\n",
       "      <th>SchoolHoliday</th>\n",
       "    </tr>\n",
       "  </thead>\n",
       "  <tbody>\n",
       "    <tr>\n",
       "      <th>0</th>\n",
       "      <td>1</td>\n",
       "      <td>5</td>\n",
       "      <td>2015-07-31</td>\n",
       "      <td>5263</td>\n",
       "      <td>555</td>\n",
       "      <td>1</td>\n",
       "      <td>1</td>\n",
       "      <td>0</td>\n",
       "      <td>1</td>\n",
       "    </tr>\n",
       "    <tr>\n",
       "      <th>1</th>\n",
       "      <td>2</td>\n",
       "      <td>5</td>\n",
       "      <td>2015-07-31</td>\n",
       "      <td>6064</td>\n",
       "      <td>625</td>\n",
       "      <td>1</td>\n",
       "      <td>1</td>\n",
       "      <td>0</td>\n",
       "      <td>1</td>\n",
       "    </tr>\n",
       "    <tr>\n",
       "      <th>2</th>\n",
       "      <td>3</td>\n",
       "      <td>5</td>\n",
       "      <td>2015-07-31</td>\n",
       "      <td>8314</td>\n",
       "      <td>821</td>\n",
       "      <td>1</td>\n",
       "      <td>1</td>\n",
       "      <td>0</td>\n",
       "      <td>1</td>\n",
       "    </tr>\n",
       "    <tr>\n",
       "      <th>3</th>\n",
       "      <td>4</td>\n",
       "      <td>5</td>\n",
       "      <td>2015-07-31</td>\n",
       "      <td>13995</td>\n",
       "      <td>1498</td>\n",
       "      <td>1</td>\n",
       "      <td>1</td>\n",
       "      <td>0</td>\n",
       "      <td>1</td>\n",
       "    </tr>\n",
       "    <tr>\n",
       "      <th>4</th>\n",
       "      <td>5</td>\n",
       "      <td>5</td>\n",
       "      <td>2015-07-31</td>\n",
       "      <td>4822</td>\n",
       "      <td>559</td>\n",
       "      <td>1</td>\n",
       "      <td>1</td>\n",
       "      <td>0</td>\n",
       "      <td>1</td>\n",
       "    </tr>\n",
       "  </tbody>\n",
       "</table>\n",
       "</div>"
      ],
      "text/plain": [
       "   Store  DayOfWeek        Date  Sales  Customers  Open  Promo StateHoliday  \\\n",
       "0      1          5  2015-07-31   5263        555     1      1            0   \n",
       "1      2          5  2015-07-31   6064        625     1      1            0   \n",
       "2      3          5  2015-07-31   8314        821     1      1            0   \n",
       "3      4          5  2015-07-31  13995       1498     1      1            0   \n",
       "4      5          5  2015-07-31   4822        559     1      1            0   \n",
       "\n",
       "   SchoolHoliday  \n",
       "0              1  \n",
       "1              1  \n",
       "2              1  \n",
       "3              1  \n",
       "4              1  "
      ]
     },
     "execution_count": 58,
     "metadata": {},
     "output_type": "execute_result"
    }
   ],
   "source": [
    "train_df.head()"
   ]
  },
  {
   "cell_type": "markdown",
   "id": "a55f635f",
   "metadata": {},
   "source": [
    "#### chek and handle zero Sales"
   ]
  },
  {
   "cell_type": "code",
   "execution_count": 59,
   "id": "af262b35",
   "metadata": {},
   "outputs": [
    {
     "name": "stdout",
     "output_type": "stream",
     "text": [
      "Closed stores count: 172817\n",
      "Closed stores percentage: 16.99%\n"
     ]
    }
   ],
   "source": [
    "closed_store_count = train_df[(train_df.Open == 0) & (train_df.Sales == 0)].shape[0]\n",
    "\n",
    "print(f\"Closed stores count: {closed_store_count}\")\n",
    "print(f\"Closed stores percentage: {(closed_store_count/train_df.shape[0]*100):.4}%\", )"
   ]
  },
  {
   "cell_type": "markdown",
   "id": "95d77965",
   "metadata": {},
   "source": [
    "**Observation-**\n",
    "- There are 172,817 closed stores in the data set and counts approximatly 17%"
   ]
  },
  {
   "cell_type": "code",
   "execution_count": 60,
   "id": "b5bd06ac",
   "metadata": {},
   "outputs": [
    {
     "data": {
      "text/plain": [
       "5984"
      ]
     },
     "execution_count": 60,
     "metadata": {},
     "output_type": "execute_result"
    }
   ],
   "source": [
    "closed_store_count = df_test[(df_test.Open == 0)].shape[0]\n",
    "closed_store_count"
   ]
  },
  {
   "cell_type": "markdown",
   "id": "186d8d56",
   "metadata": {},
   "source": [
    "#### Check and handel outliers"
   ]
  },
  {
   "cell_type": "markdown",
   "id": "c6183cbb",
   "metadata": {},
   "source": [
    "- Since CompetitionDistance  has more uniqu values"
   ]
  },
  {
   "cell_type": "code",
   "execution_count": 61,
   "id": "66070b67",
   "metadata": {},
   "outputs": [
    {
     "data": {
      "text/html": [
       "<div>\n",
       "<style scoped>\n",
       "    .dataframe tbody tr th:only-of-type {\n",
       "        vertical-align: middle;\n",
       "    }\n",
       "\n",
       "    .dataframe tbody tr th {\n",
       "        vertical-align: top;\n",
       "    }\n",
       "\n",
       "    .dataframe thead th {\n",
       "        text-align: right;\n",
       "    }\n",
       "</style>\n",
       "<table border=\"1\" class=\"dataframe\">\n",
       "  <thead>\n",
       "    <tr style=\"text-align: right;\">\n",
       "      <th></th>\n",
       "      <th>number_of_outliers</th>\n",
       "      <th>percentage_of_outliers</th>\n",
       "      <th>skew</th>\n",
       "      <th>Q1</th>\n",
       "      <th>Median</th>\n",
       "      <th>Q3</th>\n",
       "    </tr>\n",
       "    <tr>\n",
       "      <th>label</th>\n",
       "      <th></th>\n",
       "      <th></th>\n",
       "      <th></th>\n",
       "      <th></th>\n",
       "      <th></th>\n",
       "      <th></th>\n",
       "    </tr>\n",
       "  </thead>\n",
       "  <tbody>\n",
       "    <tr>\n",
       "      <th>CompetitionDistance</th>\n",
       "      <td>108</td>\n",
       "      <td>9.69%</td>\n",
       "      <td>2.934389</td>\n",
       "      <td>720.0</td>\n",
       "      <td>2325.0</td>\n",
       "      <td>6875.0</td>\n",
       "    </tr>\n",
       "  </tbody>\n",
       "</table>\n",
       "</div>"
      ],
      "text/plain": [
       "                     number_of_outliers percentage_of_outliers      skew  \\\n",
       "label                                                                      \n",
       "CompetitionDistance                 108                  9.69%  2.934389   \n",
       "\n",
       "                        Q1  Median      Q3  \n",
       "label                                       \n",
       "CompetitionDistance  720.0  2325.0  6875.0  "
      ]
     },
     "execution_count": 61,
     "metadata": {},
     "output_type": "execute_result"
    }
   ],
   "source": [
    "outliers_df = DfOutlier(stored_df[['CompetitionDistance']].copy())\n",
    "overview = outliers_df.getOverview()\n",
    "overview"
   ]
  },
  {
   "cell_type": "code",
   "execution_count": 62,
   "id": "867199e2",
   "metadata": {},
   "outputs": [
    {
     "data": {
      "text/html": [
       "<div>\n",
       "<style scoped>\n",
       "    .dataframe tbody tr th:only-of-type {\n",
       "        vertical-align: middle;\n",
       "    }\n",
       "\n",
       "    .dataframe tbody tr th {\n",
       "        vertical-align: top;\n",
       "    }\n",
       "\n",
       "    .dataframe thead th {\n",
       "        text-align: right;\n",
       "    }\n",
       "</style>\n",
       "<table border=\"1\" class=\"dataframe\">\n",
       "  <thead>\n",
       "    <tr style=\"text-align: right;\">\n",
       "      <th></th>\n",
       "      <th>CompetitionDistance</th>\n",
       "    </tr>\n",
       "  </thead>\n",
       "  <tbody>\n",
       "    <tr>\n",
       "      <th>count</th>\n",
       "      <td>1115.000000</td>\n",
       "    </tr>\n",
       "    <tr>\n",
       "      <th>mean</th>\n",
       "      <td>5396.614350</td>\n",
       "    </tr>\n",
       "    <tr>\n",
       "      <th>std</th>\n",
       "      <td>7654.513635</td>\n",
       "    </tr>\n",
       "    <tr>\n",
       "      <th>min</th>\n",
       "      <td>20.000000</td>\n",
       "    </tr>\n",
       "    <tr>\n",
       "      <th>25%</th>\n",
       "      <td>720.000000</td>\n",
       "    </tr>\n",
       "    <tr>\n",
       "      <th>50%</th>\n",
       "      <td>2325.000000</td>\n",
       "    </tr>\n",
       "    <tr>\n",
       "      <th>75%</th>\n",
       "      <td>6875.000000</td>\n",
       "    </tr>\n",
       "    <tr>\n",
       "      <th>max</th>\n",
       "      <td>75860.000000</td>\n",
       "    </tr>\n",
       "  </tbody>\n",
       "</table>\n",
       "</div>"
      ],
      "text/plain": [
       "       CompetitionDistance\n",
       "count          1115.000000\n",
       "mean           5396.614350\n",
       "std            7654.513635\n",
       "min              20.000000\n",
       "25%             720.000000\n",
       "50%            2325.000000\n",
       "75%            6875.000000\n",
       "max           75860.000000"
      ]
     },
     "execution_count": 62,
     "metadata": {},
     "output_type": "execute_result"
    }
   ],
   "source": [
    "stored_df[['CompetitionDistance']].describe()"
   ]
  },
  {
   "cell_type": "code",
   "execution_count": 63,
   "id": "16a2a1c8",
   "metadata": {},
   "outputs": [],
   "source": [
    "#using seaborne plotter\n",
    "sbp =  VisSeaborn()"
   ]
  },
  {
   "cell_type": "code",
   "execution_count": 64,
   "id": "2e6022cf",
   "metadata": {},
   "outputs": [
    {
     "data": {
      "image/png": "[encoded data removed]",
      "text/plain": [
       "<Figure size 432x288 with 1 Axes>"
      ]
     },
     "metadata": {},
     "output_type": "display_data"
    }
   ],
   "source": [
    "sbp.boxplot(stored_df, ['CompetitionDistance'], 'Competition Distance', figsize=(6, 4))"
   ]
  },
  {
   "cell_type": "code",
   "execution_count": 65,
   "id": "929ddede",
   "metadata": {},
   "outputs": [
    {
     "data": {
      "image/png": "[encoded data removed]",
      "text/plain": [
       "<Figure size 432x288 with 1 Axes>"
      ]
     },
     "metadata": {},
     "output_type": "display_data"
    }
   ],
   "source": [
    "outliers = DfOutlier(stored_df)\n",
    "outliers.replace_outliers_with_iqr(['CompetitionDistance'])\n",
    "\n",
    "stored_df = outliers.df\n",
    "sbp.boxplot(stored_df, ['CompetitionDistance'], 'Competition Distance', figsize=(6, 4))"
   ]
  },
  {
   "cell_type": "markdown",
   "id": "2baa43ba",
   "metadata": {},
   "source": [
    "#### look into `Sales` and `Customers` of training data. "
   ]
  },
  {
   "cell_type": "code",
   "execution_count": 66,
   "id": "b649b7dc",
   "metadata": {},
   "outputs": [
    {
     "data": {
      "text/html": [
       "<div>\n",
       "<style scoped>\n",
       "    .dataframe tbody tr th:only-of-type {\n",
       "        vertical-align: middle;\n",
       "    }\n",
       "\n",
       "    .dataframe tbody tr th {\n",
       "        vertical-align: top;\n",
       "    }\n",
       "\n",
       "    .dataframe thead th {\n",
       "        text-align: right;\n",
       "    }\n",
       "</style>\n",
       "<table border=\"1\" class=\"dataframe\">\n",
       "  <thead>\n",
       "    <tr style=\"text-align: right;\">\n",
       "      <th></th>\n",
       "      <th>number_of_outliers</th>\n",
       "      <th>percentage_of_outliers</th>\n",
       "      <th>skew</th>\n",
       "      <th>Q1</th>\n",
       "      <th>Median</th>\n",
       "      <th>Q3</th>\n",
       "    </tr>\n",
       "    <tr>\n",
       "      <th>label</th>\n",
       "      <th></th>\n",
       "      <th></th>\n",
       "      <th></th>\n",
       "      <th></th>\n",
       "      <th></th>\n",
       "      <th></th>\n",
       "    </tr>\n",
       "  </thead>\n",
       "  <tbody>\n",
       "    <tr>\n",
       "      <th>Sales</th>\n",
       "      <td>26694</td>\n",
       "      <td>2.62%</td>\n",
       "      <td>0.64146</td>\n",
       "      <td>3727.0</td>\n",
       "      <td>5744.0</td>\n",
       "      <td>7856.0</td>\n",
       "    </tr>\n",
       "    <tr>\n",
       "      <th>Customers</th>\n",
       "      <td>38095</td>\n",
       "      <td>3.75%</td>\n",
       "      <td>1.59865</td>\n",
       "      <td>405.0</td>\n",
       "      <td>609.0</td>\n",
       "      <td>837.0</td>\n",
       "    </tr>\n",
       "  </tbody>\n",
       "</table>\n",
       "</div>"
      ],
      "text/plain": [
       "           number_of_outliers percentage_of_outliers     skew      Q1  Median  \\\n",
       "label                                                                           \n",
       "Sales                   26694                  2.62%  0.64146  3727.0  5744.0   \n",
       "Customers               38095                  3.75%  1.59865   405.0   609.0   \n",
       "\n",
       "               Q3  \n",
       "label              \n",
       "Sales      7856.0  \n",
       "Customers   837.0  "
      ]
     },
     "execution_count": 66,
     "metadata": {},
     "output_type": "execute_result"
    }
   ],
   "source": [
    "outliers = DfOutlier(train_df[['Sales', 'Customers']].copy())\n",
    "overview = outliers.getOverview()\n",
    "overview"
   ]
  },
  {
   "cell_type": "code",
   "execution_count": 67,
   "id": "cb033e7b",
   "metadata": {},
   "outputs": [
    {
     "data": {
      "image/png": "[encoded data removed]",
      "text/plain": [
       "<Figure size 864x288 with 2 Axes>"
      ]
     },
     "metadata": {},
     "output_type": "display_data"
    }
   ],
   "source": [
    "sbp.boxplot(train_df, ['Sales', 'Customers'], cols=2, figsize=(12, 4))"
   ]
  },
  {
   "cell_type": "code",
   "execution_count": null,
   "id": "9a84156f",
   "metadata": {},
   "outputs": [],
   "source": []
  },
  {
   "cell_type": "code",
   "execution_count": 68,
   "id": "89f8c294",
   "metadata": {},
   "outputs": [],
   "source": [
    "outliers = DfOutlier(train_df)\n",
    "outliers.replace_outliers_with_iqr(['Sales', 'Customers'])\n",
    "train_df = outliers.df"
   ]
  },
  {
   "cell_type": "code",
   "execution_count": 69,
   "id": "8cc67993",
   "metadata": {},
   "outputs": [
    {
     "data": {
      "image/png": "[encoded data removed]",
      "text/plain": [
       "<Figure size 864x288 with 2 Axes>"
      ]
     },
     "metadata": {},
     "output_type": "display_data"
    }
   ],
   "source": [
    "sbp.boxplot(train_df, ['Sales', 'Customers'], cols=2, figsize=(12, 4))"
   ]
  },
  {
   "cell_type": "markdown",
   "id": "2fbb6174",
   "metadata": {},
   "source": [
    "#### Manage Data types\n",
    "- Date and time \n",
    "- Categorical columns to Integer\n",
    "- Discrete values of the data set to int"
   ]
  },
  {
   "cell_type": "code",
   "execution_count": 70,
   "id": "69f3c970",
   "metadata": {},
   "outputs": [],
   "source": [
    "train_df = my_clean.convert_to_datetime(train_df, ['Date'])\n",
    "test_df = my_clean.convert_to_datetime(test_df, ['Date'])"
   ]
  },
  {
   "cell_type": "code",
   "execution_count": 71,
   "id": "b6e434a7",
   "metadata": {},
   "outputs": [
    {
     "name": "stdout",
     "output_type": "stream",
     "text": [
      "Unique datapoints in StateHoliday ['c' 'a' 'd' 'b']\n",
      "Unique datapoints in StateHoliday ['a' 'c' 'b']\n",
      "Unique datapoints in StateHoliday ['0' 'a' 'b' 'c' 0]\n"
     ]
    }
   ],
   "source": [
    "print(\"Unique datapoints in StateHoliday\", stored_df['StoreType'].unique())\n",
    "print(\"Unique datapoints in StateHoliday\", stored_df['Assortment'].unique())\n",
    "print(\"Unique datapoints in StateHoliday\", train_df['StateHoliday'].unique())"
   ]
  },
  {
   "cell_type": "code",
   "execution_count": 72,
   "id": "ade4593c",
   "metadata": {},
   "outputs": [],
   "source": [
    "train_df[\"StateHoliday\"].loc[train_df[\"StateHoliday\"] == 0] = \"0\";\n",
    "test_df[\"StateHoliday\"].loc[test_df[\"StateHoliday\"] == 0] = \"0\""
   ]
  },
  {
   "cell_type": "code",
   "execution_count": 73,
   "id": "41eeb446",
   "metadata": {},
   "outputs": [],
   "source": [
    "chars = [\"0\", \"a\", \"b\", \"c\"]\n",
    "train_df['StateHoliday'] = train_df['StateHoliday'].apply(lambda x: chars.index(x))\n",
    "test_df['StateHoliday'] = test_df['StateHoliday'].apply(lambda x: chars.index(x))"
   ]
  },
  {
   "cell_type": "code",
   "execution_count": 74,
   "id": "20532f1f",
   "metadata": {},
   "outputs": [],
   "source": [
    "chars = [\"a\", \"b\", \"c\", \"d\"]\n",
    "stored_df['StoreType'] = stored_df['StoreType'].apply(lambda x: chars.index(x))\n",
    "stored_df['Assortment'] = stored_df['Assortment'].apply(lambda x: chars.index(x))"
   ]
  },
  {
   "cell_type": "code",
   "execution_count": 75,
   "id": "be38f395",
   "metadata": {},
   "outputs": [],
   "source": [
    "stored_df = my_clean.convert_to_integer(stored_df, ['StoreType', 'Assortment', 'CompetitionDistance', 'CompetitionOpenSinceMonth', 'CompetitionOpenSinceYear', 'Promo2SinceWeek', 'Promo2SinceYear'])\n",
    "train_df = my_clean.convert_to_integer(train_df, ['StateHoliday', 'SchoolHoliday', 'Customers', 'Sales', 'Open'])\n",
    "test_df = my_clean.convert_to_integer(test_df, ['StateHoliday', 'SchoolHoliday', 'Open'])"
   ]
  },
  {
   "cell_type": "markdown",
   "id": "599c550a",
   "metadata": {},
   "source": [
    "#### Store each of the cleaned data for the next phase"
   ]
  },
  {
   "cell_type": "code",
   "execution_count": 76,
   "id": "7524fcd1",
   "metadata": {},
   "outputs": [],
   "source": [
    "Stor_file = FileHandler()"
   ]
  },
  {
   "cell_type": "code",
   "execution_count": 78,
   "id": "fa6fcd7e",
   "metadata": {},
   "outputs": [
    {
     "name": "stdout",
     "output_type": "stream",
     "text": [
      "2022-05-24 14:28:44,655 — DfHelper — INFO — file saved as csv\n",
      "2022-05-24 14:28:58,186 — DfHelper — INFO — file saved as csv\n",
      "2022-05-24 14:28:58,759 — DfHelper — INFO — file saved as csv\n"
     ]
    }
   ],
   "source": [
    "Stor_file.save_csv(stored_df, '../data/store.csv')\n",
    "Stor_file.save_csv(train_df, '../data/train.csv')\n",
    "Stor_file.save_csv(test_df, '../data/test.csv')"
   ]
  },
  {
   "cell_type": "code",
   "execution_count": null,
   "id": "6f719e0a",
   "metadata": {},
   "outputs": [],
   "source": []
  }
 ],
 "metadata": {
  "kernelspec": {
   "display_name": "Python 3 (ipykernel)",
   "language": "python",
   "name": "python3"
  },
  "language_info": {
   "codemirror_mode": {
    "name": "ipython",
    "version": 3
   },
   "file_extension": ".py",
   "mimetype": "text/x-python",
   "name": "python",
   "nbconvert_exporter": "python",
   "pygments_lexer": "ipython3",
   "version": "3.9.12"
  }
 },
 "nbformat": 4,
 "nbformat_minor": 5
}
