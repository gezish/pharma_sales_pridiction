{
 "cells": [
  {
   "cell_type": "markdown",
   "id": "5741f146",
   "metadata": {},
   "source": [
    "## Task 1 - *Exploration of customer purchasing behavior*"
   ]
  },
  {
   "cell_type": "markdown",
   "id": "d050372d",
   "metadata": {},
   "source": [
    "### 1.1. Preprocessing"
   ]
  },
  {
   "cell_type": "markdown",
   "id": "8dd43ac3",
   "metadata": {},
   "source": [
    "### *Importing liberaries*"
   ]
  },
  {
   "cell_type": "code",
   "execution_count": 2,
   "id": "87d4500a",
   "metadata": {},
   "outputs": [],
   "source": [
    "import warnings\n",
    "import numpy as np\n",
    "import pandas as pd\n",
    "import seaborn as sns\n",
    "import matplotlib.pyplot as plt"
   ]
  },
  {
   "cell_type": "code",
   "execution_count": 22,
   "id": "babdcc6f",
   "metadata": {},
   "outputs": [],
   "source": [
    "sys.path.append(os.path.abspath(os.path.join('../modules')))\n",
    "warnings.filterwarnings(\"ignore\")\n",
    "sns.set()"
   ]
  },
  {
   "cell_type": "code",
   "execution_count": 26,
   "id": "1bee7696",
   "metadata": {},
   "outputs": [],
   "source": [
    "from load_file import FileHandler"
   ]
  },
  {
   "cell_type": "code",
   "execution_count": 27,
   "id": "31c2604c",
   "metadata": {},
   "outputs": [],
   "source": [
    "file_loader = FileHandler()"
   ]
  },
  {
   "cell_type": "code",
   "execution_count": 29,
   "id": "95fa5c61",
   "metadata": {},
   "outputs": [
    {
     "name": "stdout",
     "output_type": "stream",
     "text": [
      "2022-05-23 20:23:47,229 — DfHelper — DEBUG — file read as csv\n",
      "2022-05-23 20:23:50,052 — DfHelper — DEBUG — file read as csv\n",
      "2022-05-23 20:23:53,821 — DfHelper — DEBUG — file read as csv\n"
     ]
    }
   ],
   "source": [
    "stored_df = file_loader.read_csv('../data/store.csv')\n",
    "train_df = file_loader.read_csv('../data/train.csv')\n",
    "test_df = file_loader.read_csv('../data/test.csv')"
   ]
  },
  {
   "cell_type": "markdown",
   "id": "15affa4f",
   "metadata": {},
   "source": [
    " ### *Feature Dicriptions of the Data* ###\n",
    " \n",
    "The following are descriptions of **Rossmann Pharmaceuticals** data set.\n",
    "- **`Id`** - an Id that represents a (Store, Date) duple within the test set\n",
    "- **`Store`** - a unique Id for each store\n",
    "- **`Sales`** - the turnover for any given day (this is what you are predicting)\n",
    "- **`Customers`** - the number of customers on a given day\n",
    "- **`Open`** - an indicator for whether the store was open: 0 = closed, 1 = open\n",
    "- **`StateHoliday`** - indicates a state holiday. Normally all stores, with few exceptions, are closed on state holidays. \n",
    "\n",
    "**Note that** all schools are closed on public holidays and weekends. a = public holiday, b = Easter holiday, c = Christmas, 0 = None\n",
    "- **`SchoolHoliday`** - indicates if the (Store, Date) was affected by the closure of public schools\n",
    "- **`StoreType`** - differentiates between 4 different store models: a, b, c, d\n",
    "- **`Assortment`** - describes an assortment level: a = basic, b = extra, c = extended. Read more about assortment here\n",
    "- **`CompetitionDistance`** - distance in meters to the nearest competitor store\n",
    "- **`CompetitionOpenSince[Month/Year]`** - gives the approximate year and month of the time the nearest competitor was opened\n",
    "- **`Promo`** - indicates whether a store is running a promo on that day\n",
    "- **`Promo2`** - Promo2 is a continuing and consecutive promotion for some stores: 0 = store is not participating, 1 = store is participating\n",
    "- **`Promo2Since[Year/Week]`** - describes the year and calendar week when the store started participating in Promo2\n",
    "- **`PromoInterval`** - describes the consecutive intervals Promo2 is started, naming the months the promotion is started anew. E.g. \"Feb,May,Aug,Nov\" means each round starts in February, May, August, November of any given year for that store\n",
    "- The data for this challenge can be found https://www.kaggle.com/competitions/rossmann-store-sales/data."
   ]
  },
  {
   "cell_type": "code",
   "execution_count": null,
   "id": "eee052e6",
   "metadata": {},
   "outputs": [],
   "source": []
  }
 ],
 "metadata": {
  "kernelspec": {
   "display_name": "Python 3 (ipykernel)",
   "language": "python",
   "name": "python3"
  },
  "language_info": {
   "codemirror_mode": {
    "name": "ipython",
    "version": 3
   },
   "file_extension": ".py",
   "mimetype": "text/x-python",
   "name": "python",
   "nbconvert_exporter": "python",
   "pygments_lexer": "ipython3",
   "version": "3.9.12"
  }
 },
 "nbformat": 4,
 "nbformat_minor": 5
}
