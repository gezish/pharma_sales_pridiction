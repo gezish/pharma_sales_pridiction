{
 "cells": [
  {
   "cell_type": "markdown",
   "id": "7e0b52a4",
   "metadata": {},
   "source": [
    "## Task 1 - *Exploration of customer purchasing behavior*"
   ]
  },
  {
   "cell_type": "markdown",
   "id": "c029f018",
   "metadata": {},
   "source": [
    "### 1.1. Preprocessing"
   ]
  },
  {
   "cell_type": "markdown",
   "id": "7aeb761c",
   "metadata": {},
   "source": [
    "### *Importing liberaries*"
   ]
  },
  {
   "cell_type": "code",
   "execution_count": 77,
   "id": "87d4500a",
   "metadata": {},
   "outputs": [],
   "source": [
    "import warnings\n",
    "import numpy as np\n",
    "import pandas as pd\n",
    "import seaborn as sns\n",
    "import matplotlib.pyplot as plt"
   ]
  },
  {
   "cell_type": "code",
   "execution_count": 78,
   "id": "8625ab3b",
   "metadata": {},
   "outputs": [],
   "source": [
    "sys.path.append(os.path.abspath(os.path.join('../modules')))\n",
    "warnings.filterwarnings(\"ignore\")\n",
    "sns.set()"
   ]
  },
  {
   "cell_type": "code",
   "execution_count": 79,
   "id": "856296a6",
   "metadata": {},
   "outputs": [],
   "source": [
    "from load_file import FileHandler\n",
    "from overview import Df_Overview\n",
    "from cleaner import DfCleaner\n",
    "from outlier import DfOutlier\n",
    "from vis_seaborn import VisSeaborn\n",
    "from vis_plotly import VisPlotly"
   ]
  },
  {
   "cell_type": "code",
   "execution_count": 80,
   "id": "5933c03c",
   "metadata": {},
   "outputs": [],
   "source": [
    "file_loader = FileHandler()"
   ]
  },
  {
   "cell_type": "code",
   "execution_count": 81,
   "id": "cb3a6fff",
   "metadata": {},
   "outputs": [
    {
     "name": "stdout",
     "output_type": "stream",
     "text": [
      "2022-05-24 08:55:51,925 — DfHelper — DEBUG — file read as csv\n"
     ]
    },
    {
     "name": "stderr",
     "output_type": "stream",
     "text": [
      "--- Logging error ---\n",
      "Traceback (most recent call last):\n",
      "  File \"C:\\Users\\Gezahegne\\anaconda3\\lib\\logging\\handlers.py\", line 74, in emit\n",
      "    self.doRollover()\n",
      "  File \"C:\\Users\\Gezahegne\\anaconda3\\lib\\logging\\handlers.py\", line 428, in doRollover\n",
      "    self.rotate(self.baseFilename, dfn)\n",
      "  File \"C:\\Users\\Gezahegne\\anaconda3\\lib\\logging\\handlers.py\", line 115, in rotate\n",
      "    os.rename(source, dest)\n",
      "PermissionError: [WinError 32] The process cannot access the file because it is being used by another process: 'C:\\\\Users\\\\Gezahegne\\\\10-Accademy\\\\Week-3\\\\pharma_sales_pridiction\\\\log\\\\my_app_log.log' -> 'C:\\\\Users\\\\Gezahegne\\\\10-Accademy\\\\Week-3\\\\pharma_sales_pridiction\\\\log\\\\my_app_log.log.2022-05-23'\n",
      "Call stack:\n",
      "  File \"C:\\Users\\Gezahegne\\anaconda3\\lib\\runpy.py\", line 197, in _run_module_as_main\n",
      "    return _run_code(code, main_globals, None,\n",
      "  File \"C:\\Users\\Gezahegne\\anaconda3\\lib\\runpy.py\", line 87, in _run_code\n",
      "    exec(code, run_globals)\n",
      "  File \"C:\\Users\\Gezahegne\\anaconda3\\lib\\site-packages\\ipykernel_launcher.py\", line 16, in <module>\n",
      "    app.launch_new_instance()\n",
      "  File \"C:\\Users\\Gezahegne\\anaconda3\\lib\\site-packages\\traitlets\\config\\application.py\", line 846, in launch_instance\n",
      "    app.start()\n",
      "  File \"C:\\Users\\Gezahegne\\anaconda3\\lib\\site-packages\\ipykernel\\kernelapp.py\", line 677, in start\n",
      "    self.io_loop.start()\n",
      "  File \"C:\\Users\\Gezahegne\\anaconda3\\lib\\site-packages\\tornado\\platform\\asyncio.py\", line 199, in start\n",
      "    self.asyncio_loop.run_forever()\n",
      "  File \"C:\\Users\\Gezahegne\\anaconda3\\lib\\asyncio\\base_events.py\", line 601, in run_forever\n",
      "    self._run_once()\n",
      "  File \"C:\\Users\\Gezahegne\\anaconda3\\lib\\asyncio\\base_events.py\", line 1905, in _run_once\n",
      "    handle._run()\n",
      "  File \"C:\\Users\\Gezahegne\\anaconda3\\lib\\asyncio\\events.py\", line 80, in _run\n",
      "    self._context.run(self._callback, *self._args)\n",
      "  File \"C:\\Users\\Gezahegne\\anaconda3\\lib\\site-packages\\ipykernel\\kernelbase.py\", line 471, in dispatch_queue\n",
      "    await self.process_one()\n",
      "  File \"C:\\Users\\Gezahegne\\anaconda3\\lib\\site-packages\\ipykernel\\kernelbase.py\", line 460, in process_one\n",
      "    await dispatch(*args)\n",
      "  File \"C:\\Users\\Gezahegne\\anaconda3\\lib\\site-packages\\ipykernel\\kernelbase.py\", line 367, in dispatch_shell\n",
      "    await result\n",
      "  File \"C:\\Users\\Gezahegne\\anaconda3\\lib\\site-packages\\ipykernel\\kernelbase.py\", line 662, in execute_request\n",
      "    reply_content = await reply_content\n",
      "  File \"C:\\Users\\Gezahegne\\anaconda3\\lib\\site-packages\\ipykernel\\ipkernel.py\", line 360, in do_execute\n",
      "    res = shell.run_cell(code, store_history=store_history, silent=silent)\n",
      "  File \"C:\\Users\\Gezahegne\\anaconda3\\lib\\site-packages\\ipykernel\\zmqshell.py\", line 532, in run_cell\n",
      "    return super().run_cell(*args, **kwargs)\n",
      "  File \"C:\\Users\\Gezahegne\\anaconda3\\lib\\site-packages\\IPython\\core\\interactiveshell.py\", line 2863, in run_cell\n",
      "    result = self._run_cell(\n",
      "  File \"C:\\Users\\Gezahegne\\anaconda3\\lib\\site-packages\\IPython\\core\\interactiveshell.py\", line 2909, in _run_cell\n",
      "    return runner(coro)\n",
      "  File \"C:\\Users\\Gezahegne\\anaconda3\\lib\\site-packages\\IPython\\core\\async_helpers.py\", line 129, in _pseudo_sync_runner\n",
      "    coro.send(None)\n",
      "  File \"C:\\Users\\Gezahegne\\anaconda3\\lib\\site-packages\\IPython\\core\\interactiveshell.py\", line 3106, in run_cell_async\n",
      "    has_raised = await self.run_ast_nodes(code_ast.body, cell_name,\n",
      "  File \"C:\\Users\\Gezahegne\\anaconda3\\lib\\site-packages\\IPython\\core\\interactiveshell.py\", line 3309, in run_ast_nodes\n",
      "    if await self.run_code(code, result, async_=asy):\n",
      "  File \"C:\\Users\\Gezahegne\\anaconda3\\lib\\site-packages\\IPython\\core\\interactiveshell.py\", line 3369, in run_code\n",
      "    exec(code_obj, self.user_global_ns, self.user_ns)\n",
      "  File \"C:\\Users\\Gezahegne\\AppData\\Local\\Temp\\ipykernel_8164\\1806582263.py\", line 1, in <cell line: 1>\n",
      "    stored_df = file_loader.read_csv('../data/store.csv')\n",
      "  File \"C:\\Users\\Gezahegne\\10-Accademy\\Week-3\\pharma_sales_pridiction\\modules\\load_file.py\", line 39, in read_csv\n",
      "    pickle.dump(model, open(str(name), \"wb\"))\n",
      "Message: 'file read as csv'\n",
      "Arguments: ()\n"
     ]
    },
    {
     "name": "stdout",
     "output_type": "stream",
     "text": [
      "2022-05-24 08:55:54,532 — DfHelper — DEBUG — file read as csv\n"
     ]
    },
    {
     "name": "stderr",
     "output_type": "stream",
     "text": [
      "--- Logging error ---\n",
      "Traceback (most recent call last):\n",
      "  File \"C:\\Users\\Gezahegne\\anaconda3\\lib\\logging\\handlers.py\", line 74, in emit\n",
      "    self.doRollover()\n",
      "  File \"C:\\Users\\Gezahegne\\anaconda3\\lib\\logging\\handlers.py\", line 428, in doRollover\n",
      "    self.rotate(self.baseFilename, dfn)\n",
      "  File \"C:\\Users\\Gezahegne\\anaconda3\\lib\\logging\\handlers.py\", line 115, in rotate\n",
      "    os.rename(source, dest)\n",
      "PermissionError: [WinError 32] The process cannot access the file because it is being used by another process: 'C:\\\\Users\\\\Gezahegne\\\\10-Accademy\\\\Week-3\\\\pharma_sales_pridiction\\\\log\\\\my_app_log.log' -> 'C:\\\\Users\\\\Gezahegne\\\\10-Accademy\\\\Week-3\\\\pharma_sales_pridiction\\\\log\\\\my_app_log.log.2022-05-23'\n",
      "Call stack:\n",
      "  File \"C:\\Users\\Gezahegne\\anaconda3\\lib\\runpy.py\", line 197, in _run_module_as_main\n",
      "    return _run_code(code, main_globals, None,\n",
      "  File \"C:\\Users\\Gezahegne\\anaconda3\\lib\\runpy.py\", line 87, in _run_code\n",
      "    exec(code, run_globals)\n",
      "  File \"C:\\Users\\Gezahegne\\anaconda3\\lib\\site-packages\\ipykernel_launcher.py\", line 16, in <module>\n",
      "    app.launch_new_instance()\n",
      "  File \"C:\\Users\\Gezahegne\\anaconda3\\lib\\site-packages\\traitlets\\config\\application.py\", line 846, in launch_instance\n",
      "    app.start()\n",
      "  File \"C:\\Users\\Gezahegne\\anaconda3\\lib\\site-packages\\ipykernel\\kernelapp.py\", line 677, in start\n",
      "    self.io_loop.start()\n",
      "  File \"C:\\Users\\Gezahegne\\anaconda3\\lib\\site-packages\\tornado\\platform\\asyncio.py\", line 199, in start\n",
      "    self.asyncio_loop.run_forever()\n",
      "  File \"C:\\Users\\Gezahegne\\anaconda3\\lib\\asyncio\\base_events.py\", line 601, in run_forever\n",
      "    self._run_once()\n",
      "  File \"C:\\Users\\Gezahegne\\anaconda3\\lib\\asyncio\\base_events.py\", line 1905, in _run_once\n",
      "    handle._run()\n",
      "  File \"C:\\Users\\Gezahegne\\anaconda3\\lib\\asyncio\\events.py\", line 80, in _run\n",
      "    self._context.run(self._callback, *self._args)\n",
      "  File \"C:\\Users\\Gezahegne\\anaconda3\\lib\\site-packages\\ipykernel\\kernelbase.py\", line 471, in dispatch_queue\n",
      "    await self.process_one()\n",
      "  File \"C:\\Users\\Gezahegne\\anaconda3\\lib\\site-packages\\ipykernel\\kernelbase.py\", line 460, in process_one\n",
      "    await dispatch(*args)\n",
      "  File \"C:\\Users\\Gezahegne\\anaconda3\\lib\\site-packages\\ipykernel\\kernelbase.py\", line 367, in dispatch_shell\n",
      "    await result\n",
      "  File \"C:\\Users\\Gezahegne\\anaconda3\\lib\\site-packages\\ipykernel\\kernelbase.py\", line 662, in execute_request\n",
      "    reply_content = await reply_content\n",
      "  File \"C:\\Users\\Gezahegne\\anaconda3\\lib\\site-packages\\ipykernel\\ipkernel.py\", line 360, in do_execute\n",
      "    res = shell.run_cell(code, store_history=store_history, silent=silent)\n",
      "  File \"C:\\Users\\Gezahegne\\anaconda3\\lib\\site-packages\\ipykernel\\zmqshell.py\", line 532, in run_cell\n",
      "    return super().run_cell(*args, **kwargs)\n",
      "  File \"C:\\Users\\Gezahegne\\anaconda3\\lib\\site-packages\\IPython\\core\\interactiveshell.py\", line 2863, in run_cell\n",
      "    result = self._run_cell(\n",
      "  File \"C:\\Users\\Gezahegne\\anaconda3\\lib\\site-packages\\IPython\\core\\interactiveshell.py\", line 2909, in _run_cell\n",
      "    return runner(coro)\n",
      "  File \"C:\\Users\\Gezahegne\\anaconda3\\lib\\site-packages\\IPython\\core\\async_helpers.py\", line 129, in _pseudo_sync_runner\n",
      "    coro.send(None)\n",
      "  File \"C:\\Users\\Gezahegne\\anaconda3\\lib\\site-packages\\IPython\\core\\interactiveshell.py\", line 3106, in run_cell_async\n",
      "    has_raised = await self.run_ast_nodes(code_ast.body, cell_name,\n",
      "  File \"C:\\Users\\Gezahegne\\anaconda3\\lib\\site-packages\\IPython\\core\\interactiveshell.py\", line 3309, in run_ast_nodes\n",
      "    if await self.run_code(code, result, async_=asy):\n",
      "  File \"C:\\Users\\Gezahegne\\anaconda3\\lib\\site-packages\\IPython\\core\\interactiveshell.py\", line 3369, in run_code\n",
      "    exec(code_obj, self.user_global_ns, self.user_ns)\n",
      "  File \"C:\\Users\\Gezahegne\\AppData\\Local\\Temp\\ipykernel_8164\\1806582263.py\", line 2, in <cell line: 2>\n",
      "    train_df = file_loader.read_csv('../data/train.csv')\n",
      "  File \"C:\\Users\\Gezahegne\\10-Accademy\\Week-3\\pharma_sales_pridiction\\modules\\load_file.py\", line 39, in read_csv\n",
      "    pickle.dump(model, open(str(name), \"wb\"))\n",
      "Message: 'file read as csv'\n",
      "Arguments: ()\n"
     ]
    },
    {
     "name": "stdout",
     "output_type": "stream",
     "text": [
      "2022-05-24 08:55:54,898 — DfHelper — DEBUG — file read as csv\n",
      "\n",
      "### General data Structure ###\n",
      "\n",
      "Stored data: (1115, 10)\n",
      "Train data: (1017209, 9)\n",
      "Test data: (41088, 8)\n"
     ]
    },
    {
     "name": "stderr",
     "output_type": "stream",
     "text": [
      "--- Logging error ---\n",
      "Traceback (most recent call last):\n",
      "  File \"C:\\Users\\Gezahegne\\anaconda3\\lib\\logging\\handlers.py\", line 74, in emit\n",
      "    self.doRollover()\n",
      "  File \"C:\\Users\\Gezahegne\\anaconda3\\lib\\logging\\handlers.py\", line 428, in doRollover\n",
      "    self.rotate(self.baseFilename, dfn)\n",
      "  File \"C:\\Users\\Gezahegne\\anaconda3\\lib\\logging\\handlers.py\", line 115, in rotate\n",
      "    os.rename(source, dest)\n",
      "PermissionError: [WinError 32] The process cannot access the file because it is being used by another process: 'C:\\\\Users\\\\Gezahegne\\\\10-Accademy\\\\Week-3\\\\pharma_sales_pridiction\\\\log\\\\my_app_log.log' -> 'C:\\\\Users\\\\Gezahegne\\\\10-Accademy\\\\Week-3\\\\pharma_sales_pridiction\\\\log\\\\my_app_log.log.2022-05-23'\n",
      "Call stack:\n",
      "  File \"C:\\Users\\Gezahegne\\anaconda3\\lib\\runpy.py\", line 197, in _run_module_as_main\n",
      "    return _run_code(code, main_globals, None,\n",
      "  File \"C:\\Users\\Gezahegne\\anaconda3\\lib\\runpy.py\", line 87, in _run_code\n",
      "    exec(code, run_globals)\n",
      "  File \"C:\\Users\\Gezahegne\\anaconda3\\lib\\site-packages\\ipykernel_launcher.py\", line 16, in <module>\n",
      "    app.launch_new_instance()\n",
      "  File \"C:\\Users\\Gezahegne\\anaconda3\\lib\\site-packages\\traitlets\\config\\application.py\", line 846, in launch_instance\n",
      "    app.start()\n",
      "  File \"C:\\Users\\Gezahegne\\anaconda3\\lib\\site-packages\\ipykernel\\kernelapp.py\", line 677, in start\n",
      "    self.io_loop.start()\n",
      "  File \"C:\\Users\\Gezahegne\\anaconda3\\lib\\site-packages\\tornado\\platform\\asyncio.py\", line 199, in start\n",
      "    self.asyncio_loop.run_forever()\n",
      "  File \"C:\\Users\\Gezahegne\\anaconda3\\lib\\asyncio\\base_events.py\", line 601, in run_forever\n",
      "    self._run_once()\n",
      "  File \"C:\\Users\\Gezahegne\\anaconda3\\lib\\asyncio\\base_events.py\", line 1905, in _run_once\n",
      "    handle._run()\n",
      "  File \"C:\\Users\\Gezahegne\\anaconda3\\lib\\asyncio\\events.py\", line 80, in _run\n",
      "    self._context.run(self._callback, *self._args)\n",
      "  File \"C:\\Users\\Gezahegne\\anaconda3\\lib\\site-packages\\ipykernel\\kernelbase.py\", line 471, in dispatch_queue\n",
      "    await self.process_one()\n",
      "  File \"C:\\Users\\Gezahegne\\anaconda3\\lib\\site-packages\\ipykernel\\kernelbase.py\", line 460, in process_one\n",
      "    await dispatch(*args)\n",
      "  File \"C:\\Users\\Gezahegne\\anaconda3\\lib\\site-packages\\ipykernel\\kernelbase.py\", line 367, in dispatch_shell\n",
      "    await result\n",
      "  File \"C:\\Users\\Gezahegne\\anaconda3\\lib\\site-packages\\ipykernel\\kernelbase.py\", line 662, in execute_request\n",
      "    reply_content = await reply_content\n",
      "  File \"C:\\Users\\Gezahegne\\anaconda3\\lib\\site-packages\\ipykernel\\ipkernel.py\", line 360, in do_execute\n",
      "    res = shell.run_cell(code, store_history=store_history, silent=silent)\n",
      "  File \"C:\\Users\\Gezahegne\\anaconda3\\lib\\site-packages\\ipykernel\\zmqshell.py\", line 532, in run_cell\n",
      "    return super().run_cell(*args, **kwargs)\n",
      "  File \"C:\\Users\\Gezahegne\\anaconda3\\lib\\site-packages\\IPython\\core\\interactiveshell.py\", line 2863, in run_cell\n",
      "    result = self._run_cell(\n",
      "  File \"C:\\Users\\Gezahegne\\anaconda3\\lib\\site-packages\\IPython\\core\\interactiveshell.py\", line 2909, in _run_cell\n",
      "    return runner(coro)\n",
      "  File \"C:\\Users\\Gezahegne\\anaconda3\\lib\\site-packages\\IPython\\core\\async_helpers.py\", line 129, in _pseudo_sync_runner\n",
      "    coro.send(None)\n",
      "  File \"C:\\Users\\Gezahegne\\anaconda3\\lib\\site-packages\\IPython\\core\\interactiveshell.py\", line 3106, in run_cell_async\n",
      "    has_raised = await self.run_ast_nodes(code_ast.body, cell_name,\n",
      "  File \"C:\\Users\\Gezahegne\\anaconda3\\lib\\site-packages\\IPython\\core\\interactiveshell.py\", line 3309, in run_ast_nodes\n",
      "    if await self.run_code(code, result, async_=asy):\n",
      "  File \"C:\\Users\\Gezahegne\\anaconda3\\lib\\site-packages\\IPython\\core\\interactiveshell.py\", line 3369, in run_code\n",
      "    exec(code_obj, self.user_global_ns, self.user_ns)\n",
      "  File \"C:\\Users\\Gezahegne\\AppData\\Local\\Temp\\ipykernel_8164\\1806582263.py\", line 3, in <cell line: 3>\n",
      "    test_df = file_loader.read_csv('../data/test.csv')\n",
      "  File \"C:\\Users\\Gezahegne\\10-Accademy\\Week-3\\pharma_sales_pridiction\\modules\\load_file.py\", line 39, in read_csv\n",
      "    pickle.dump(model, open(str(name), \"wb\"))\n",
      "Message: 'file read as csv'\n",
      "Arguments: ()\n"
     ]
    }
   ],
   "source": [
    "stored_df = file_loader.read_csv('../data/store.csv')\n",
    "train_df = file_loader.read_csv('../data/train.csv')\n",
    "test_df = file_loader.read_csv('../data/test.csv')\n",
    "\n",
    "print(\"\\n### General data Structure ###\\n\")\n",
    "\n",
    "print(\"Stored data:\",stored_df.shape)\n",
    "print(\"Train data:\",train_df.shape)\n",
    "print(\"Test data:\",test_df.shape)"
   ]
  },
  {
   "cell_type": "markdown",
   "id": "a50ae7ac",
   "metadata": {},
   "source": [
    " ### *Feature Dicriptions of the Data* ###\n",
    " \n",
    "The following are descriptions of **Rossmann Pharmaceuticals** data set.\n",
    "- **`Id`** - an Id that represents a (Store, Date) duple within the test set\n",
    "- **`Store`** - a unique Id for each store\n",
    "- **`Sales`** - the turnover for any given day (this is what you are predicting)\n",
    "- **`Customers`** - the number of customers on a given day\n",
    "- **`Open`** - an indicator for whether the store was open: 0 = closed, 1 = open\n",
    "- **`StateHoliday`** - indicates a state holiday. Normally all stores, with few exceptions, are closed on state holidays. \n",
    "\n",
    "**Note that** all schools are closed on public holidays and weekends. a = public holiday, b = Easter holiday, c = Christmas, 0 = None\n",
    "- **`SchoolHoliday`** - indicates if the (Store, Date) was affected by the closure of public schools\n",
    "- **`StoreType`** - differentiates between 4 different store models: a, b, c, d\n",
    "- **`Assortment`** - describes an assortment level: a = basic, b = extra, c = extended. Read more about assortment here\n",
    "- **`CompetitionDistance`** - distance in meters to the nearest competitor store\n",
    "- **`CompetitionOpenSince[Month/Year]`** - gives the approximate year and month of the time the nearest competitor was opened\n",
    "- **`Promo`** - indicates whether a store is running a promo on that day\n",
    "- **`Promo2`** - Promo2 is a continuing and consecutive promotion for some stores: 0 = store is not participating, 1 = store is participating\n",
    "- **`Promo2Since[Year/Week]`** - describes the year and calendar week when the store started participating in Promo2\n",
    "- **`PromoInterval`** - describes the consecutive intervals Promo2 is started, naming the months the promotion is started anew. E.g. \"Feb,May,Aug,Nov\" means each round starts in February, May, August, November of any given year for that store\n",
    "- The data for this challenge can be found https://www.kaggle.com/competitions/rossmann-store-sales/data."
   ]
  },
  {
   "cell_type": "markdown",
   "id": "8677d5ab",
   "metadata": {},
   "source": [
    "### Information Stored on each dataset"
   ]
  },
  {
   "cell_type": "code",
   "execution_count": 82,
   "id": "35f7ef15",
   "metadata": {},
   "outputs": [
    {
     "name": "stdout",
     "output_type": "stream",
     "text": [
      "<class 'pandas.core.frame.DataFrame'>\n",
      "RangeIndex: 1115 entries, 0 to 1114\n",
      "Data columns (total 10 columns):\n",
      " #   Column                     Non-Null Count  Dtype  \n",
      "---  ------                     --------------  -----  \n",
      " 0   Store                      1115 non-null   int64  \n",
      " 1   StoreType                  1115 non-null   object \n",
      " 2   Assortment                 1115 non-null   object \n",
      " 3   CompetitionDistance        1112 non-null   float64\n",
      " 4   CompetitionOpenSinceMonth  761 non-null    float64\n",
      " 5   CompetitionOpenSinceYear   761 non-null    float64\n",
      " 6   Promo2                     1115 non-null   int64  \n",
      " 7   Promo2SinceWeek            571 non-null    float64\n",
      " 8   Promo2SinceYear            571 non-null    float64\n",
      " 9   PromoInterval              571 non-null    object \n",
      "dtypes: float64(5), int64(2), object(3)\n",
      "memory usage: 87.2+ KB\n"
     ]
    }
   ],
   "source": [
    "stored_df.info()"
   ]
  },
  {
   "cell_type": "code",
   "execution_count": 83,
   "id": "ea9bdb18",
   "metadata": {},
   "outputs": [
    {
     "name": "stdout",
     "output_type": "stream",
     "text": [
      "<class 'pandas.core.frame.DataFrame'>\n",
      "RangeIndex: 1017209 entries, 0 to 1017208\n",
      "Data columns (total 9 columns):\n",
      " #   Column         Non-Null Count    Dtype \n",
      "---  ------         --------------    ----- \n",
      " 0   Store          1017209 non-null  int64 \n",
      " 1   DayOfWeek      1017209 non-null  int64 \n",
      " 2   Date           1017209 non-null  object\n",
      " 3   Sales          1017209 non-null  int64 \n",
      " 4   Customers      1017209 non-null  int64 \n",
      " 5   Open           1017209 non-null  int64 \n",
      " 6   Promo          1017209 non-null  int64 \n",
      " 7   StateHoliday   1017209 non-null  object\n",
      " 8   SchoolHoliday  1017209 non-null  int64 \n",
      "dtypes: int64(7), object(2)\n",
      "memory usage: 69.8+ MB\n"
     ]
    }
   ],
   "source": [
    "train_df.info()"
   ]
  },
  {
   "cell_type": "code",
   "execution_count": 84,
   "id": "b0ad6a4d",
   "metadata": {},
   "outputs": [
    {
     "name": "stdout",
     "output_type": "stream",
     "text": [
      "<class 'pandas.core.frame.DataFrame'>\n",
      "RangeIndex: 41088 entries, 0 to 41087\n",
      "Data columns (total 8 columns):\n",
      " #   Column         Non-Null Count  Dtype  \n",
      "---  ------         --------------  -----  \n",
      " 0   Id             41088 non-null  int64  \n",
      " 1   Store          41088 non-null  int64  \n",
      " 2   DayOfWeek      41088 non-null  int64  \n",
      " 3   Date           41088 non-null  object \n",
      " 4   Open           41077 non-null  float64\n",
      " 5   Promo          41088 non-null  int64  \n",
      " 6   StateHoliday   41088 non-null  object \n",
      " 7   SchoolHoliday  41088 non-null  int64  \n",
      "dtypes: float64(1), int64(5), object(2)\n",
      "memory usage: 2.5+ MB\n"
     ]
    }
   ],
   "source": [
    "test_df.info()"
   ]
  },
  {
   "cell_type": "markdown",
   "id": "1556ff6f",
   "metadata": {},
   "source": [
    "## Data Preprocessing"
   ]
  },
  {
   "cell_type": "markdown",
   "id": "0b184f2d",
   "metadata": {},
   "source": [
    "### Cleaning"
   ]
  },
  {
   "cell_type": "code",
   "execution_count": 85,
   "id": "2e5dcbf2",
   "metadata": {},
   "outputs": [],
   "source": [
    "my_clean = DfCleaner()"
   ]
  },
  {
   "cell_type": "code",
   "execution_count": null,
   "id": "6bb6477a",
   "metadata": {},
   "outputs": [],
   "source": []
  },
  {
   "cell_type": "code",
   "execution_count": null,
   "id": "99878a8f",
   "metadata": {},
   "outputs": [],
   "source": []
  },
  {
   "cell_type": "code",
   "execution_count": 86,
   "id": "16c6b502",
   "metadata": {},
   "outputs": [
    {
     "data": {
      "text/html": [
       "<div>\n",
       "<style scoped>\n",
       "    .dataframe tbody tr th:only-of-type {\n",
       "        vertical-align: middle;\n",
       "    }\n",
       "\n",
       "    .dataframe tbody tr th {\n",
       "        vertical-align: top;\n",
       "    }\n",
       "\n",
       "    .dataframe thead th {\n",
       "        text-align: right;\n",
       "    }\n",
       "</style>\n",
       "<table border=\"1\" class=\"dataframe\">\n",
       "  <thead>\n",
       "    <tr style=\"text-align: right;\">\n",
       "      <th></th>\n",
       "      <th>count</th>\n",
       "      <th>none_count</th>\n",
       "      <th>none_percentage</th>\n",
       "      <th>unique_value_count</th>\n",
       "      <th>unique_percentage</th>\n",
       "      <th>dtype</th>\n",
       "    </tr>\n",
       "    <tr>\n",
       "      <th>label</th>\n",
       "      <th></th>\n",
       "      <th></th>\n",
       "      <th></th>\n",
       "      <th></th>\n",
       "      <th></th>\n",
       "      <th></th>\n",
       "    </tr>\n",
       "  </thead>\n",
       "  <tbody>\n",
       "    <tr>\n",
       "      <th>Store</th>\n",
       "      <td>1115</td>\n",
       "      <td>0</td>\n",
       "      <td>0.0%</td>\n",
       "      <td>1115</td>\n",
       "      <td>100.0%</td>\n",
       "      <td>int64</td>\n",
       "    </tr>\n",
       "    <tr>\n",
       "      <th>StoreType</th>\n",
       "      <td>1115</td>\n",
       "      <td>0</td>\n",
       "      <td>0.0%</td>\n",
       "      <td>4</td>\n",
       "      <td>0.36%</td>\n",
       "      <td>object</td>\n",
       "    </tr>\n",
       "    <tr>\n",
       "      <th>Assortment</th>\n",
       "      <td>1115</td>\n",
       "      <td>0</td>\n",
       "      <td>0.0%</td>\n",
       "      <td>3</td>\n",
       "      <td>0.27%</td>\n",
       "      <td>object</td>\n",
       "    </tr>\n",
       "    <tr>\n",
       "      <th>Promo2</th>\n",
       "      <td>1115</td>\n",
       "      <td>0</td>\n",
       "      <td>0.0%</td>\n",
       "      <td>2</td>\n",
       "      <td>0.18%</td>\n",
       "      <td>int64</td>\n",
       "    </tr>\n",
       "    <tr>\n",
       "      <th>CompetitionDistance</th>\n",
       "      <td>1112</td>\n",
       "      <td>3</td>\n",
       "      <td>0.27%</td>\n",
       "      <td>654</td>\n",
       "      <td>58.65%</td>\n",
       "      <td>float64</td>\n",
       "    </tr>\n",
       "    <tr>\n",
       "      <th>CompetitionOpenSinceMonth</th>\n",
       "      <td>761</td>\n",
       "      <td>354</td>\n",
       "      <td>31.75%</td>\n",
       "      <td>12</td>\n",
       "      <td>1.08%</td>\n",
       "      <td>float64</td>\n",
       "    </tr>\n",
       "    <tr>\n",
       "      <th>CompetitionOpenSinceYear</th>\n",
       "      <td>761</td>\n",
       "      <td>354</td>\n",
       "      <td>31.75%</td>\n",
       "      <td>23</td>\n",
       "      <td>2.06%</td>\n",
       "      <td>float64</td>\n",
       "    </tr>\n",
       "    <tr>\n",
       "      <th>Promo2SinceWeek</th>\n",
       "      <td>571</td>\n",
       "      <td>544</td>\n",
       "      <td>48.79%</td>\n",
       "      <td>24</td>\n",
       "      <td>2.15%</td>\n",
       "      <td>float64</td>\n",
       "    </tr>\n",
       "    <tr>\n",
       "      <th>Promo2SinceYear</th>\n",
       "      <td>571</td>\n",
       "      <td>544</td>\n",
       "      <td>48.79%</td>\n",
       "      <td>7</td>\n",
       "      <td>0.63%</td>\n",
       "      <td>float64</td>\n",
       "    </tr>\n",
       "    <tr>\n",
       "      <th>PromoInterval</th>\n",
       "      <td>571</td>\n",
       "      <td>544</td>\n",
       "      <td>48.79%</td>\n",
       "      <td>3</td>\n",
       "      <td>0.27%</td>\n",
       "      <td>object</td>\n",
       "    </tr>\n",
       "  </tbody>\n",
       "</table>\n",
       "</div>"
      ],
      "text/plain": [
       "                           count  none_count none_percentage  \\\n",
       "label                                                          \n",
       "Store                       1115           0            0.0%   \n",
       "StoreType                   1115           0            0.0%   \n",
       "Assortment                  1115           0            0.0%   \n",
       "Promo2                      1115           0            0.0%   \n",
       "CompetitionDistance         1112           3           0.27%   \n",
       "CompetitionOpenSinceMonth    761         354          31.75%   \n",
       "CompetitionOpenSinceYear     761         354          31.75%   \n",
       "Promo2SinceWeek              571         544          48.79%   \n",
       "Promo2SinceYear              571         544          48.79%   \n",
       "PromoInterval                571         544          48.79%   \n",
       "\n",
       "                           unique_value_count unique_percentage    dtype  \n",
       "label                                                                     \n",
       "Store                                    1115            100.0%    int64  \n",
       "StoreType                                   4             0.36%   object  \n",
       "Assortment                                  3             0.27%   object  \n",
       "Promo2                                      2             0.18%    int64  \n",
       "CompetitionDistance                       654            58.65%  float64  \n",
       "CompetitionOpenSinceMonth                  12             1.08%  float64  \n",
       "CompetitionOpenSinceYear                   23             2.06%  float64  \n",
       "Promo2SinceWeek                            24             2.15%  float64  \n",
       "Promo2SinceYear                             7             0.63%  float64  \n",
       "PromoInterval                               3             0.27%   object  "
      ]
     },
     "execution_count": 86,
     "metadata": {},
     "output_type": "execute_result"
    }
   ],
   "source": [
    "store_overview = Df_Overview(stored_df)\n",
    "store_overview.getOverview()"
   ]
  },
  {
   "cell_type": "markdown",
   "id": "482b0dca",
   "metadata": {},
   "source": [
    "**Observations:-**\n",
    "- From the 10 columns, 6 have a null value. \n",
    "- The column with minimum missing values is in **CompetitionDistance.** and those can be filled with with a median   value.\n",
    "- **PromoInterval, Promo2SinceYear, and Promo2SinceWeek** column has equal number of counts and missed values which is 544.\n",
    "- **CompetitionOpenSinceYear, CompetitionOpenSinceMonth** column has equal number of counts and missed values which is ."
   ]
  },
  {
   "cell_type": "code",
   "execution_count": 87,
   "id": "dac807d4",
   "metadata": {},
   "outputs": [],
   "source": [
    "stored_df = my_clean.fill_with_median(stored_df, ['CompetitionDistance'])"
   ]
  },
  {
   "cell_type": "markdown",
   "id": "ce6d04f1",
   "metadata": {},
   "source": [
    "- looking in to `CompetitionDistance`"
   ]
  },
  {
   "cell_type": "code",
   "execution_count": 88,
   "id": "7ed7b102",
   "metadata": {},
   "outputs": [
    {
     "name": "stdout",
     "output_type": "stream",
     "text": [
      "[ 1.  2.  3.  4.  5.  6.  7.  8.  9. 10. 11. 12. nan]\n",
      "[1900. 1961. 1990. 1994. 1995. 1998. 1999. 2000. 2001. 2002. 2003. 2004.\n",
      " 2005. 2006. 2007. 2008. 2009. 2010. 2011. 2012. 2013. 2014. 2015.   nan]\n"
     ]
    }
   ],
   "source": [
    "print(np.sort(stored_df['CompetitionOpenSinceMonth'].unique()))\n",
    "print(np.sort(stored_df['CompetitionOpenSinceYear'].unique()))"
   ]
  },
  {
   "cell_type": "markdown",
   "id": "f77fb665",
   "metadata": {},
   "source": [
    "**Observation:-**\n",
    "- `CompetitionOpenSinceMonth` and `CompetitionOpenSinceYear` Columns hold the year and month when a new competition opened.\n",
    "- `CompetitionOpenSinceMonth` and `CompetitionOpenSinceYear` having null value is meaning full. It means competition for a store has already been there before the store is established or there is no competition.\n",
    "- The longest time we have in the dataset is 1900. So I decide to replaced the missed values with the first month 1990."
   ]
  },
  {
   "cell_type": "code",
   "execution_count": 89,
   "id": "8819b216",
   "metadata": {},
   "outputs": [],
   "source": [
    "stored_df['CompetitionOpenSinceMonth'] = stored_df['CompetitionOpenSinceMonth'].fillna(1)\n",
    "stored_df['CompetitionOpenSinceYear'] = stored_df['CompetitionOpenSinceYear'].fillna(1990)"
   ]
  },
  {
   "cell_type": "markdown",
   "id": "77cec24b",
   "metadata": {},
   "source": [
    "- Looking in to the rest columns"
   ]
  },
  {
   "cell_type": "code",
   "execution_count": 90,
   "id": "6b61abf3",
   "metadata": {},
   "outputs": [
    {
     "name": "stdout",
     "output_type": "stream",
     "text": [
      "[ 1.  5.  6.  9. 10. 13. 14. 18. 22. 23. 26. 27. 28. 31. 35. 36. 37. 39.\n",
      " 40. 44. 45. 48. 49. 50. nan]\n",
      "[2009. 2010. 2011. 2012. 2013. 2014. 2015.   nan]\n",
      "[nan 'Jan,Apr,Jul,Oct' 'Feb,May,Aug,Nov' 'Mar,Jun,Sept,Dec']\n"
     ]
    }
   ],
   "source": [
    "print(np.sort(stored_df['Promo2SinceWeek'].unique()))\n",
    "print(np.sort(stored_df['Promo2SinceYear'].unique()))\n",
    "print(stored_df['PromoInterval'].unique())"
   ]
  },
  {
   "cell_type": "code",
   "execution_count": 91,
   "id": "69a545bc",
   "metadata": {},
   "outputs": [
    {
     "data": {
      "text/html": [
       "<div>\n",
       "<style scoped>\n",
       "    .dataframe tbody tr th:only-of-type {\n",
       "        vertical-align: middle;\n",
       "    }\n",
       "\n",
       "    .dataframe tbody tr th {\n",
       "        vertical-align: top;\n",
       "    }\n",
       "\n",
       "    .dataframe thead th {\n",
       "        text-align: right;\n",
       "    }\n",
       "</style>\n",
       "<table border=\"1\" class=\"dataframe\">\n",
       "  <thead>\n",
       "    <tr style=\"text-align: right;\">\n",
       "      <th></th>\n",
       "      <th>Promo2SinceWeek</th>\n",
       "      <th>Promo2SinceYear</th>\n",
       "      <th>PromoInterval</th>\n",
       "    </tr>\n",
       "  </thead>\n",
       "  <tbody>\n",
       "    <tr>\n",
       "      <th>0</th>\n",
       "      <td>NaN</td>\n",
       "      <td>NaN</td>\n",
       "      <td>NaN</td>\n",
       "    </tr>\n",
       "    <tr>\n",
       "      <th>3</th>\n",
       "      <td>NaN</td>\n",
       "      <td>NaN</td>\n",
       "      <td>NaN</td>\n",
       "    </tr>\n",
       "    <tr>\n",
       "      <th>4</th>\n",
       "      <td>NaN</td>\n",
       "      <td>NaN</td>\n",
       "      <td>NaN</td>\n",
       "    </tr>\n",
       "    <tr>\n",
       "      <th>5</th>\n",
       "      <td>NaN</td>\n",
       "      <td>NaN</td>\n",
       "      <td>NaN</td>\n",
       "    </tr>\n",
       "    <tr>\n",
       "      <th>6</th>\n",
       "      <td>NaN</td>\n",
       "      <td>NaN</td>\n",
       "      <td>NaN</td>\n",
       "    </tr>\n",
       "  </tbody>\n",
       "</table>\n",
       "</div>"
      ],
      "text/plain": [
       "   Promo2SinceWeek  Promo2SinceYear PromoInterval\n",
       "0              NaN              NaN           NaN\n",
       "3              NaN              NaN           NaN\n",
       "4              NaN              NaN           NaN\n",
       "5              NaN              NaN           NaN\n",
       "6              NaN              NaN           NaN"
      ]
     },
     "execution_count": 91,
     "metadata": {},
     "output_type": "execute_result"
    }
   ],
   "source": [
    "stored_df[stored_df['Promo2'] == 0][['Promo2SinceWeek', 'Promo2SinceYear', 'PromoInterval']].head(5)"
   ]
  },
  {
   "cell_type": "markdown",
   "id": "8519b27e",
   "metadata": {},
   "source": [
    "**Observation:-** \n",
    "- The three columns are dependent on Promo2, and those messing the value is because Promo2 is equal to **zero**. \n",
    "- So it is expected to create a new column holding if the store participated in promo2 and then we can replace Promo2SinceYear and Promo2SinceWeek with the earliest month and week."
   ]
  },
  {
   "cell_type": "code",
   "execution_count": 92,
   "id": "d9a8fdc2",
   "metadata": {},
   "outputs": [
    {
     "name": "stdout",
     "output_type": "stream",
     "text": [
      "True\n"
     ]
    }
   ],
   "source": [
    "print(pd.isnull(stored_df['PromoInterval'][0]))"
   ]
  },
  {
   "cell_type": "code",
   "execution_count": 93,
   "id": "8cc9f51d",
   "metadata": {},
   "outputs": [],
   "source": [
    "stored_df['Promo2SinceWeek'] = stored_df['Promo2SinceWeek'].fillna(0)\n",
    "stored_df['Promo2SinceYear'] = stored_df['CompetitionOpenSinceYear'].fillna(0)"
   ]
  },
  {
   "cell_type": "markdown",
   "id": "f604926e",
   "metadata": {},
   "source": [
    "- From the previous resulst we observed that Entries in PromotionInterval have 4 entries. \n",
    "- So I am going to split those points into 4 columns"
   ]
  },
  {
   "cell_type": "code",
   "execution_count": 94,
   "id": "84ac2683",
   "metadata": {},
   "outputs": [],
   "source": [
    "month_abbr = ['Jan', 'Feb', 'Mar', 'Apr', 'May', 'Jun', 'Jul', 'Aug', 'Sept', 'Oct', 'Nov', 'Dec']\n",
    "\n",
    "def getMonth(months, index):\n",
    "    if(months == 0):\n",
    "        return 0\n",
    "\n",
    "    month = months.split(',')[index]\n",
    "    return month_abbr.index(month)+1"
   ]
  },
  {
   "cell_type": "code",
   "execution_count": 95,
   "id": "8665f2ef",
   "metadata": {},
   "outputs": [],
   "source": [
    "stored_df['PromoInterval'] = stored_df['PromoInterval'].fillna(0)\n",
    "stored_df['PromoInterval0'] = stored_df.PromoInterval.apply((lambda x: getMonth(x, 0)))\n",
    "stored_df['PromoInterval1'] = stored_df.PromoInterval.apply((lambda x: getMonth(x, 1)))\n",
    "stored_df['PromoInterval2'] = stored_df.PromoInterval.apply((lambda x: getMonth(x, 2)))\n",
    "stored_df['PromoInterval3'] = stored_df.PromoInterval.apply((lambda x: getMonth(x, 3)))\n",
    "stored_df = my_clean.drop_columns(stored_df, ['PromoInterval'])"
   ]
  },
  {
   "cell_type": "code",
   "execution_count": 96,
   "id": "1eb56b76",
   "metadata": {},
   "outputs": [
    {
     "data": {
      "text/plain": [
       "[0, 0, 0, 0, 0, 0, 0, 0, 0, 0, 0, 0, 0]"
      ]
     },
     "execution_count": 96,
     "metadata": {},
     "output_type": "execute_result"
    }
   ],
   "source": [
    "store_overview = Df_Overview(stored_df)\n",
    "store_overview.missing_value()"
   ]
  },
  {
   "cell_type": "markdown",
   "id": "408c6774",
   "metadata": {},
   "source": [
    "#### Looking in to training data"
   ]
  },
  {
   "cell_type": "code",
   "execution_count": 98,
   "id": "2fc3a8ce",
   "metadata": {},
   "outputs": [
    {
     "data": {
      "text/html": [
       "<div>\n",
       "<style scoped>\n",
       "    .dataframe tbody tr th:only-of-type {\n",
       "        vertical-align: middle;\n",
       "    }\n",
       "\n",
       "    .dataframe tbody tr th {\n",
       "        vertical-align: top;\n",
       "    }\n",
       "\n",
       "    .dataframe thead th {\n",
       "        text-align: right;\n",
       "    }\n",
       "</style>\n",
       "<table border=\"1\" class=\"dataframe\">\n",
       "  <thead>\n",
       "    <tr style=\"text-align: right;\">\n",
       "      <th></th>\n",
       "      <th>count</th>\n",
       "      <th>none_count</th>\n",
       "      <th>none_percentage</th>\n",
       "      <th>unique_value_count</th>\n",
       "      <th>unique_percentage</th>\n",
       "      <th>dtype</th>\n",
       "    </tr>\n",
       "    <tr>\n",
       "      <th>label</th>\n",
       "      <th></th>\n",
       "      <th></th>\n",
       "      <th></th>\n",
       "      <th></th>\n",
       "      <th></th>\n",
       "      <th></th>\n",
       "    </tr>\n",
       "  </thead>\n",
       "  <tbody>\n",
       "    <tr>\n",
       "      <th>Store</th>\n",
       "      <td>1017209</td>\n",
       "      <td>0</td>\n",
       "      <td>0.0%</td>\n",
       "      <td>1115</td>\n",
       "      <td>0.11%</td>\n",
       "      <td>int64</td>\n",
       "    </tr>\n",
       "    <tr>\n",
       "      <th>DayOfWeek</th>\n",
       "      <td>1017209</td>\n",
       "      <td>0</td>\n",
       "      <td>0.0%</td>\n",
       "      <td>7</td>\n",
       "      <td>0.0%</td>\n",
       "      <td>int64</td>\n",
       "    </tr>\n",
       "    <tr>\n",
       "      <th>Date</th>\n",
       "      <td>1017209</td>\n",
       "      <td>0</td>\n",
       "      <td>0.0%</td>\n",
       "      <td>942</td>\n",
       "      <td>0.09%</td>\n",
       "      <td>object</td>\n",
       "    </tr>\n",
       "    <tr>\n",
       "      <th>Sales</th>\n",
       "      <td>1017209</td>\n",
       "      <td>0</td>\n",
       "      <td>0.0%</td>\n",
       "      <td>21734</td>\n",
       "      <td>2.14%</td>\n",
       "      <td>int64</td>\n",
       "    </tr>\n",
       "    <tr>\n",
       "      <th>Customers</th>\n",
       "      <td>1017209</td>\n",
       "      <td>0</td>\n",
       "      <td>0.0%</td>\n",
       "      <td>4086</td>\n",
       "      <td>0.4%</td>\n",
       "      <td>int64</td>\n",
       "    </tr>\n",
       "    <tr>\n",
       "      <th>Open</th>\n",
       "      <td>1017209</td>\n",
       "      <td>0</td>\n",
       "      <td>0.0%</td>\n",
       "      <td>2</td>\n",
       "      <td>0.0%</td>\n",
       "      <td>int64</td>\n",
       "    </tr>\n",
       "    <tr>\n",
       "      <th>Promo</th>\n",
       "      <td>1017209</td>\n",
       "      <td>0</td>\n",
       "      <td>0.0%</td>\n",
       "      <td>2</td>\n",
       "      <td>0.0%</td>\n",
       "      <td>int64</td>\n",
       "    </tr>\n",
       "    <tr>\n",
       "      <th>StateHoliday</th>\n",
       "      <td>1017209</td>\n",
       "      <td>0</td>\n",
       "      <td>0.0%</td>\n",
       "      <td>5</td>\n",
       "      <td>0.0%</td>\n",
       "      <td>object</td>\n",
       "    </tr>\n",
       "    <tr>\n",
       "      <th>SchoolHoliday</th>\n",
       "      <td>1017209</td>\n",
       "      <td>0</td>\n",
       "      <td>0.0%</td>\n",
       "      <td>2</td>\n",
       "      <td>0.0%</td>\n",
       "      <td>int64</td>\n",
       "    </tr>\n",
       "  </tbody>\n",
       "</table>\n",
       "</div>"
      ],
      "text/plain": [
       "                 count  none_count none_percentage  unique_value_count  \\\n",
       "label                                                                    \n",
       "Store          1017209           0            0.0%                1115   \n",
       "DayOfWeek      1017209           0            0.0%                   7   \n",
       "Date           1017209           0            0.0%                 942   \n",
       "Sales          1017209           0            0.0%               21734   \n",
       "Customers      1017209           0            0.0%                4086   \n",
       "Open           1017209           0            0.0%                   2   \n",
       "Promo          1017209           0            0.0%                   2   \n",
       "StateHoliday   1017209           0            0.0%                   5   \n",
       "SchoolHoliday  1017209           0            0.0%                   2   \n",
       "\n",
       "              unique_percentage   dtype  \n",
       "label                                    \n",
       "Store                     0.11%   int64  \n",
       "DayOfWeek                  0.0%   int64  \n",
       "Date                      0.09%  object  \n",
       "Sales                     2.14%   int64  \n",
       "Customers                  0.4%   int64  \n",
       "Open                       0.0%   int64  \n",
       "Promo                      0.0%   int64  \n",
       "StateHoliday               0.0%  object  \n",
       "SchoolHoliday              0.0%   int64  "
      ]
     },
     "execution_count": 98,
     "metadata": {},
     "output_type": "execute_result"
    }
   ],
   "source": [
    "train_overview = Df_Overview(train_df.copy())\n",
    "train_overview.getOverview()[:10]"
   ]
  },
  {
   "cell_type": "markdown",
   "id": "c8f506c1",
   "metadata": {},
   "source": [
    "**Observation-**\n",
    "- The training data has no error and did't require additional pre-processing"
   ]
  },
  {
   "cell_type": "markdown",
   "id": "923a0a9d",
   "metadata": {},
   "source": [
    "#### Looking into test dataset"
   ]
  },
  {
   "cell_type": "code",
   "execution_count": 100,
   "id": "b4223d3a",
   "metadata": {},
   "outputs": [
    {
     "data": {
      "text/html": [
       "<div>\n",
       "<style scoped>\n",
       "    .dataframe tbody tr th:only-of-type {\n",
       "        vertical-align: middle;\n",
       "    }\n",
       "\n",
       "    .dataframe tbody tr th {\n",
       "        vertical-align: top;\n",
       "    }\n",
       "\n",
       "    .dataframe thead th {\n",
       "        text-align: right;\n",
       "    }\n",
       "</style>\n",
       "<table border=\"1\" class=\"dataframe\">\n",
       "  <thead>\n",
       "    <tr style=\"text-align: right;\">\n",
       "      <th></th>\n",
       "      <th>count</th>\n",
       "      <th>none_count</th>\n",
       "      <th>none_percentage</th>\n",
       "      <th>unique_value_count</th>\n",
       "      <th>unique_percentage</th>\n",
       "      <th>dtype</th>\n",
       "    </tr>\n",
       "    <tr>\n",
       "      <th>label</th>\n",
       "      <th></th>\n",
       "      <th></th>\n",
       "      <th></th>\n",
       "      <th></th>\n",
       "      <th></th>\n",
       "      <th></th>\n",
       "    </tr>\n",
       "  </thead>\n",
       "  <tbody>\n",
       "    <tr>\n",
       "      <th>Id</th>\n",
       "      <td>41088</td>\n",
       "      <td>0</td>\n",
       "      <td>0.0%</td>\n",
       "      <td>41088</td>\n",
       "      <td>100.0%</td>\n",
       "      <td>int64</td>\n",
       "    </tr>\n",
       "    <tr>\n",
       "      <th>Store</th>\n",
       "      <td>41088</td>\n",
       "      <td>0</td>\n",
       "      <td>0.0%</td>\n",
       "      <td>856</td>\n",
       "      <td>2.08%</td>\n",
       "      <td>int64</td>\n",
       "    </tr>\n",
       "    <tr>\n",
       "      <th>DayOfWeek</th>\n",
       "      <td>41088</td>\n",
       "      <td>0</td>\n",
       "      <td>0.0%</td>\n",
       "      <td>7</td>\n",
       "      <td>0.02%</td>\n",
       "      <td>int64</td>\n",
       "    </tr>\n",
       "    <tr>\n",
       "      <th>Date</th>\n",
       "      <td>41088</td>\n",
       "      <td>0</td>\n",
       "      <td>0.0%</td>\n",
       "      <td>48</td>\n",
       "      <td>0.12%</td>\n",
       "      <td>object</td>\n",
       "    </tr>\n",
       "    <tr>\n",
       "      <th>Promo</th>\n",
       "      <td>41088</td>\n",
       "      <td>0</td>\n",
       "      <td>0.0%</td>\n",
       "      <td>2</td>\n",
       "      <td>0.0%</td>\n",
       "      <td>int64</td>\n",
       "    </tr>\n",
       "    <tr>\n",
       "      <th>StateHoliday</th>\n",
       "      <td>41088</td>\n",
       "      <td>0</td>\n",
       "      <td>0.0%</td>\n",
       "      <td>2</td>\n",
       "      <td>0.0%</td>\n",
       "      <td>object</td>\n",
       "    </tr>\n",
       "    <tr>\n",
       "      <th>SchoolHoliday</th>\n",
       "      <td>41088</td>\n",
       "      <td>0</td>\n",
       "      <td>0.0%</td>\n",
       "      <td>2</td>\n",
       "      <td>0.0%</td>\n",
       "      <td>int64</td>\n",
       "    </tr>\n",
       "    <tr>\n",
       "      <th>Open</th>\n",
       "      <td>41077</td>\n",
       "      <td>11</td>\n",
       "      <td>0.03%</td>\n",
       "      <td>2</td>\n",
       "      <td>0.0%</td>\n",
       "      <td>float64</td>\n",
       "    </tr>\n",
       "  </tbody>\n",
       "</table>\n",
       "</div>"
      ],
      "text/plain": [
       "               count  none_count none_percentage  unique_value_count  \\\n",
       "label                                                                  \n",
       "Id             41088           0            0.0%               41088   \n",
       "Store          41088           0            0.0%                 856   \n",
       "DayOfWeek      41088           0            0.0%                   7   \n",
       "Date           41088           0            0.0%                  48   \n",
       "Promo          41088           0            0.0%                   2   \n",
       "StateHoliday   41088           0            0.0%                   2   \n",
       "SchoolHoliday  41088           0            0.0%                   2   \n",
       "Open           41077          11           0.03%                   2   \n",
       "\n",
       "              unique_percentage    dtype  \n",
       "label                                     \n",
       "Id                       100.0%    int64  \n",
       "Store                     2.08%    int64  \n",
       "DayOfWeek                 0.02%    int64  \n",
       "Date                      0.12%   object  \n",
       "Promo                      0.0%    int64  \n",
       "StateHoliday               0.0%   object  \n",
       "SchoolHoliday              0.0%    int64  \n",
       "Open                       0.0%  float64  "
      ]
     },
     "execution_count": 100,
     "metadata": {},
     "output_type": "execute_result"
    }
   ],
   "source": [
    "test_overview = Df_Overview(test_df)\n",
    "test_overview.getOverview()"
   ]
  },
  {
   "cell_type": "markdown",
   "id": "e94fe2bf",
   "metadata": {},
   "source": [
    "**Observation-**\n",
    "- Looks fine except the open column has 11 noll values."
   ]
  },
  {
   "cell_type": "code",
   "execution_count": 101,
   "id": "98c4c487",
   "metadata": {},
   "outputs": [
    {
     "data": {
      "text/html": [
       "<div>\n",
       "<style scoped>\n",
       "    .dataframe tbody tr th:only-of-type {\n",
       "        vertical-align: middle;\n",
       "    }\n",
       "\n",
       "    .dataframe tbody tr th {\n",
       "        vertical-align: top;\n",
       "    }\n",
       "\n",
       "    .dataframe thead th {\n",
       "        text-align: right;\n",
       "    }\n",
       "</style>\n",
       "<table border=\"1\" class=\"dataframe\">\n",
       "  <thead>\n",
       "    <tr style=\"text-align: right;\">\n",
       "      <th></th>\n",
       "      <th>Id</th>\n",
       "      <th>Store</th>\n",
       "      <th>DayOfWeek</th>\n",
       "      <th>Date</th>\n",
       "      <th>Open</th>\n",
       "      <th>Promo</th>\n",
       "      <th>StateHoliday</th>\n",
       "      <th>SchoolHoliday</th>\n",
       "    </tr>\n",
       "  </thead>\n",
       "  <tbody>\n",
       "    <tr>\n",
       "      <th>479</th>\n",
       "      <td>480</td>\n",
       "      <td>622</td>\n",
       "      <td>4</td>\n",
       "      <td>2015-09-17</td>\n",
       "      <td>NaN</td>\n",
       "      <td>1</td>\n",
       "      <td>0</td>\n",
       "      <td>0</td>\n",
       "    </tr>\n",
       "    <tr>\n",
       "      <th>1335</th>\n",
       "      <td>1336</td>\n",
       "      <td>622</td>\n",
       "      <td>3</td>\n",
       "      <td>2015-09-16</td>\n",
       "      <td>NaN</td>\n",
       "      <td>1</td>\n",
       "      <td>0</td>\n",
       "      <td>0</td>\n",
       "    </tr>\n",
       "    <tr>\n",
       "      <th>2191</th>\n",
       "      <td>2192</td>\n",
       "      <td>622</td>\n",
       "      <td>2</td>\n",
       "      <td>2015-09-15</td>\n",
       "      <td>NaN</td>\n",
       "      <td>1</td>\n",
       "      <td>0</td>\n",
       "      <td>0</td>\n",
       "    </tr>\n",
       "    <tr>\n",
       "      <th>3047</th>\n",
       "      <td>3048</td>\n",
       "      <td>622</td>\n",
       "      <td>1</td>\n",
       "      <td>2015-09-14</td>\n",
       "      <td>NaN</td>\n",
       "      <td>1</td>\n",
       "      <td>0</td>\n",
       "      <td>0</td>\n",
       "    </tr>\n",
       "    <tr>\n",
       "      <th>4759</th>\n",
       "      <td>4760</td>\n",
       "      <td>622</td>\n",
       "      <td>6</td>\n",
       "      <td>2015-09-12</td>\n",
       "      <td>NaN</td>\n",
       "      <td>0</td>\n",
       "      <td>0</td>\n",
       "      <td>0</td>\n",
       "    </tr>\n",
       "    <tr>\n",
       "      <th>5615</th>\n",
       "      <td>5616</td>\n",
       "      <td>622</td>\n",
       "      <td>5</td>\n",
       "      <td>2015-09-11</td>\n",
       "      <td>NaN</td>\n",
       "      <td>0</td>\n",
       "      <td>0</td>\n",
       "      <td>0</td>\n",
       "    </tr>\n",
       "    <tr>\n",
       "      <th>6471</th>\n",
       "      <td>6472</td>\n",
       "      <td>622</td>\n",
       "      <td>4</td>\n",
       "      <td>2015-09-10</td>\n",
       "      <td>NaN</td>\n",
       "      <td>0</td>\n",
       "      <td>0</td>\n",
       "      <td>0</td>\n",
       "    </tr>\n",
       "    <tr>\n",
       "      <th>7327</th>\n",
       "      <td>7328</td>\n",
       "      <td>622</td>\n",
       "      <td>3</td>\n",
       "      <td>2015-09-09</td>\n",
       "      <td>NaN</td>\n",
       "      <td>0</td>\n",
       "      <td>0</td>\n",
       "      <td>0</td>\n",
       "    </tr>\n",
       "    <tr>\n",
       "      <th>8183</th>\n",
       "      <td>8184</td>\n",
       "      <td>622</td>\n",
       "      <td>2</td>\n",
       "      <td>2015-09-08</td>\n",
       "      <td>NaN</td>\n",
       "      <td>0</td>\n",
       "      <td>0</td>\n",
       "      <td>0</td>\n",
       "    </tr>\n",
       "    <tr>\n",
       "      <th>9039</th>\n",
       "      <td>9040</td>\n",
       "      <td>622</td>\n",
       "      <td>1</td>\n",
       "      <td>2015-09-07</td>\n",
       "      <td>NaN</td>\n",
       "      <td>0</td>\n",
       "      <td>0</td>\n",
       "      <td>0</td>\n",
       "    </tr>\n",
       "    <tr>\n",
       "      <th>10751</th>\n",
       "      <td>10752</td>\n",
       "      <td>622</td>\n",
       "      <td>6</td>\n",
       "      <td>2015-09-05</td>\n",
       "      <td>NaN</td>\n",
       "      <td>0</td>\n",
       "      <td>0</td>\n",
       "      <td>0</td>\n",
       "    </tr>\n",
       "  </tbody>\n",
       "</table>\n",
       "</div>"
      ],
      "text/plain": [
       "          Id  Store  DayOfWeek        Date  Open  Promo StateHoliday  \\\n",
       "479      480    622          4  2015-09-17   NaN      1            0   \n",
       "1335    1336    622          3  2015-09-16   NaN      1            0   \n",
       "2191    2192    622          2  2015-09-15   NaN      1            0   \n",
       "3047    3048    622          1  2015-09-14   NaN      1            0   \n",
       "4759    4760    622          6  2015-09-12   NaN      0            0   \n",
       "5615    5616    622          5  2015-09-11   NaN      0            0   \n",
       "6471    6472    622          4  2015-09-10   NaN      0            0   \n",
       "7327    7328    622          3  2015-09-09   NaN      0            0   \n",
       "8183    8184    622          2  2015-09-08   NaN      0            0   \n",
       "9039    9040    622          1  2015-09-07   NaN      0            0   \n",
       "10751  10752    622          6  2015-09-05   NaN      0            0   \n",
       "\n",
       "       SchoolHoliday  \n",
       "479                0  \n",
       "1335               0  \n",
       "2191               0  \n",
       "3047               0  \n",
       "4759               0  \n",
       "5615               0  \n",
       "6471               0  \n",
       "7327               0  \n",
       "8183               0  \n",
       "9039               0  \n",
       "10751              0  "
      ]
     },
     "execution_count": 101,
     "metadata": {},
     "output_type": "execute_result"
    }
   ],
   "source": [
    "test_df[pd.isnull(test_df['Open'])]"
   ]
  },
  {
   "cell_type": "markdown",
   "id": "2242ba33",
   "metadata": {},
   "source": [
    "- We can see that, all of the null values are from store `622`"
   ]
  },
  {
   "cell_type": "code",
   "execution_count": 105,
   "id": "b715c9d7",
   "metadata": {},
   "outputs": [
    {
     "data": {
      "text/plain": [
       "[]"
      ]
     },
     "execution_count": 105,
     "metadata": {},
     "output_type": "execute_result"
    }
   ],
   "source": [
    "unknown_date = test_df[pd.isnull(test_df['Open'])]['Date'].values\n",
    "temp_df = train_df[train_df['Store'] == 622]\n",
    "[cols for cols in train_df['Store'] if cols in unknown_date]"
   ]
  },
  {
   "cell_type": "markdown",
   "id": "655f50e4",
   "metadata": {},
   "source": [
    "- We can see that there is no record in training data set about store 622 on these days."
   ]
  },
  {
   "cell_type": "code",
   "execution_count": null,
   "id": "baa032d0",
   "metadata": {},
   "outputs": [],
   "source": [
    "#### Apply fill_forward aproach"
   ]
  },
  {
   "cell_type": "code",
   "execution_count": 107,
   "id": "e78b25ec",
   "metadata": {},
   "outputs": [],
   "source": [
    "df_test = my_clean.fix_missing_ffill(test_df, ['Open'])"
   ]
  },
  {
   "cell_type": "code",
   "execution_count": null,
   "id": "b9e9f94e",
   "metadata": {},
   "outputs": [],
   "source": []
  }
 ],
 "metadata": {
  "kernelspec": {
   "display_name": "Python 3 (ipykernel)",
   "language": "python",
   "name": "python3"
  },
  "language_info": {
   "codemirror_mode": {
    "name": "ipython",
    "version": 3
   },
   "file_extension": ".py",
   "mimetype": "text/x-python",
   "name": "python",
   "nbconvert_exporter": "python",
   "pygments_lexer": "ipython3",
   "version": "3.9.12"
  }
 },
 "nbformat": 4,
 "nbformat_minor": 5
}
