{
 "cells": [
  {
   "cell_type": "markdown",
   "id": "235bb612",
   "metadata": {},
   "source": [
    "## Task 1 - *Exploration of customer purchasing behavior*"
   ]
  },
  {
   "cell_type": "markdown",
   "id": "11b25e17",
   "metadata": {},
   "source": [
    "### 1.1. Preprocessing"
   ]
  },
  {
   "cell_type": "markdown",
   "id": "2f956e0c",
   "metadata": {},
   "source": [
    "### *Importing liberaries*"
   ]
  },
  {
   "cell_type": "code",
   "execution_count": 2,
   "id": "87d4500a",
   "metadata": {},
   "outputs": [],
   "source": [
    "import warnings\n",
    "import numpy as np\n",
    "import pandas as pd\n",
    "import seaborn as sns\n",
    "import matplotlib.pyplot as plt"
   ]
  },
  {
   "cell_type": "code",
   "execution_count": 22,
   "id": "f3ebfe94",
   "metadata": {},
   "outputs": [],
   "source": [
    "sys.path.append(os.path.abspath(os.path.join('../modules')))\n",
    "warnings.filterwarnings(\"ignore\")\n",
    "sns.set()"
   ]
  },
  {
   "cell_type": "code",
   "execution_count": 49,
   "id": "0876087a",
   "metadata": {},
   "outputs": [],
   "source": [
    "from load_file import FileHandler\n",
    "from overview import Df_Overview\n",
    "from cleaner import DfCleaner\n",
    "from outlier import DfOutlier\n",
    "from vis_seaborn import VisSeaborn\n",
    "from vis_plotly import VisPlotly"
   ]
  },
  {
   "cell_type": "code",
   "execution_count": 27,
   "id": "e628484a",
   "metadata": {},
   "outputs": [],
   "source": [
    "file_loader = FileHandler()"
   ]
  },
  {
   "cell_type": "code",
   "execution_count": 61,
   "id": "00a714cf",
   "metadata": {},
   "outputs": [
    {
     "name": "stdout",
     "output_type": "stream",
     "text": [
      "2022-05-23 22:51:42,643 — DfHelper — DEBUG — file read as csv\n",
      "2022-05-23 22:51:43,960 — DfHelper — DEBUG — file read as csv\n",
      "2022-05-23 22:51:44,701 — DfHelper — DEBUG — file read as csv\n",
      "\n",
      "### General data Structure ###\n",
      "\n",
      "Stored data: (1115, 10)\n",
      "Train data: (1017209, 9)\n",
      "Test data: (41088, 8)\n"
     ]
    }
   ],
   "source": [
    "stored_df = file_loader.read_csv('../data/store.csv')\n",
    "train_df = file_loader.read_csv('../data/train.csv')\n",
    "test_df = file_loader.read_csv('../data/test.csv')\n",
    "\n",
    "print(\"\\n### General data Structure ###\\n\")\n",
    "\n",
    "print(\"Stored data:\",stored_df.shape)\n",
    "print(\"Train data:\",train_df.shape)\n",
    "print(\"Test data:\",test_df.shape)"
   ]
  },
  {
   "cell_type": "markdown",
   "id": "45d5f573",
   "metadata": {},
   "source": [
    " ### *Feature Dicriptions of the Data* ###\n",
    " \n",
    "The following are descriptions of **Rossmann Pharmaceuticals** data set.\n",
    "- **`Id`** - an Id that represents a (Store, Date) duple within the test set\n",
    "- **`Store`** - a unique Id for each store\n",
    "- **`Sales`** - the turnover for any given day (this is what you are predicting)\n",
    "- **`Customers`** - the number of customers on a given day\n",
    "- **`Open`** - an indicator for whether the store was open: 0 = closed, 1 = open\n",
    "- **`StateHoliday`** - indicates a state holiday. Normally all stores, with few exceptions, are closed on state holidays. \n",
    "\n",
    "**Note that** all schools are closed on public holidays and weekends. a = public holiday, b = Easter holiday, c = Christmas, 0 = None\n",
    "- **`SchoolHoliday`** - indicates if the (Store, Date) was affected by the closure of public schools\n",
    "- **`StoreType`** - differentiates between 4 different store models: a, b, c, d\n",
    "- **`Assortment`** - describes an assortment level: a = basic, b = extra, c = extended. Read more about assortment here\n",
    "- **`CompetitionDistance`** - distance in meters to the nearest competitor store\n",
    "- **`CompetitionOpenSince[Month/Year]`** - gives the approximate year and month of the time the nearest competitor was opened\n",
    "- **`Promo`** - indicates whether a store is running a promo on that day\n",
    "- **`Promo2`** - Promo2 is a continuing and consecutive promotion for some stores: 0 = store is not participating, 1 = store is participating\n",
    "- **`Promo2Since[Year/Week]`** - describes the year and calendar week when the store started participating in Promo2\n",
    "- **`PromoInterval`** - describes the consecutive intervals Promo2 is started, naming the months the promotion is started anew. E.g. \"Feb,May,Aug,Nov\" means each round starts in February, May, August, November of any given year for that store\n",
    "- The data for this challenge can be found https://www.kaggle.com/competitions/rossmann-store-sales/data."
   ]
  },
  {
   "cell_type": "markdown",
   "id": "3f632994",
   "metadata": {},
   "source": [
    "### Information Stored on each dataset"
   ]
  },
  {
   "cell_type": "code",
   "execution_count": 31,
   "id": "e99208dd",
   "metadata": {},
   "outputs": [
    {
     "name": "stdout",
     "output_type": "stream",
     "text": [
      "<class 'pandas.core.frame.DataFrame'>\n",
      "RangeIndex: 1115 entries, 0 to 1114\n",
      "Data columns (total 10 columns):\n",
      " #   Column                     Non-Null Count  Dtype  \n",
      "---  ------                     --------------  -----  \n",
      " 0   Store                      1115 non-null   int64  \n",
      " 1   StoreType                  1115 non-null   object \n",
      " 2   Assortment                 1115 non-null   object \n",
      " 3   CompetitionDistance        1112 non-null   float64\n",
      " 4   CompetitionOpenSinceMonth  761 non-null    float64\n",
      " 5   CompetitionOpenSinceYear   761 non-null    float64\n",
      " 6   Promo2                     1115 non-null   int64  \n",
      " 7   Promo2SinceWeek            571 non-null    float64\n",
      " 8   Promo2SinceYear            571 non-null    float64\n",
      " 9   PromoInterval              571 non-null    object \n",
      "dtypes: float64(5), int64(2), object(3)\n",
      "memory usage: 87.2+ KB\n"
     ]
    }
   ],
   "source": [
    "stored_df.info()"
   ]
  },
  {
   "cell_type": "code",
   "execution_count": 32,
   "id": "3a790b27",
   "metadata": {},
   "outputs": [
    {
     "name": "stdout",
     "output_type": "stream",
     "text": [
      "<class 'pandas.core.frame.DataFrame'>\n",
      "RangeIndex: 1017209 entries, 0 to 1017208\n",
      "Data columns (total 9 columns):\n",
      " #   Column         Non-Null Count    Dtype \n",
      "---  ------         --------------    ----- \n",
      " 0   Store          1017209 non-null  int64 \n",
      " 1   DayOfWeek      1017209 non-null  int64 \n",
      " 2   Date           1017209 non-null  object\n",
      " 3   Sales          1017209 non-null  int64 \n",
      " 4   Customers      1017209 non-null  int64 \n",
      " 5   Open           1017209 non-null  int64 \n",
      " 6   Promo          1017209 non-null  int64 \n",
      " 7   StateHoliday   1017209 non-null  object\n",
      " 8   SchoolHoliday  1017209 non-null  int64 \n",
      "dtypes: int64(7), object(2)\n",
      "memory usage: 69.8+ MB\n"
     ]
    }
   ],
   "source": [
    "train_df.info()"
   ]
  },
  {
   "cell_type": "code",
   "execution_count": 33,
   "id": "c09e6597",
   "metadata": {},
   "outputs": [
    {
     "name": "stdout",
     "output_type": "stream",
     "text": [
      "<class 'pandas.core.frame.DataFrame'>\n",
      "RangeIndex: 41088 entries, 0 to 41087\n",
      "Data columns (total 8 columns):\n",
      " #   Column         Non-Null Count  Dtype  \n",
      "---  ------         --------------  -----  \n",
      " 0   Id             41088 non-null  int64  \n",
      " 1   Store          41088 non-null  int64  \n",
      " 2   DayOfWeek      41088 non-null  int64  \n",
      " 3   Date           41088 non-null  object \n",
      " 4   Open           41077 non-null  float64\n",
      " 5   Promo          41088 non-null  int64  \n",
      " 6   StateHoliday   41088 non-null  object \n",
      " 7   SchoolHoliday  41088 non-null  int64  \n",
      "dtypes: float64(1), int64(5), object(2)\n",
      "memory usage: 2.5+ MB\n"
     ]
    }
   ],
   "source": [
    "test_df.info()"
   ]
  },
  {
   "cell_type": "markdown",
   "id": "633c5a87",
   "metadata": {},
   "source": [
    "## Data Preprocessing"
   ]
  },
  {
   "cell_type": "markdown",
   "id": "4a0ad597",
   "metadata": {},
   "source": [
    "### Cleaning"
   ]
  },
  {
   "cell_type": "code",
   "execution_count": 62,
   "id": "6f26561a",
   "metadata": {},
   "outputs": [],
   "source": [
    "my_clean = DfCleaner()"
   ]
  },
  {
   "cell_type": "code",
   "execution_count": null,
   "id": "58323a00",
   "metadata": {},
   "outputs": [],
   "source": []
  },
  {
   "cell_type": "code",
   "execution_count": null,
   "id": "78e68cfa",
   "metadata": {},
   "outputs": [],
   "source": []
  },
  {
   "cell_type": "code",
   "execution_count": 54,
   "id": "5aab5690",
   "metadata": {},
   "outputs": [
    {
     "data": {
      "text/html": [
       "<div>\n",
       "<style scoped>\n",
       "    .dataframe tbody tr th:only-of-type {\n",
       "        vertical-align: middle;\n",
       "    }\n",
       "\n",
       "    .dataframe tbody tr th {\n",
       "        vertical-align: top;\n",
       "    }\n",
       "\n",
       "    .dataframe thead th {\n",
       "        text-align: right;\n",
       "    }\n",
       "</style>\n",
       "<table border=\"1\" class=\"dataframe\">\n",
       "  <thead>\n",
       "    <tr style=\"text-align: right;\">\n",
       "      <th></th>\n",
       "      <th>count</th>\n",
       "      <th>none_count</th>\n",
       "      <th>none_percentage</th>\n",
       "      <th>unique_value_count</th>\n",
       "      <th>unique_percentage</th>\n",
       "      <th>dtype</th>\n",
       "    </tr>\n",
       "    <tr>\n",
       "      <th>label</th>\n",
       "      <th></th>\n",
       "      <th></th>\n",
       "      <th></th>\n",
       "      <th></th>\n",
       "      <th></th>\n",
       "      <th></th>\n",
       "    </tr>\n",
       "  </thead>\n",
       "  <tbody>\n",
       "    <tr>\n",
       "      <th>Store</th>\n",
       "      <td>1115</td>\n",
       "      <td>0</td>\n",
       "      <td>0.0%</td>\n",
       "      <td>1115</td>\n",
       "      <td>100.0%</td>\n",
       "      <td>int64</td>\n",
       "    </tr>\n",
       "    <tr>\n",
       "      <th>StoreType</th>\n",
       "      <td>1115</td>\n",
       "      <td>0</td>\n",
       "      <td>0.0%</td>\n",
       "      <td>4</td>\n",
       "      <td>0.36%</td>\n",
       "      <td>object</td>\n",
       "    </tr>\n",
       "    <tr>\n",
       "      <th>Assortment</th>\n",
       "      <td>1115</td>\n",
       "      <td>0</td>\n",
       "      <td>0.0%</td>\n",
       "      <td>3</td>\n",
       "      <td>0.27%</td>\n",
       "      <td>object</td>\n",
       "    </tr>\n",
       "    <tr>\n",
       "      <th>Promo2</th>\n",
       "      <td>1115</td>\n",
       "      <td>0</td>\n",
       "      <td>0.0%</td>\n",
       "      <td>2</td>\n",
       "      <td>0.18%</td>\n",
       "      <td>int64</td>\n",
       "    </tr>\n",
       "    <tr>\n",
       "      <th>CompetitionDistance</th>\n",
       "      <td>1112</td>\n",
       "      <td>3</td>\n",
       "      <td>0.27%</td>\n",
       "      <td>654</td>\n",
       "      <td>58.65%</td>\n",
       "      <td>float64</td>\n",
       "    </tr>\n",
       "    <tr>\n",
       "      <th>CompetitionOpenSinceMonth</th>\n",
       "      <td>761</td>\n",
       "      <td>354</td>\n",
       "      <td>31.75%</td>\n",
       "      <td>12</td>\n",
       "      <td>1.08%</td>\n",
       "      <td>float64</td>\n",
       "    </tr>\n",
       "    <tr>\n",
       "      <th>CompetitionOpenSinceYear</th>\n",
       "      <td>761</td>\n",
       "      <td>354</td>\n",
       "      <td>31.75%</td>\n",
       "      <td>23</td>\n",
       "      <td>2.06%</td>\n",
       "      <td>float64</td>\n",
       "    </tr>\n",
       "    <tr>\n",
       "      <th>Promo2SinceWeek</th>\n",
       "      <td>571</td>\n",
       "      <td>544</td>\n",
       "      <td>48.79%</td>\n",
       "      <td>24</td>\n",
       "      <td>2.15%</td>\n",
       "      <td>float64</td>\n",
       "    </tr>\n",
       "    <tr>\n",
       "      <th>Promo2SinceYear</th>\n",
       "      <td>571</td>\n",
       "      <td>544</td>\n",
       "      <td>48.79%</td>\n",
       "      <td>7</td>\n",
       "      <td>0.63%</td>\n",
       "      <td>float64</td>\n",
       "    </tr>\n",
       "    <tr>\n",
       "      <th>PromoInterval</th>\n",
       "      <td>571</td>\n",
       "      <td>544</td>\n",
       "      <td>48.79%</td>\n",
       "      <td>3</td>\n",
       "      <td>0.27%</td>\n",
       "      <td>object</td>\n",
       "    </tr>\n",
       "  </tbody>\n",
       "</table>\n",
       "</div>"
      ],
      "text/plain": [
       "                           count  none_count none_percentage  \\\n",
       "label                                                          \n",
       "Store                       1115           0            0.0%   \n",
       "StoreType                   1115           0            0.0%   \n",
       "Assortment                  1115           0            0.0%   \n",
       "Promo2                      1115           0            0.0%   \n",
       "CompetitionDistance         1112           3           0.27%   \n",
       "CompetitionOpenSinceMonth    761         354          31.75%   \n",
       "CompetitionOpenSinceYear     761         354          31.75%   \n",
       "Promo2SinceWeek              571         544          48.79%   \n",
       "Promo2SinceYear              571         544          48.79%   \n",
       "PromoInterval                571         544          48.79%   \n",
       "\n",
       "                           unique_value_count unique_percentage    dtype  \n",
       "label                                                                     \n",
       "Store                                    1115            100.0%    int64  \n",
       "StoreType                                   4             0.36%   object  \n",
       "Assortment                                  3             0.27%   object  \n",
       "Promo2                                      2             0.18%    int64  \n",
       "CompetitionDistance                       654            58.65%  float64  \n",
       "CompetitionOpenSinceMonth                  12             1.08%  float64  \n",
       "CompetitionOpenSinceYear                   23             2.06%  float64  \n",
       "Promo2SinceWeek                            24             2.15%  float64  \n",
       "Promo2SinceYear                             7             0.63%  float64  \n",
       "PromoInterval                               3             0.27%   object  "
      ]
     },
     "execution_count": 54,
     "metadata": {},
     "output_type": "execute_result"
    }
   ],
   "source": [
    "store_overview = Df_Overview(stored_df)\n",
    "store_overview.getOverview()"
   ]
  },
  {
   "cell_type": "markdown",
   "id": "c2aff6c6",
   "metadata": {},
   "source": [
    "**Observations:-**\n",
    "- From the 10 columns, 6 have a null value. \n",
    "- The column with minimum missing values is in **CompetitionDistance.** and those can be filled with with a median   value.\n",
    "- **PromoInterval, Promo2SinceYear, and Promo2SinceWeek** column has equal number of counts and missed values which is 544.\n",
    "- **CompetitionOpenSinceYear, CompetitionOpenSinceMonth** column has equal number of counts and missed values which is ."
   ]
  },
  {
   "cell_type": "code",
   "execution_count": 63,
   "id": "525a6e0b",
   "metadata": {},
   "outputs": [],
   "source": [
    "stored_df = my_clean.fill_with_median(stored_df, ['CompetitionDistance'])"
   ]
  },
  {
   "cell_type": "markdown",
   "id": "347fc36d",
   "metadata": {},
   "source": [
    "- looking in to `CompetitionDistance`"
   ]
  },
  {
   "cell_type": "code",
   "execution_count": 64,
   "id": "d64bb225",
   "metadata": {},
   "outputs": [
    {
     "name": "stdout",
     "output_type": "stream",
     "text": [
      "[ 1.  2.  3.  4.  5.  6.  7.  8.  9. 10. 11. 12. nan]\n",
      "[1900. 1961. 1990. 1994. 1995. 1998. 1999. 2000. 2001. 2002. 2003. 2004.\n",
      " 2005. 2006. 2007. 2008. 2009. 2010. 2011. 2012. 2013. 2014. 2015.   nan]\n"
     ]
    }
   ],
   "source": [
    "print(np.sort(stored_df['CompetitionOpenSinceMonth'].unique()))\n",
    "print(np.sort(stored_df['CompetitionOpenSinceYear'].unique()))"
   ]
  },
  {
   "cell_type": "markdown",
   "id": "7bd08491",
   "metadata": {},
   "source": [
    "**Observation:-**\n",
    "- `CompetitionOpenSinceMonth` and `CompetitionOpenSinceYear` Columns hold the year and month when a new competition opened.\n",
    "- `CompetitionOpenSinceMonth` and `CompetitionOpenSinceYear` having null value is meaning full. It means competition for a store has already been there before the store is established or there is no competition.\n",
    "- The longest time we have in the dataset is 1900. So I decide to replaced the missed values with the first month 1990."
   ]
  },
  {
   "cell_type": "code",
   "execution_count": 66,
   "id": "1157586f",
   "metadata": {},
   "outputs": [],
   "source": [
    "stored_df['CompetitionOpenSinceMonth'] = stored_df['CompetitionOpenSinceMonth'].fillna(1)\n",
    "stored_df['CompetitionOpenSinceYear'] = stored_df['CompetitionOpenSinceYear'].fillna(1990)"
   ]
  },
  {
   "cell_type": "markdown",
   "id": "b459c65f",
   "metadata": {},
   "source": [
    "- Looking in to the rest columns"
   ]
  },
  {
   "cell_type": "code",
   "execution_count": 67,
   "id": "54d915c9",
   "metadata": {},
   "outputs": [
    {
     "name": "stdout",
     "output_type": "stream",
     "text": [
      "[ 1.  5.  6.  9. 10. 13. 14. 18. 22. 23. 26. 27. 28. 31. 35. 36. 37. 39.\n",
      " 40. 44. 45. 48. 49. 50. nan]\n",
      "[2009. 2010. 2011. 2012. 2013. 2014. 2015.   nan]\n",
      "[nan 'Jan,Apr,Jul,Oct' 'Feb,May,Aug,Nov' 'Mar,Jun,Sept,Dec']\n"
     ]
    }
   ],
   "source": [
    "print(np.sort(stored_df['Promo2SinceWeek'].unique()))\n",
    "print(np.sort(stored_df['Promo2SinceYear'].unique()))\n",
    "print(stored_df['PromoInterval'].unique())"
   ]
  },
  {
   "cell_type": "code",
   "execution_count": 68,
   "id": "83d7690d",
   "metadata": {},
   "outputs": [
    {
     "data": {
      "text/html": [
       "<div>\n",
       "<style scoped>\n",
       "    .dataframe tbody tr th:only-of-type {\n",
       "        vertical-align: middle;\n",
       "    }\n",
       "\n",
       "    .dataframe tbody tr th {\n",
       "        vertical-align: top;\n",
       "    }\n",
       "\n",
       "    .dataframe thead th {\n",
       "        text-align: right;\n",
       "    }\n",
       "</style>\n",
       "<table border=\"1\" class=\"dataframe\">\n",
       "  <thead>\n",
       "    <tr style=\"text-align: right;\">\n",
       "      <th></th>\n",
       "      <th>Promo2SinceWeek</th>\n",
       "      <th>Promo2SinceYear</th>\n",
       "      <th>PromoInterval</th>\n",
       "    </tr>\n",
       "  </thead>\n",
       "  <tbody>\n",
       "    <tr>\n",
       "      <th>0</th>\n",
       "      <td>NaN</td>\n",
       "      <td>NaN</td>\n",
       "      <td>NaN</td>\n",
       "    </tr>\n",
       "    <tr>\n",
       "      <th>3</th>\n",
       "      <td>NaN</td>\n",
       "      <td>NaN</td>\n",
       "      <td>NaN</td>\n",
       "    </tr>\n",
       "    <tr>\n",
       "      <th>4</th>\n",
       "      <td>NaN</td>\n",
       "      <td>NaN</td>\n",
       "      <td>NaN</td>\n",
       "    </tr>\n",
       "    <tr>\n",
       "      <th>5</th>\n",
       "      <td>NaN</td>\n",
       "      <td>NaN</td>\n",
       "      <td>NaN</td>\n",
       "    </tr>\n",
       "    <tr>\n",
       "      <th>6</th>\n",
       "      <td>NaN</td>\n",
       "      <td>NaN</td>\n",
       "      <td>NaN</td>\n",
       "    </tr>\n",
       "  </tbody>\n",
       "</table>\n",
       "</div>"
      ],
      "text/plain": [
       "   Promo2SinceWeek  Promo2SinceYear PromoInterval\n",
       "0              NaN              NaN           NaN\n",
       "3              NaN              NaN           NaN\n",
       "4              NaN              NaN           NaN\n",
       "5              NaN              NaN           NaN\n",
       "6              NaN              NaN           NaN"
      ]
     },
     "execution_count": 68,
     "metadata": {},
     "output_type": "execute_result"
    }
   ],
   "source": [
    "stored_df[stored_df['Promo2'] == 0][['Promo2SinceWeek', 'Promo2SinceYear', 'PromoInterval']].head(5)"
   ]
  },
  {
   "cell_type": "markdown",
   "id": "5d80ae7c",
   "metadata": {},
   "source": [
    "**Observation:-** \n",
    "- The three columns are dependent on Promo2, and those messing the value is because Promo2 is equal to **zero**. \n",
    "- So it is expected to create a new column holding if the store participated in promo2 and then we can replace Promo2SinceYear and Promo2SinceWeek with the earliest month and week."
   ]
  },
  {
   "cell_type": "code",
   "execution_count": 70,
   "id": "ad02f6c0",
   "metadata": {},
   "outputs": [
    {
     "name": "stdout",
     "output_type": "stream",
     "text": [
      "True\n"
     ]
    }
   ],
   "source": [
    "print(pd.isnull(stored_df['PromoInterval'][0]))"
   ]
  },
  {
   "cell_type": "code",
   "execution_count": null,
   "id": "e2967bce",
   "metadata": {},
   "outputs": [],
   "source": [
    "stored_df['Promo2SinceWeek'] = stored_df['Promo2SinceWeek'].fillna(0)\n",
    "stored_df['Promo2SinceYear'] = stored_df['CompetitionOpenSinceYear'].fillna(0)"
   ]
  },
  {
   "cell_type": "markdown",
   "id": "bab90405",
   "metadata": {},
   "source": [
    "- From the previous resulst we observed that Entries in PromotionInterval have 4 entries. \n",
    "- So I am going to will split those points into 4 columns"
   ]
  },
  {
   "cell_type": "code",
   "execution_count": null,
   "id": "977d252a",
   "metadata": {},
   "outputs": [],
   "source": []
  },
  {
   "cell_type": "code",
   "execution_count": null,
   "id": "9451dc51",
   "metadata": {},
   "outputs": [],
   "source": []
  },
  {
   "cell_type": "code",
   "execution_count": null,
   "id": "31862303",
   "metadata": {},
   "outputs": [],
   "source": []
  }
 ],
 "metadata": {
  "kernelspec": {
   "display_name": "Python 3 (ipykernel)",
   "language": "python",
   "name": "python3"
  },
  "language_info": {
   "codemirror_mode": {
    "name": "ipython",
    "version": 3
   },
   "file_extension": ".py",
   "mimetype": "text/x-python",
   "name": "python",
   "nbconvert_exporter": "python",
   "pygments_lexer": "ipython3",
   "version": "3.9.12"
  }
 },
 "nbformat": 4,
 "nbformat_minor": 5
}
